{
 "cells": [
  {
   "cell_type": "markdown",
   "id": "72e7a51a-2fe7-4599-b90a-dd9f6cba8cc0",
   "metadata": {},
   "source": [
    "### Operations Using Functions"
   ]
  },
  {
   "cell_type": "code",
   "execution_count": 37,
   "id": "db4d4d31-ced0-47b3-a3e2-fdc7cc9ee295",
   "metadata": {},
   "outputs": [
    {
     "name": "stdin",
     "output_type": "stream",
     "text": [
      " 1992\n"
     ]
    },
    {
     "name": "stdout",
     "output_type": "stream",
     "text": [
      "True\n"
     ]
    }
   ],
   "source": [
    "def is_leap(year):\n",
    "    leap = False\n",
    "    \n",
    "    if(year%400==0 or (year%4==0 and year%100!=0)):   \n",
    "        leap = True\n",
    "    return leap\n",
    "\n",
    "year = int(input())\n",
    "print(is_leap(year))"
   ]
  },
  {
   "cell_type": "code",
   "execution_count": 7,
   "id": "3110381a-8dc8-4ddd-ad17-054f96c3c823",
   "metadata": {},
   "outputs": [
    {
     "name": "stdin",
     "output_type": "stream",
     "text": [
      " Lina\n"
     ]
    },
    {
     "name": "stdout",
     "output_type": "stream",
     "text": [
      "Hello Lina\n"
     ]
    }
   ],
   "source": [
    "def hello(n):\n",
    "    return \"Hello \"+n\n",
    "\n",
    "name = input()\n",
    "print(hello(name))"
   ]
  },
  {
   "cell_type": "code",
   "execution_count": 4,
   "id": "1484a546-a807-447c-a0a4-5b74b546deb4",
   "metadata": {},
   "outputs": [
    {
     "name": "stdin",
     "output_type": "stream",
     "text": [
      " 5\n",
      " 6\n"
     ]
    },
    {
     "name": "stdout",
     "output_type": "stream",
     "text": [
      "11\n"
     ]
    }
   ],
   "source": [
    "def add(x,y):\n",
    "    return x+y\n",
    "\n",
    "a = int(input())\n",
    "b = int(input())\n",
    "print(add(a,b))"
   ]
  },
  {
   "cell_type": "code",
   "execution_count": 5,
   "id": "fb5feacf-c618-44e0-b979-5b74d0717ff6",
   "metadata": {},
   "outputs": [
    {
     "name": "stdin",
     "output_type": "stream",
     "text": [
      " 5\n",
      " 6\n"
     ]
    },
    {
     "name": "stdout",
     "output_type": "stream",
     "text": [
      "56\n"
     ]
    }
   ],
   "source": [
    "def add(x,y):\n",
    "    return x+y\n",
    "\n",
    "a = input()\n",
    "b = input()\n",
    "print(add(a,b))"
   ]
  },
  {
   "cell_type": "code",
   "execution_count": 9,
   "id": "9c9c9f6c-950b-461d-83ae-5a68b6ab1ec6",
   "metadata": {
    "scrolled": true
   },
   "outputs": [
    {
     "name": "stdin",
     "output_type": "stream",
     "text": [
      "Enter Number:  2\n",
      "Enter Power:  5\n"
     ]
    },
    {
     "name": "stdout",
     "output_type": "stream",
     "text": [
      "32\n"
     ]
    }
   ],
   "source": [
    "def power(x,y):\n",
    "    return pow(x,y)\n",
    "\n",
    "a = int(input(\"Enter Number: \"))\n",
    "b = int(input(\"Enter Power: \"))\n",
    "print(power(a,b))"
   ]
  },
  {
   "cell_type": "markdown",
   "id": "1b5d3572-458c-48a0-81c1-da6468f1dbd6",
   "metadata": {},
   "source": [
    "### if-elif-else opeartions on functions"
   ]
  },
  {
   "cell_type": "code",
   "execution_count": 36,
   "id": "3df5fe8b-2c4f-49b6-b68c-1a92faabb99c",
   "metadata": {},
   "outputs": [
    {
     "name": "stdin",
     "output_type": "stream",
     "text": [
      " 34\n"
     ]
    },
    {
     "name": "stdout",
     "output_type": "stream",
     "text": [
      "True\n"
     ]
    }
   ],
   "source": [
    "def checker(n):\n",
    "    if n%2==0:   \n",
    "       return True\n",
    "    else:\n",
    "        return False\n",
    "n = int(input())\n",
    "print(checker(n))"
   ]
  },
  {
   "cell_type": "code",
   "execution_count": 3,
   "id": "3506c37e-ae54-4d8b-a410-6bc04fc5ff2d",
   "metadata": {},
   "outputs": [
    {
     "name": "stdin",
     "output_type": "stream",
     "text": [
      " 2\n",
      " lara@hackerrank.com\n",
      " britts_54@hackerrank.com\n"
     ]
    },
    {
     "name": "stdout",
     "output_type": "stream",
     "text": [
      "['britts_54@hackerrank.com', 'lara@hackerrank.com']\n"
     ]
    }
   ],
   "source": [
    "import re\n",
    "def fun(s):\n",
    "    pattern = r\"^[\\w-]+@[A-Za-z0-9]+\\.[a-zA-Z]{1,3}$\"\n",
    "    return (re.match(pattern, s))\n",
    "    \n",
    "def filter_mail(emails):\n",
    "    return list(filter(fun, emails))\n",
    "\n",
    "if __name__ == '__main__':\n",
    "    n = int(input())\n",
    "    emails = []\n",
    "    for _ in range(n):\n",
    "        emails.append(input())\n",
    "\n",
    "filtered_emails = filter_mail(emails)\n",
    "filtered_emails.sort()\n",
    "print(filtered_emails)"
   ]
  },
  {
   "cell_type": "code",
   "execution_count": 21,
   "id": "b7695692-8369-4ae0-a362-80c2253b1d85",
   "metadata": {},
   "outputs": [
    {
     "name": "stdin",
     "output_type": "stream",
     "text": [
      " 56\n"
     ]
    },
    {
     "name": "stdout",
     "output_type": "stream",
     "text": [
      "Even and Greater than 20\n"
     ]
    }
   ],
   "source": [
    "def fun(n):\n",
    "   if n%2!=0:\n",
    "       return \"Odd\"\n",
    "   elif n>=2 and n<=5 : \n",
    "       return \"Even and in range of (2,5)\"\n",
    "   elif n>=6 and n<=20:\n",
    "        return \"Even and in range of (6,20)\"\n",
    "   elif n>=20:\n",
    "        return \"Even and Greater than 20\"\n",
    "        \n",
    "n = int(input())\n",
    "print(fun(n))"
   ]
  },
  {
   "cell_type": "code",
   "execution_count": 22,
   "id": "f2dfe5dd-cf51-4251-9822-91166a3c0291",
   "metadata": {},
   "outputs": [
    {
     "data": {
      "text/plain": [
       "[2, 10, 7, 3, 1, 8, 4, 9, 6, 5]"
      ]
     },
     "execution_count": 22,
     "metadata": {},
     "output_type": "execute_result"
    }
   ],
   "source": [
    "from random import shuffle\n",
    "\n",
    "l = [1,2,3,4,5,6,7,8,9,10]\n",
    "shuffle(l)\n",
    "l"
   ]
  },
  {
   "cell_type": "markdown",
   "id": "c239c1b7-eca0-42e4-abc3-2ab8f4d4f330",
   "metadata": {},
   "source": [
    "### Tuple Operations using Function "
   ]
  },
  {
   "cell_type": "code",
   "execution_count": 23,
   "id": "ef9de483-60bc-480f-bb90-3ff9dab9f34d",
   "metadata": {},
   "outputs": [],
   "source": [
    "work_hours = [('Abby', 100), ('Billy',400), ('Cassie', 800)]"
   ]
  },
  {
   "cell_type": "code",
   "execution_count": 25,
   "id": "5d9b43a5-4e1d-4bdf-a3da-a1e41189d14f",
   "metadata": {},
   "outputs": [
    {
     "data": {
      "text/plain": [
       "('Cassie', 800)"
      ]
     },
     "execution_count": 25,
     "metadata": {},
     "output_type": "execute_result"
    }
   ],
   "source": [
    "def employee_check(work_hours):\n",
    "    current_max =0 \n",
    "    employee_of_month = ''\n",
    " \n",
    "    for employee, hours in work_hours:\n",
    "        if hours > current_max:\n",
    "            current_max = hours \n",
    "            employee_of_month = employee\n",
    "        else:\n",
    "            pass\n",
    " \n",
    "    return(employee_of_month, current_max)\n",
    "\n",
    "employee_check(work_hours)"
   ]
  },
  {
   "cell_type": "code",
   "execution_count": 28,
   "id": "e595e94a-ecca-400d-9fbc-f4c8704d4609",
   "metadata": {},
   "outputs": [
    {
     "data": {
      "text/plain": [
       "6.5"
      ]
     },
     "execution_count": 28,
     "metadata": {},
     "output_type": "execute_result"
    }
   ],
   "source": [
    "def fun(a,b,c=0):\n",
    "    return (a+b+c)* 0.05\n",
    "\n",
    "fun(100,30)"
   ]
  },
  {
   "cell_type": "markdown",
   "id": "18a8211f-8d97-4ed5-9b7c-24440a60e68a",
   "metadata": {},
   "source": [
    "### args keyword"
   ]
  },
  {
   "cell_type": "code",
   "execution_count": 32,
   "id": "60359b79-2dc1-4d43-af2b-d105ef7f9c5b",
   "metadata": {},
   "outputs": [
    {
     "data": {
      "text/plain": [
       "29.0"
      ]
     },
     "execution_count": 32,
     "metadata": {},
     "output_type": "execute_result"
    }
   ],
   "source": [
    "def fun(*args):\n",
    "    return sum(args)* 0.05\n",
    "\n",
    "fun(100,30,400,50)"
   ]
  },
  {
   "cell_type": "markdown",
   "id": "6fa8407a-929a-45aa-825a-2537ba9f7380",
   "metadata": {},
   "source": [
    "### kwargs keyword"
   ]
  },
  {
   "cell_type": "code",
   "execution_count": 34,
   "id": "8bd194bb-fa04-495c-9437-01cd40df3b92",
   "metadata": {},
   "outputs": [
    {
     "name": "stdout",
     "output_type": "stream",
     "text": [
      "{'fruit': 'Watermelon', 'veggie': 'Potato'}\n",
      "Watermelon\n"
     ]
    }
   ],
   "source": [
    "def fun(**kwargs):\n",
    "    print(kwargs)\n",
    "    if 'fruit' in kwargs:\n",
    "        print(f\"{kwargs['fruit']}\")\n",
    "    else:\n",
    "        print(\"No\")\n",
    "\n",
    "fun(fruit = 'Watermelon',veggie = 'Potato')"
   ]
  },
  {
   "cell_type": "markdown",
   "id": "342a712c-c627-4c14-b1b6-95ba2bfb6004",
   "metadata": {},
   "source": [
    "### Lambda Functions: Map and Filter"
   ]
  },
  {
   "cell_type": "code",
   "execution_count": 40,
   "id": "6ee3cfa3-c9c7-42f2-848b-31f69774f103",
   "metadata": {},
   "outputs": [
    {
     "name": "stdout",
     "output_type": "stream",
     "text": [
      "1\n",
      "4\n",
      "9\n",
      "16\n",
      "25\n",
      "36\n",
      "49\n",
      "64\n",
      "81\n",
      "100\n"
     ]
    }
   ],
   "source": [
    "def sq(n):\n",
    "    return n**2\n",
    "\n",
    "num = [1,2,3,4,5,6,7,8,9,10]\n",
    "\n",
    "for i in map(sq,num):\n",
    "    print(i)"
   ]
  },
  {
   "cell_type": "code",
   "execution_count": 42,
   "id": "4d86efd7-7c92-45d0-92f6-1c91561be113",
   "metadata": {},
   "outputs": [
    {
     "data": {
      "text/plain": [
       "[1, 4, 9, 16, 25, 36, 49, 64, 81, 100]"
      ]
     },
     "execution_count": 42,
     "metadata": {},
     "output_type": "execute_result"
    }
   ],
   "source": [
    "list(map(sq,num))"
   ]
  },
  {
   "cell_type": "code",
   "execution_count": 49,
   "id": "03db1813-d624-4ae5-81fd-06f47e3ae036",
   "metadata": {},
   "outputs": [
    {
     "name": "stdout",
     "output_type": "stream",
     "text": [
      "2\n",
      "4\n",
      "6\n",
      "8\n",
      "10\n"
     ]
    }
   ],
   "source": [
    "for i in filter(checker,num):\n",
    "    print(i)"
   ]
  },
  {
   "cell_type": "code",
   "execution_count": 50,
   "id": "b0ff15cc-3b72-49bd-a621-1ebdd2d279b6",
   "metadata": {},
   "outputs": [],
   "source": [
    "sq = lambda num : num**2"
   ]
  },
  {
   "cell_type": "code",
   "execution_count": 51,
   "id": "60be379e-21a8-4fd8-8fe6-b4db79bbf277",
   "metadata": {},
   "outputs": [
    {
     "data": {
      "text/plain": [
       "25"
      ]
     },
     "execution_count": 51,
     "metadata": {},
     "output_type": "execute_result"
    }
   ],
   "source": [
    "sq(5)"
   ]
  },
  {
   "cell_type": "markdown",
   "id": "a98a1267-0545-475e-9096-b92777bb95d6",
   "metadata": {},
   "source": [
    "### Nested Statements"
   ]
  },
  {
   "cell_type": "code",
   "execution_count": 53,
   "id": "d5e30346-cb63-4e44-8f07-588bc74c3248",
   "metadata": {},
   "outputs": [
    {
     "name": "stdout",
     "output_type": "stream",
     "text": [
      "Hello Hi\n"
     ]
    }
   ],
   "source": [
    "n = \" Global\"\n",
    "\n",
    "def fun():\n",
    "    n = \"Lina\"\n",
    "\n",
    "    def hello():\n",
    "        n = \"Hi\"\n",
    "        print(\"Hello \"+n)\n",
    "    hello()\n",
    "fun()"
   ]
  },
  {
   "cell_type": "code",
   "execution_count": 54,
   "id": "f097bbdd-c633-405f-ade9-7a771189e4e1",
   "metadata": {},
   "outputs": [
    {
     "name": "stdout",
     "output_type": "stream",
     "text": [
      "Hello Lina\n"
     ]
    }
   ],
   "source": [
    "n = \" Global\"\n",
    "\n",
    "def fun():\n",
    "    n = \"Lina\"\n",
    "\n",
    "    def hello():\n",
    "        #n = \"Hi\"\n",
    "        print(\"Hello \"+n)\n",
    "    hello()\n",
    "fun()"
   ]
  },
  {
   "cell_type": "code",
   "execution_count": 56,
   "id": "0be14cbf-a003-4fa8-8517-85784791e414",
   "metadata": {},
   "outputs": [
    {
     "name": "stdout",
     "output_type": "stream",
     "text": [
      "Hello Global\n"
     ]
    }
   ],
   "source": [
    "n = \"Global\"\n",
    "\n",
    "def fun():\n",
    "    #n = \"Lina\"\n",
    "\n",
    "    def hello():\n",
    "        #n = \"Hi\"\n",
    "        print(\"Hello \"+n)\n",
    "    hello()\n",
    "fun()"
   ]
  }
 ],
 "metadata": {
  "kernelspec": {
   "display_name": "Python 3 (ipykernel)",
   "language": "python",
   "name": "python3"
  },
  "language_info": {
   "codemirror_mode": {
    "name": "ipython",
    "version": 3
   },
   "file_extension": ".py",
   "mimetype": "text/x-python",
   "name": "python",
   "nbconvert_exporter": "python",
   "pygments_lexer": "ipython3",
   "version": "3.13.5"
  }
 },
 "nbformat": 4,
 "nbformat_minor": 5
}
