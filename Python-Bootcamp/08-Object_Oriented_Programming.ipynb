{
 "cells": [
  {
   "cell_type": "markdown",
   "id": "60cb098e-3d13-4b8c-add9-0848a6b179e2",
   "metadata": {},
   "source": [
    "### Classes"
   ]
  },
  {
   "cell_type": "code",
   "execution_count": 1,
   "id": "76391624-2387-423f-80ce-49b94a27a61a",
   "metadata": {},
   "outputs": [],
   "source": [
    "class sample():\n",
    "    pass"
   ]
  },
  {
   "cell_type": "code",
   "execution_count": 4,
   "id": "a19a611e-d838-43ef-85b0-ad4862d46b1e",
   "metadata": {},
   "outputs": [
    {
     "data": {
      "text/plain": [
       "__main__.sample"
      ]
     },
     "execution_count": 4,
     "metadata": {},
     "output_type": "execute_result"
    }
   ],
   "source": [
    "my = sample()\n",
    "type(my)"
   ]
  },
  {
   "cell_type": "code",
   "execution_count": 15,
   "id": "0ccb3669-2a00-4f15-83d8-5dd1d59ceb94",
   "metadata": {},
   "outputs": [
    {
     "name": "stdout",
     "output_type": "stream",
     "text": [
      "Breed Type: Husky\n",
      "Dog Name: Bruno\n"
     ]
    }
   ],
   "source": [
    "class dog():\n",
    "    def __init__(self,breed,name):\n",
    "        self.breed = breed\n",
    "        self.name = name\n",
    "\n",
    "d = dog(breed = 'Husky', name = 'Bruno')\n",
    "print(f\"Breed Type: {d.breed}\")\n",
    "print(f\"Dog Name: {d.name}\")"
   ]
  },
  {
   "cell_type": "code",
   "execution_count": 12,
   "id": "3084380a-074f-4ba8-b7b1-6bfdadbbf892",
   "metadata": {},
   "outputs": [
    {
     "data": {
      "text/plain": [
       "__main__.dog"
      ]
     },
     "execution_count": 12,
     "metadata": {},
     "output_type": "execute_result"
    }
   ],
   "source": [
    "type(d)"
   ]
  },
  {
   "cell_type": "markdown",
   "id": "7e4c37b2-c05e-4536-a9b1-9b9c9d02af4f",
   "metadata": {},
   "source": [
    "### Objects Attributes and Methods"
   ]
  },
  {
   "cell_type": "code",
   "execution_count": 27,
   "id": "76dd65f1-cfd7-4864-a80a-277199f0cc3d",
   "metadata": {},
   "outputs": [
    {
     "name": "stdout",
     "output_type": "stream",
     "text": [
      "Woof! My name is Bruno and my age is 10.\n"
     ]
    }
   ],
   "source": [
    "class dog():\n",
    "    def __init__(self,breed,name,age):\n",
    "        self.breed = breed\n",
    "        self.name = name\n",
    "        self.age = age\n",
    "\n",
    "    def bark(self):\n",
    "        print(f\"Woof! My name is {self.name} and my age is {self.age}.\")\n",
    "\n",
    "d = dog(breed = 'Husky', name = 'Bruno', age = 10)\n",
    "d.bark()"
   ]
  },
  {
   "cell_type": "code",
   "execution_count": 39,
   "id": "53cfef37-225d-4e52-b2cb-ca3757572ca1",
   "metadata": {},
   "outputs": [
    {
     "name": "stdin",
     "output_type": "stream",
     "text": [
      "Enter the Radius of Circle: 2.5\n"
     ]
    },
    {
     "name": "stdout",
     "output_type": "stream",
     "text": [
      "The Area of Circle is 19.625\n"
     ]
    }
   ],
   "source": [
    "class circle():\n",
    "    pi = 3.14\n",
    "    def __init__(self,r):\n",
    "        self.r = r\n",
    "    def area(self):\n",
    "        return self.pi*self.r**2\n",
    "\n",
    "radius = float(input(\"Enter the Radius of Circle:\"))\n",
    "c = circle(r = radius)\n",
    "result = c.area()\n",
    "print(f\"The Area of Circle is {result}\")"
   ]
  },
  {
   "cell_type": "markdown",
   "id": "ae9f0d93-07ad-4fa5-9369-804ffaaa7552",
   "metadata": {},
   "source": [
    "### Inheritance"
   ]
  },
  {
   "cell_type": "code",
   "execution_count": 42,
   "id": "890cad51-9765-4e22-a4dd-9303093aef3a",
   "metadata": {},
   "outputs": [
    {
     "name": "stdout",
     "output_type": "stream",
     "text": [
      "Animal Class Created.\n",
      "I am an Animal.\n",
      "I am eating.\n"
     ]
    }
   ],
   "source": [
    "class animal():\n",
    "    def __init__(self):\n",
    "        print(\"Animal Class Created.\")\n",
    "    def who(self):\n",
    "        print(\"I am an Animal.\")\n",
    "    def eat(self):\n",
    "        print(\"I am eating.\")\n",
    "\n",
    "a = animal()\n",
    "a.who()\n",
    "a.eat()"
   ]
  },
  {
   "cell_type": "code",
   "execution_count": 48,
   "id": "3ebb4aba-092f-4441-8cde-437c9a504790",
   "metadata": {},
   "outputs": [
    {
     "name": "stdout",
     "output_type": "stream",
     "text": [
      "dog Class created from Class animal.\n",
      "Hi! I am a Dog. My name is Bruno and my age is 10.\n",
      "Woof!\n"
     ]
    }
   ],
   "source": [
    "class dog(animal):\n",
    "    def __init__(self,name,age):\n",
    "        self.name = name\n",
    "        self.age = age\n",
    "        print(\"dog Class created from Class animal.\")\n",
    "    def who(self):\n",
    "        print(f\"Hi! I am a Dog. My name is {self.name} and my age is {self.age}.\")\n",
    "    def bark(self):\n",
    "        print(f\"Woof!\")\n",
    "\n",
    "d = dog(name = 'Bruno', age = 10)\n",
    "d.who()\n",
    "d.bark()"
   ]
  },
  {
   "cell_type": "markdown",
   "id": "12af9f4a-1f95-49cd-ab2e-8cd0cdf8c6a6",
   "metadata": {},
   "source": [
    "### Polymorphism"
   ]
  },
  {
   "cell_type": "code",
   "execution_count": 58,
   "id": "fbb0be40-b65b-42a0-b2af-ba6de528cc74",
   "metadata": {},
   "outputs": [],
   "source": [
    "class dog(animal):\n",
    "    def __init__(self,name):\n",
    "        self.name = name\n",
    "    def speak(self):\n",
    "        print(self.name +\" says Woof!\")"
   ]
  },
  {
   "cell_type": "code",
   "execution_count": 57,
   "id": "55a8fe66-e49a-45e2-b38f-e112d741dc7b",
   "metadata": {},
   "outputs": [],
   "source": [
    "class cat(animal):\n",
    "    def __init__(self,name):\n",
    "        self.name = name\n",
    "    def speak(self):\n",
    "        print(self.name +\" says meow!\")"
   ]
  },
  {
   "cell_type": "code",
   "execution_count": 60,
   "id": "888aa52a-2c83-485e-a843-2ebfb60ee479",
   "metadata": {},
   "outputs": [],
   "source": [
    "bruno = dog(\"Bruno\")\n",
    "tennu = cat(\"tennu\")"
   ]
  },
  {
   "cell_type": "code",
   "execution_count": 61,
   "id": "c9c7069f-6fa2-491e-811e-28c114c74309",
   "metadata": {},
   "outputs": [
    {
     "name": "stdout",
     "output_type": "stream",
     "text": [
      "Bruno says Woof!\n"
     ]
    }
   ],
   "source": [
    "bruno.speak()"
   ]
  },
  {
   "cell_type": "code",
   "execution_count": 62,
   "id": "f66492e3-56eb-429b-b9f2-2e588897177a",
   "metadata": {},
   "outputs": [
    {
     "name": "stdout",
     "output_type": "stream",
     "text": [
      "tennu says meow!\n"
     ]
    }
   ],
   "source": [
    "tennu.speak()"
   ]
  },
  {
   "cell_type": "code",
   "execution_count": 68,
   "id": "a06e1fb5-4561-41a5-8ff3-6759f103e766",
   "metadata": {},
   "outputs": [
    {
     "name": "stdout",
     "output_type": "stream",
     "text": [
      "<class '__main__.dog'>\n",
      "Bruno says Woof!\n",
      "None\n",
      "<class '__main__.cat'>\n",
      "tennu says meow!\n",
      "None\n"
     ]
    }
   ],
   "source": [
    "for pet in [bruno,tennu]:\n",
    "    \n",
    "    print(type(pet))\n",
    "    print(pet.speak())"
   ]
  },
  {
   "cell_type": "code",
   "execution_count": 73,
   "id": "90449741-7add-453e-a000-e66533225e2f",
   "metadata": {},
   "outputs": [],
   "source": [
    "def pet_speak(pet):\n",
    "    print(pet.speak())"
   ]
  },
  {
   "cell_type": "code",
   "execution_count": 74,
   "id": "394b3d1d-869f-4ba9-a735-6119362dea5e",
   "metadata": {},
   "outputs": [
    {
     "name": "stdout",
     "output_type": "stream",
     "text": [
      "Bruno says Woof!\n",
      "None\n"
     ]
    }
   ],
   "source": [
    "pet_speak(bruno)"
   ]
  },
  {
   "cell_type": "code",
   "execution_count": 75,
   "id": "2e5bfc79-bccf-45ed-95e2-4837f3c64dde",
   "metadata": {},
   "outputs": [
    {
     "name": "stdout",
     "output_type": "stream",
     "text": [
      "tennu says meow!\n",
      "None\n"
     ]
    }
   ],
   "source": [
    "pet_speak(tennu)"
   ]
  },
  {
   "cell_type": "code",
   "execution_count": 80,
   "id": "fbf7ffd0-5360-4262-972e-0de1b17a55e5",
   "metadata": {},
   "outputs": [
    {
     "ename": "NameError",
     "evalue": "name 'NotImplementederror' is not defined",
     "output_type": "error",
     "traceback": [
      "\u001b[1;31m---------------------------------------------------------------------------\u001b[0m",
      "\u001b[1;31mNameError\u001b[0m                                 Traceback (most recent call last)",
      "Cell \u001b[1;32mIn[80], line 8\u001b[0m\n\u001b[0;32m      5\u001b[0m         \u001b[38;5;28;01mraise\u001b[39;00m NotImplementederror(\u001b[38;5;124m\"\u001b[39m\u001b[38;5;124mSubclass must implement this abstract method.\u001b[39m\u001b[38;5;124m\"\u001b[39m)\n\u001b[0;32m      7\u001b[0m a \u001b[38;5;241m=\u001b[39m animal(\u001b[38;5;124m'\u001b[39m\u001b[38;5;124mBruno\u001b[39m\u001b[38;5;124m'\u001b[39m)\n\u001b[1;32m----> 8\u001b[0m a\u001b[38;5;241m.\u001b[39mspeak()\n",
      "Cell \u001b[1;32mIn[80], line 5\u001b[0m, in \u001b[0;36manimal.speak\u001b[1;34m(self)\u001b[0m\n\u001b[0;32m      4\u001b[0m \u001b[38;5;28;01mdef\u001b[39;00m\u001b[38;5;250m \u001b[39m\u001b[38;5;21mspeak\u001b[39m(\u001b[38;5;28mself\u001b[39m):\n\u001b[1;32m----> 5\u001b[0m     \u001b[38;5;28;01mraise\u001b[39;00m NotImplementederror(\u001b[38;5;124m\"\u001b[39m\u001b[38;5;124mSubclass must implement this abstract method.\u001b[39m\u001b[38;5;124m\"\u001b[39m)\n",
      "\u001b[1;31mNameError\u001b[0m: name 'NotImplementederror' is not defined"
     ]
    }
   ],
   "source": [
    "class animal():\n",
    "    def __init__(self,name):\n",
    "        self.name = name\n",
    "    def speak(self):\n",
    "        raise NotImplementederror(\"Subclass must implement this abstract method.\")\n",
    "\n",
    "a = animal('Bruno')\n",
    "a.speak()"
   ]
  },
  {
   "cell_type": "code",
   "execution_count": 79,
   "id": "977afe60-6430-42b0-b413-cc5642f7eb8e",
   "metadata": {},
   "outputs": [
    {
     "name": "stdout",
     "output_type": "stream",
     "text": [
      "Bruno says Woof!\n"
     ]
    }
   ],
   "source": [
    "class dog(animal):\n",
    "    def __init__(self,name):\n",
    "        self.name = name\n",
    "    def speak(self):\n",
    "        print(self.name +\" says Woof!\")\n",
    "\n",
    "bruno = dog('Bruno')\n",
    "bruno.speak()"
   ]
  },
  {
   "cell_type": "markdown",
   "id": "87a20db6-e935-4167-858e-5ad7f95322cb",
   "metadata": {},
   "source": [
    "### MagicDunder Method"
   ]
  },
  {
   "cell_type": "code",
   "execution_count": 4,
   "id": "8806c8b7-508a-403e-afc6-e879034ab65c",
   "metadata": {},
   "outputs": [
    {
     "name": "stdout",
     "output_type": "stream",
     "text": [
      "Object has been deleted.\n",
      "Python by Jose\n",
      "300\n",
      "Python by Jose\n"
     ]
    }
   ],
   "source": [
    "class book():\n",
    "    def __init__(self, name, author, pages):\n",
    "        self.name = name\n",
    "        self.author = author\n",
    "        self.pages = pages\n",
    "    def __str__(self):\n",
    "        return f\"{self.name} by {self.author}\"\n",
    "    def __len__(self):\n",
    "        return self.pages\n",
    "    def __del__(self):\n",
    "        print(\"Object has been deleted.\")\n",
    "\n",
    "b = book(\"Python\",\"Jose\",300)\n",
    "print(str(b))\n",
    "print(len(b))\n",
    "print(b)"
   ]
  },
  {
   "cell_type": "code",
   "execution_count": 2,
   "id": "7a811e3b-d855-4058-a2d3-c94765b23175",
   "metadata": {},
   "outputs": [
    {
     "name": "stdout",
     "output_type": "stream",
     "text": [
      "Python by Jose\n"
     ]
    }
   ],
   "source": [
    "print(b)"
   ]
  }
 ],
 "metadata": {
  "kernelspec": {
   "display_name": "Python 3 (ipykernel)",
   "language": "python",
   "name": "python3"
  },
  "language_info": {
   "codemirror_mode": {
    "name": "ipython",
    "version": 3
   },
   "file_extension": ".py",
   "mimetype": "text/x-python",
   "name": "python",
   "nbconvert_exporter": "python",
   "pygments_lexer": "ipython3",
   "version": "3.13.5"
  }
 },
 "nbformat": 4,
 "nbformat_minor": 5
}
