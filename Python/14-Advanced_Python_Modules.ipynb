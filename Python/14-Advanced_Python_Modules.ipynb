{
 "cells": [
  {
   "cell_type": "markdown",
   "id": "06f61400-eda0-45e8-9395-ee35dea14cd0",
   "metadata": {},
   "source": [
    "### Module: Counter\n",
    "A class that counts occurrences of elements in an iterable.\n",
    "\n",
    "It creates a dictionary-like object where keys are elements, and values are their counts."
   ]
  },
  {
   "cell_type": "code",
   "execution_count": 3,
   "id": "2bdb33a4-9f49-40da-8052-0206b2337ca1",
   "metadata": {},
   "outputs": [],
   "source": [
    "from collections import Counter"
   ]
  },
  {
   "cell_type": "code",
   "execution_count": 4,
   "id": "dc377e14-74bf-4f97-be54-19af818e2e5c",
   "metadata": {},
   "outputs": [],
   "source": [
    "list = [1,1,1,1,1,1,2,2,2,3,3,3,3,3,3,3]"
   ]
  },
  {
   "cell_type": "code",
   "execution_count": 5,
   "id": "fecfb663-7295-427d-a27b-36e5f9e32bb6",
   "metadata": {},
   "outputs": [
    {
     "data": {
      "text/plain": [
       "Counter({3: 7, 1: 6, 2: 3})"
      ]
     },
     "execution_count": 5,
     "metadata": {},
     "output_type": "execute_result"
    }
   ],
   "source": [
    "Counter(list)"
   ]
  },
  {
   "cell_type": "code",
   "execution_count": 6,
   "id": "e7b891d7-a89e-4f84-a4a0-7938ecf40408",
   "metadata": {},
   "outputs": [],
   "source": [
    "l = ['a','a',10,10,10]"
   ]
  },
  {
   "cell_type": "code",
   "execution_count": 7,
   "id": "a9155479-cffe-4061-9e16-5b826031a603",
   "metadata": {},
   "outputs": [
    {
     "data": {
      "text/plain": [
       "Counter({10: 3, 'a': 2})"
      ]
     },
     "execution_count": 7,
     "metadata": {},
     "output_type": "execute_result"
    }
   ],
   "source": [
    "Counter(l)"
   ]
  },
  {
   "cell_type": "code",
   "execution_count": 8,
   "id": "43ce7f58-863c-4375-8426-9030b6bbcc13",
   "metadata": {},
   "outputs": [
    {
     "data": {
      "text/plain": [
       "Counter({'a': 6, 'o': 3, 's': 3, 'f': 3, 'h': 3, 'b': 2})"
      ]
     },
     "execution_count": 8,
     "metadata": {},
     "output_type": "execute_result"
    }
   ],
   "source": [
    "Counter('aaaaaabbosfhoshfosfh')"
   ]
  },
  {
   "cell_type": "code",
   "execution_count": 9,
   "id": "f8f159df-1f02-4389-bcc3-b6032000f703",
   "metadata": {},
   "outputs": [],
   "source": [
    "s = \"How many times does each word show up in this sentence with a word\""
   ]
  },
  {
   "cell_type": "code",
   "execution_count": 10,
   "id": "61e00ea4-ae9f-493c-b649-735eb776cbdf",
   "metadata": {},
   "outputs": [
    {
     "data": {
      "text/plain": [
       "Counter({'word': 2,\n",
       "         'how': 1,\n",
       "         'many': 1,\n",
       "         'times': 1,\n",
       "         'does': 1,\n",
       "         'each': 1,\n",
       "         'show': 1,\n",
       "         'up': 1,\n",
       "         'in': 1,\n",
       "         'this': 1,\n",
       "         'sentence': 1,\n",
       "         'with': 1,\n",
       "         'a': 1})"
      ]
     },
     "execution_count": 10,
     "metadata": {},
     "output_type": "execute_result"
    }
   ],
   "source": [
    "Counter(s.lower().split())"
   ]
  },
  {
   "cell_type": "code",
   "execution_count": 21,
   "id": "2b44315f-b850-4f9a-bf2e-2f0df24fb57a",
   "metadata": {},
   "outputs": [
    {
     "data": {
      "text/plain": [
       "Counter({'a': 9, 'c': 7, 'b': 3})"
      ]
     },
     "execution_count": 21,
     "metadata": {},
     "output_type": "execute_result"
    }
   ],
   "source": [
    "c = Counter('aaaaaaaaabbbccccccc')\n",
    "c"
   ]
  },
  {
   "cell_type": "code",
   "execution_count": 19,
   "id": "0d0d92a3-22e0-4ff6-9819-297b429d399a",
   "metadata": {},
   "outputs": [
    {
     "data": {
      "text/plain": [
       "[('a', 9), ('c', 7)]"
      ]
     },
     "execution_count": 19,
     "metadata": {},
     "output_type": "execute_result"
    }
   ],
   "source": [
    "c.most_common(2)"
   ]
  },
  {
   "cell_type": "markdown",
   "id": "2e212818-973e-4a41-ad2c-7e35f7bbfb7f",
   "metadata": {},
   "source": [
    "### Module: defaultdict\n",
    "defaultdict is a subclass of Python’s built-in dict (dictionary) from the collections module. It automatically assigns a default value to any key that does not exist, avoiding KeyError."
   ]
  },
  {
   "cell_type": "code",
   "execution_count": 23,
   "id": "9420de61-f12e-4d30-955e-a5ed5b2f24f2",
   "metadata": {},
   "outputs": [],
   "source": [
    "from collections import defaultdict"
   ]
  },
  {
   "cell_type": "code",
   "execution_count": 24,
   "id": "c4318d8b-a283-4672-a2f1-c7eb38c8e768",
   "metadata": {},
   "outputs": [
    {
     "data": {
      "text/plain": [
       "{'a': 10}"
      ]
     },
     "execution_count": 24,
     "metadata": {},
     "output_type": "execute_result"
    }
   ],
   "source": [
    "d = {'a':10}\n",
    "d"
   ]
  },
  {
   "cell_type": "code",
   "execution_count": 26,
   "id": "bea80371-f047-40de-abb6-e1a58217900b",
   "metadata": {},
   "outputs": [
    {
     "data": {
      "text/plain": [
       "10"
      ]
     },
     "execution_count": 26,
     "metadata": {},
     "output_type": "execute_result"
    }
   ],
   "source": [
    "d['a']"
   ]
  },
  {
   "cell_type": "code",
   "execution_count": 29,
   "id": "8656e076-9a6e-4ee1-b623-837d132b3091",
   "metadata": {},
   "outputs": [],
   "source": [
    "d = defaultdict(lambda:0)"
   ]
  },
  {
   "cell_type": "code",
   "execution_count": 31,
   "id": "a1fb8535-d13b-4f17-9718-c637f48ac3ff",
   "metadata": {},
   "outputs": [
    {
     "data": {
      "text/plain": [
       "100"
      ]
     },
     "execution_count": 31,
     "metadata": {},
     "output_type": "execute_result"
    }
   ],
   "source": [
    "d['c'] = 100\n",
    "d['c']"
   ]
  },
  {
   "cell_type": "code",
   "execution_count": 33,
   "id": "3d6c9888-dea4-45e0-83a4-83ee256fe317",
   "metadata": {},
   "outputs": [
    {
     "data": {
      "text/plain": [
       "0"
      ]
     },
     "execution_count": 33,
     "metadata": {},
     "output_type": "execute_result"
    }
   ],
   "source": [
    "d['w']"
   ]
  },
  {
   "cell_type": "code",
   "execution_count": 35,
   "id": "bb13dad6-2756-4c0a-a585-99720c3aa03b",
   "metadata": {},
   "outputs": [
    {
     "data": {
      "text/plain": [
       "defaultdict(<function __main__.<lambda>()>, {'c': 100, 'w': 0})"
      ]
     },
     "execution_count": 35,
     "metadata": {},
     "output_type": "execute_result"
    }
   ],
   "source": [
    "d"
   ]
  },
  {
   "cell_type": "code",
   "execution_count": 37,
   "id": "a24999c5-6beb-4103-aa3e-78d8c626802f",
   "metadata": {},
   "outputs": [
    {
     "data": {
      "text/plain": [
       "10"
      ]
     },
     "execution_count": 37,
     "metadata": {},
     "output_type": "execute_result"
    }
   ],
   "source": [
    "t = (10,20,30)\n",
    "t[0]"
   ]
  },
  {
   "cell_type": "markdown",
   "id": "f3d3176c-117e-4cee-bd8b-9941aeea32ce",
   "metadata": {},
   "source": [
    "### Module: namedtuple\n",
    "\n",
    "namedtuple is a factory function from Python’s collections module used to create tuple-like objects with named fields. It's useful when you want immutable, lightweight objects with easy-to-read attributes."
   ]
  },
  {
   "cell_type": "code",
   "execution_count": 39,
   "id": "16e31f61-b68a-418b-aee8-3a3d7e875e91",
   "metadata": {},
   "outputs": [],
   "source": [
    "from collections import namedtuple"
   ]
  },
  {
   "cell_type": "code",
   "execution_count": 42,
   "id": "b32fc955-ae61-4ccd-8b56-5ec463f4743a",
   "metadata": {},
   "outputs": [],
   "source": [
    "dog = namedtuple('dog',['age','breed','name'])"
   ]
  },
  {
   "cell_type": "code",
   "execution_count": 47,
   "id": "ebc74562-a5b2-4bc2-9b9e-09d283e38131",
   "metadata": {},
   "outputs": [
    {
     "data": {
      "text/plain": [
       "__main__.dog"
      ]
     },
     "execution_count": 47,
     "metadata": {},
     "output_type": "execute_result"
    }
   ],
   "source": [
    "bruno = dog(age = 10,breed = 'Labradore',name = 'bruno')\n",
    "type(bruno)"
   ]
  },
  {
   "cell_type": "code",
   "execution_count": 49,
   "id": "7b8d291f-9e65-4d74-81ba-4e2a7fe6c209",
   "metadata": {},
   "outputs": [
    {
     "data": {
      "text/plain": [
       "dog(age=10, breed='Labradore', name='bruno')"
      ]
     },
     "execution_count": 49,
     "metadata": {},
     "output_type": "execute_result"
    }
   ],
   "source": [
    "bruno"
   ]
  },
  {
   "cell_type": "code",
   "execution_count": 53,
   "id": "e82e4b57-86b7-4219-99ab-9c69aba5803a",
   "metadata": {},
   "outputs": [
    {
     "name": "stdout",
     "output_type": "stream",
     "text": [
      "10\n",
      "10\n"
     ]
    }
   ],
   "source": [
    "print(bruno.age)\n",
    "print(bruno[0])"
   ]
  },
  {
   "cell_type": "markdown",
   "id": "f661bfc8-77da-456e-ba2d-a719a32689bd",
   "metadata": {},
   "source": [
    "### Opening and Reading Files"
   ]
  },
  {
   "cell_type": "code",
   "execution_count": 55,
   "id": "5f8bed83-b24a-47f0-9046-241c75c0052f",
   "metadata": {},
   "outputs": [
    {
     "data": {
      "text/plain": [
       "'C:\\\\Users\\\\LinaDholaiya'"
      ]
     },
     "execution_count": 55,
     "metadata": {},
     "output_type": "execute_result"
    }
   ],
   "source": [
    "pwd"
   ]
  },
  {
   "cell_type": "code",
   "execution_count": 98,
   "id": "b0caca98-7f06-4dca-bd87-503cba13cad7",
   "metadata": {},
   "outputs": [],
   "source": [
    "f = open(\"pr.txt\",'w+')\n",
    "f.write('Practice String')\n",
    "f.close()"
   ]
  },
  {
   "cell_type": "code",
   "execution_count": 99,
   "id": "260d5719-20a3-4341-b4cf-960e4548b832",
   "metadata": {},
   "outputs": [],
   "source": [
    "import os"
   ]
  },
  {
   "cell_type": "code",
   "execution_count": 100,
   "id": "c12d4bd7-2229-443f-85ef-05a7ef18903d",
   "metadata": {},
   "outputs": [
    {
     "data": {
      "text/plain": [
       "'C:\\\\Users\\\\LinaDholaiya'"
      ]
     },
     "execution_count": 100,
     "metadata": {},
     "output_type": "execute_result"
    }
   ],
   "source": [
    "os.getcwd()"
   ]
  },
  {
   "cell_type": "code",
   "execution_count": 101,
   "id": "89cf563b-0ced-4b98-9836-8682e7813665",
   "metadata": {},
   "outputs": [
    {
     "data": {
      "text/plain": [
       "['.anaconda',\n",
       " '.conda',\n",
       " '.condarc',\n",
       " '.continuum',\n",
       " '.ipynb_checkpoints',\n",
       " '.ipython',\n",
       " '.jupyter',\n",
       " '.ms-ad',\n",
       " '.python_history',\n",
       " '10-Errors_and_Exceptions_Handling.ipynb',\n",
       " '11-Milestone_Pr-2.ipynb',\n",
       " '12-Python_Decorators.ipynb',\n",
       " '13-Python_Generators.ipynb',\n",
       " '14-Advanced_Python_Modules.ipynb',\n",
       " '3D Objects',\n",
       " '6-Methods_and_Functions.ipynb',\n",
       " '7-Milestone_Pr-1.ipynb',\n",
       " 'anaconda3',\n",
       " 'AppData',\n",
       " 'Application Data',\n",
       " 'Contacts',\n",
       " 'Cookies',\n",
       " 'Desktop',\n",
       " 'Documents',\n",
       " 'Downloads',\n",
       " 'Favorites',\n",
       " 'IntelGraphicsProfiles',\n",
       " 'Links',\n",
       " 'Local Settings',\n",
       " 'Music',\n",
       " 'My Documents',\n",
       " 'NetHood',\n",
       " 'NTUSER.DAT',\n",
       " 'ntuser.dat.LOG1',\n",
       " 'ntuser.dat.LOG2',\n",
       " 'NTUSER.DAT{53b39e88-18c4-11ea-a811-000d3aa4692b}.TM.blf',\n",
       " 'NTUSER.DAT{53b39e88-18c4-11ea-a811-000d3aa4692b}.TMContainer00000000000000000001.regtrans-ms',\n",
       " 'NTUSER.DAT{53b39e88-18c4-11ea-a811-000d3aa4692b}.TMContainer00000000000000000002.regtrans-ms',\n",
       " 'ntuser.ini',\n",
       " 'OneDrive',\n",
       " 'Pictures',\n",
       " 'Pr-2.ipynb',\n",
       " 'pr.txt',\n",
       " 'PrintHood',\n",
       " 'Python',\n",
       " 'Python_Statements.ipynb',\n",
       " 'Recent',\n",
       " 'Saved Games',\n",
       " 'Searches',\n",
       " 'SendTo',\n",
       " 'Start Menu',\n",
       " 'Templates',\n",
       " 'testfile',\n",
       " 'Videos']"
      ]
     },
     "execution_count": 101,
     "metadata": {},
     "output_type": "execute_result"
    }
   ],
   "source": [
    "os.listdir()"
   ]
  },
  {
   "cell_type": "code",
   "execution_count": 102,
   "id": "1c2b3945-7633-45d6-9a7a-f22cad4620a9",
   "metadata": {},
   "outputs": [
    {
     "data": {
      "text/plain": [
       "['All Users',\n",
       " 'CrestAdmin',\n",
       " 'Default',\n",
       " 'Default User',\n",
       " 'desktop.ini',\n",
       " 'KaushikDomadiya',\n",
       " 'LinaDholaiya',\n",
       " 'Public']"
      ]
     },
     "execution_count": 102,
     "metadata": {},
     "output_type": "execute_result"
    }
   ],
   "source": [
    "os.listdir(\"C:\\\\Users\")"
   ]
  },
  {
   "cell_type": "markdown",
   "id": "d7a9e196-92a5-4951-bdeb-6c3b9fe811b6",
   "metadata": {},
   "source": [
    "### Module: shutil\n",
    "The shutil module in Python provides functions for file and directory operations, such as copying, moving, and deleting.<br>\n",
    "\n",
    "Commonly Used shutil Functions:<br>\n",
    "\n",
    "shutil.copy(src, dst)\t->  Copy file from src to dst <br>\n",
    "shutil.copy2(src, dst)\t->  Same as copy but preserves metadata<br>\n",
    "shutil.move(src, dst)\t->  Move file or directory<br>\n",
    "shutil.rmtree(path)\t->  Delete entire directory tree<br>\n",
    "shutil.copytree(src, dst)\t->  Recursively copy an entire directory<br>\n",
    "shutil.make_archive()\t->  Create ZIP/tar archive<br>\n",
    "shutil.unpack_archive()\t->  Extract ZIP/tar archive<br>\n",
    "shutil.disk_usage(path)\t->  Get disk usage (total, used, free)\n",
    "\n"
   ]
  },
  {
   "cell_type": "code",
   "execution_count": 103,
   "id": "3dfd1f58-f8d8-4926-9ac5-2b24c548d070",
   "metadata": {},
   "outputs": [],
   "source": [
    "import shutil"
   ]
  },
  {
   "cell_type": "code",
   "execution_count": 87,
   "id": "6d1e81ad-57a6-4461-bedc-8ce721990472",
   "metadata": {},
   "outputs": [],
   "source": [
    "import send2trash"
   ]
  },
  {
   "cell_type": "code",
   "execution_count": 105,
   "id": "1265a88c-fea1-4632-b501-95540ffa069f",
   "metadata": {},
   "outputs": [
    {
     "data": {
      "text/plain": [
       "['.anaconda',\n",
       " '.conda',\n",
       " '.condarc',\n",
       " '.continuum',\n",
       " '.ipynb_checkpoints',\n",
       " '.ipython',\n",
       " '.jupyter',\n",
       " '.ms-ad',\n",
       " '.python_history',\n",
       " '10-Errors_and_Exceptions_Handling.ipynb',\n",
       " '11-Milestone_Pr-2.ipynb',\n",
       " '12-Python_Decorators.ipynb',\n",
       " '13-Python_Generators.ipynb',\n",
       " '14-Advanced_Python_Modules.ipynb',\n",
       " '3D Objects',\n",
       " '6-Methods_and_Functions.ipynb',\n",
       " '7-Milestone_Pr-1.ipynb',\n",
       " 'anaconda3',\n",
       " 'AppData',\n",
       " 'Application Data',\n",
       " 'Contacts',\n",
       " 'Cookies',\n",
       " 'Desktop',\n",
       " 'Documents',\n",
       " 'Downloads',\n",
       " 'Favorites',\n",
       " 'IntelGraphicsProfiles',\n",
       " 'Links',\n",
       " 'Local Settings',\n",
       " 'Music',\n",
       " 'My Documents',\n",
       " 'NetHood',\n",
       " 'NTUSER.DAT',\n",
       " 'ntuser.dat.LOG1',\n",
       " 'ntuser.dat.LOG2',\n",
       " 'NTUSER.DAT{53b39e88-18c4-11ea-a811-000d3aa4692b}.TM.blf',\n",
       " 'NTUSER.DAT{53b39e88-18c4-11ea-a811-000d3aa4692b}.TMContainer00000000000000000001.regtrans-ms',\n",
       " 'NTUSER.DAT{53b39e88-18c4-11ea-a811-000d3aa4692b}.TMContainer00000000000000000002.regtrans-ms',\n",
       " 'ntuser.ini',\n",
       " 'OneDrive',\n",
       " 'Pictures',\n",
       " 'Pr-2.ipynb',\n",
       " 'pr.txt',\n",
       " 'PrintHood',\n",
       " 'Python',\n",
       " 'Python_Statements.ipynb',\n",
       " 'Recent',\n",
       " 'Saved Games',\n",
       " 'Searches',\n",
       " 'SendTo',\n",
       " 'Start Menu',\n",
       " 'Templates',\n",
       " 'testfile',\n",
       " 'Videos']"
      ]
     },
     "execution_count": 105,
     "metadata": {},
     "output_type": "execute_result"
    }
   ],
   "source": [
    "os.listdir()"
   ]
  },
  {
   "cell_type": "code",
   "execution_count": 111,
   "id": "62a7e740-88c7-468e-a1a0-614d82640111",
   "metadata": {},
   "outputs": [],
   "source": [
    "for folder , sub_folders , files in os.walk(\"Example_Top_Level\"):\n",
    "    \n",
    "    print(\"Currently looking at folder: \"+ folder)\n",
    "    print('\\n')\n",
    "    print(\"THE SUBFOLDERS ARE: \")\n",
    "    for sub_fold in sub_folders:\n",
    "        print(\"\\t Subfolder: \"+sub_fold )\n",
    "    \n",
    "    print('\\n')\n",
    "    \n",
    "    print(\"THE FILES ARE: \")\n",
    "    for f in files:\n",
    "        print(\"\\t File: \"+f)\n",
    "    print('\\n')"
   ]
  },
  {
   "cell_type": "markdown",
   "id": "4a7a249a-6670-4e8a-82bf-1495c3d7bbf7",
   "metadata": {},
   "source": [
    "### Datetime"
   ]
  },
  {
   "cell_type": "code",
   "execution_count": 123,
   "id": "8641a8c1-4383-4163-8333-ff7ccd4a9a81",
   "metadata": {},
   "outputs": [
    {
     "name": "stdout",
     "output_type": "stream",
     "text": [
      "Minutes : 20\n",
      "Hour : 2\n"
     ]
    }
   ],
   "source": [
    "import datetime\n",
    "d = datetime.time(2,20)\n",
    "print(f\"Minutes : {d.minute}\")\n",
    "print(f\"Hour : {d.hour}\")"
   ]
  },
  {
   "cell_type": "code",
   "execution_count": 124,
   "id": "853efff1-7b33-4de5-87b6-83e8aad4a13d",
   "metadata": {},
   "outputs": [
    {
     "name": "stdout",
     "output_type": "stream",
     "text": [
      "02:20:00\n"
     ]
    }
   ],
   "source": [
    "print(d)"
   ]
  },
  {
   "cell_type": "code",
   "execution_count": 125,
   "id": "a6ad7f1d-db68-4d39-8e87-1bf27fd74f51",
   "metadata": {},
   "outputs": [
    {
     "data": {
      "text/plain": [
       "datetime.time"
      ]
     },
     "execution_count": 125,
     "metadata": {},
     "output_type": "execute_result"
    }
   ],
   "source": [
    "type(d)"
   ]
  },
  {
   "cell_type": "code",
   "execution_count": 127,
   "id": "17989d2d-3d7a-4ed3-b69f-cde6f19a8fc4",
   "metadata": {},
   "outputs": [
    {
     "name": "stdout",
     "output_type": "stream",
     "text": [
      "2025-07-11\n",
      "Year : 2025\n",
      "Month : 7\n",
      "Day : 11\n",
      "Fri Jul 11 00:00:00 2025\n"
     ]
    }
   ],
   "source": [
    "t = datetime.date.today()\n",
    "print(t)\n",
    "print(f\"Year : {t.year}\")\n",
    "print(f\"Month : {t.month}\")\n",
    "print(f\"Day : {t.day}\")\n",
    "print(t.ctime())"
   ]
  },
  {
   "cell_type": "code",
   "execution_count": 129,
   "id": "976cffa8-b7dc-46f2-8601-c5bd176cf65b",
   "metadata": {},
   "outputs": [
    {
     "name": "stdout",
     "output_type": "stream",
     "text": [
      "2004-10-03 14:20:01\n"
     ]
    }
   ],
   "source": [
    "from datetime import datetime \n",
    "t = datetime(2004,10,3,14,20,1)\n",
    "print(t)"
   ]
  },
  {
   "cell_type": "code",
   "execution_count": 133,
   "id": "62b64402-e6e7-46d4-8fdc-dc70386c4e78",
   "metadata": {},
   "outputs": [
    {
     "name": "stdout",
     "output_type": "stream",
     "text": [
      "<class 'datetime.timedelta'>\n",
      "731 days, 0:00:00\n"
     ]
    }
   ],
   "source": [
    "from datetime import date\n",
    "\n",
    "d1 = date(2024,10,9)\n",
    "d2 = date(2022,10,9)\n",
    "\n",
    "r = d1 - d2\n",
    "print(type(r))\n",
    "print(r)"
   ]
  },
  {
   "cell_type": "code",
   "execution_count": 137,
   "id": "a0095935-bbe8-43b7-b9e9-471ed3fbb8b5",
   "metadata": {},
   "outputs": [
    {
     "name": "stdout",
     "output_type": "stream",
     "text": [
      "<class 'datetime.timedelta'>\n",
      "366 days, 12:57:51\n"
     ]
    }
   ],
   "source": [
    "t1= datetime(2024,10,3,14,20,1)\n",
    "t2 = datetime(2023,10,3,1,22,10)\n",
    "\n",
    "r = t1 - t2\n",
    "print(type(r))\n",
    "print(r)"
   ]
  },
  {
   "cell_type": "markdown",
   "id": "84011474-dc6b-4072-8496-2d2fc445f5f9",
   "metadata": {},
   "source": [
    "### Python math and Random Functions"
   ]
  },
  {
   "cell_type": "code",
   "execution_count": 114,
   "id": "a0a5d207-f8d9-450e-9403-f965d3febbd9",
   "metadata": {},
   "outputs": [
    {
     "name": "stdout",
     "output_type": "stream",
     "text": [
      "Help on built-in module math:\n",
      "\n",
      "NAME\n",
      "    math\n",
      "\n",
      "DESCRIPTION\n",
      "    This module provides access to the mathematical functions\n",
      "    defined by the C standard.\n",
      "\n",
      "FUNCTIONS\n",
      "    acos(x, /)\n",
      "        Return the arc cosine (measured in radians) of x.\n",
      "\n",
      "        The result is between 0 and pi.\n",
      "\n",
      "    acosh(x, /)\n",
      "        Return the inverse hyperbolic cosine of x.\n",
      "\n",
      "    asin(x, /)\n",
      "        Return the arc sine (measured in radians) of x.\n",
      "\n",
      "        The result is between -pi/2 and pi/2.\n",
      "\n",
      "    asinh(x, /)\n",
      "        Return the inverse hyperbolic sine of x.\n",
      "\n",
      "    atan(x, /)\n",
      "        Return the arc tangent (measured in radians) of x.\n",
      "\n",
      "        The result is between -pi/2 and pi/2.\n",
      "\n",
      "    atan2(y, x, /)\n",
      "        Return the arc tangent (measured in radians) of y/x.\n",
      "\n",
      "        Unlike atan(y/x), the signs of both x and y are considered.\n",
      "\n",
      "    atanh(x, /)\n",
      "        Return the inverse hyperbolic tangent of x.\n",
      "\n",
      "    cbrt(x, /)\n",
      "        Return the cube root of x.\n",
      "\n",
      "    ceil(x, /)\n",
      "        Return the ceiling of x as an Integral.\n",
      "\n",
      "        This is the smallest integer >= x.\n",
      "\n",
      "    comb(n, k, /)\n",
      "        Number of ways to choose k items from n items without repetition and without order.\n",
      "\n",
      "        Evaluates to n! / (k! * (n - k)!) when k <= n and evaluates\n",
      "        to zero when k > n.\n",
      "\n",
      "        Also called the binomial coefficient because it is equivalent\n",
      "        to the coefficient of k-th term in polynomial expansion of the\n",
      "        expression (1 + x)**n.\n",
      "\n",
      "        Raises TypeError if either of the arguments are not integers.\n",
      "        Raises ValueError if either of the arguments are negative.\n",
      "\n",
      "    copysign(x, y, /)\n",
      "        Return a float with the magnitude (absolute value) of x but the sign of y.\n",
      "\n",
      "        On platforms that support signed zeros, copysign(1.0, -0.0)\n",
      "        returns -1.0.\n",
      "\n",
      "    cos(x, /)\n",
      "        Return the cosine of x (measured in radians).\n",
      "\n",
      "    cosh(x, /)\n",
      "        Return the hyperbolic cosine of x.\n",
      "\n",
      "    degrees(x, /)\n",
      "        Convert angle x from radians to degrees.\n",
      "\n",
      "    dist(p, q, /)\n",
      "        Return the Euclidean distance between two points p and q.\n",
      "\n",
      "        The points should be specified as sequences (or iterables) of\n",
      "        coordinates.  Both inputs must have the same dimension.\n",
      "\n",
      "        Roughly equivalent to:\n",
      "            sqrt(sum((px - qx) ** 2.0 for px, qx in zip(p, q)))\n",
      "\n",
      "    erf(x, /)\n",
      "        Error function at x.\n",
      "\n",
      "    erfc(x, /)\n",
      "        Complementary error function at x.\n",
      "\n",
      "    exp(x, /)\n",
      "        Return e raised to the power of x.\n",
      "\n",
      "    exp2(x, /)\n",
      "        Return 2 raised to the power of x.\n",
      "\n",
      "    expm1(x, /)\n",
      "        Return exp(x)-1.\n",
      "\n",
      "        This function avoids the loss of precision involved in the direct evaluation of exp(x)-1 for small x.\n",
      "\n",
      "    fabs(x, /)\n",
      "        Return the absolute value of the float x.\n",
      "\n",
      "    factorial(n, /)\n",
      "        Find n!.\n",
      "\n",
      "    floor(x, /)\n",
      "        Return the floor of x as an Integral.\n",
      "\n",
      "        This is the largest integer <= x.\n",
      "\n",
      "    fma(x, y, z, /)\n",
      "        Fused multiply-add operation.\n",
      "\n",
      "        Compute (x * y) + z with a single round.\n",
      "\n",
      "    fmod(x, y, /)\n",
      "        Return fmod(x, y), according to platform C.\n",
      "\n",
      "        x % y may differ.\n",
      "\n",
      "    frexp(x, /)\n",
      "        Return the mantissa and exponent of x, as pair (m, e).\n",
      "\n",
      "        m is a float and e is an int, such that x = m * 2.**e.\n",
      "        If x is 0, m and e are both 0.  Else 0.5 <= abs(m) < 1.0.\n",
      "\n",
      "    fsum(seq, /)\n",
      "        Return an accurate floating-point sum of values in the iterable seq.\n",
      "\n",
      "        Assumes IEEE-754 floating-point arithmetic.\n",
      "\n",
      "    gamma(x, /)\n",
      "        Gamma function at x.\n",
      "\n",
      "    gcd(*integers)\n",
      "        Greatest Common Divisor.\n",
      "\n",
      "    hypot(...)\n",
      "        hypot(*coordinates) -> value\n",
      "\n",
      "        Multidimensional Euclidean distance from the origin to a point.\n",
      "\n",
      "        Roughly equivalent to:\n",
      "            sqrt(sum(x**2 for x in coordinates))\n",
      "\n",
      "        For a two dimensional point (x, y), gives the hypotenuse\n",
      "        using the Pythagorean theorem:  sqrt(x*x + y*y).\n",
      "\n",
      "        For example, the hypotenuse of a 3/4/5 right triangle is:\n",
      "\n",
      "            >>> hypot(3.0, 4.0)\n",
      "            5.0\n",
      "\n",
      "    isclose(a, b, *, rel_tol=1e-09, abs_tol=0.0)\n",
      "        Determine whether two floating-point numbers are close in value.\n",
      "\n",
      "          rel_tol\n",
      "            maximum difference for being considered \"close\", relative to the\n",
      "            magnitude of the input values\n",
      "          abs_tol\n",
      "            maximum difference for being considered \"close\", regardless of the\n",
      "            magnitude of the input values\n",
      "\n",
      "        Return True if a is close in value to b, and False otherwise.\n",
      "\n",
      "        For the values to be considered close, the difference between them\n",
      "        must be smaller than at least one of the tolerances.\n",
      "\n",
      "        -inf, inf and NaN behave similarly to the IEEE 754 Standard.  That\n",
      "        is, NaN is not close to anything, even itself.  inf and -inf are\n",
      "        only close to themselves.\n",
      "\n",
      "    isfinite(x, /)\n",
      "        Return True if x is neither an infinity nor a NaN, and False otherwise.\n",
      "\n",
      "    isinf(x, /)\n",
      "        Return True if x is a positive or negative infinity, and False otherwise.\n",
      "\n",
      "    isnan(x, /)\n",
      "        Return True if x is a NaN (not a number), and False otherwise.\n",
      "\n",
      "    isqrt(n, /)\n",
      "        Return the integer part of the square root of the input.\n",
      "\n",
      "    lcm(*integers)\n",
      "        Least Common Multiple.\n",
      "\n",
      "    ldexp(x, i, /)\n",
      "        Return x * (2**i).\n",
      "\n",
      "        This is essentially the inverse of frexp().\n",
      "\n",
      "    lgamma(x, /)\n",
      "        Natural logarithm of absolute value of Gamma function at x.\n",
      "\n",
      "    log(...)\n",
      "        log(x, [base=math.e])\n",
      "        Return the logarithm of x to the given base.\n",
      "\n",
      "        If the base is not specified, returns the natural logarithm (base e) of x.\n",
      "\n",
      "    log10(x, /)\n",
      "        Return the base 10 logarithm of x.\n",
      "\n",
      "    log1p(x, /)\n",
      "        Return the natural logarithm of 1+x (base e).\n",
      "\n",
      "        The result is computed in a way which is accurate for x near zero.\n",
      "\n",
      "    log2(x, /)\n",
      "        Return the base 2 logarithm of x.\n",
      "\n",
      "    modf(x, /)\n",
      "        Return the fractional and integer parts of x.\n",
      "\n",
      "        Both results carry the sign of x and are floats.\n",
      "\n",
      "    nextafter(x, y, /, *, steps=None)\n",
      "        Return the floating-point value the given number of steps after x towards y.\n",
      "\n",
      "        If steps is not specified or is None, it defaults to 1.\n",
      "\n",
      "        Raises a TypeError, if x or y is not a double, or if steps is not an integer.\n",
      "        Raises ValueError if steps is negative.\n",
      "\n",
      "    perm(n, k=None, /)\n",
      "        Number of ways to choose k items from n items without repetition and with order.\n",
      "\n",
      "        Evaluates to n! / (n - k)! when k <= n and evaluates\n",
      "        to zero when k > n.\n",
      "\n",
      "        If k is not specified or is None, then k defaults to n\n",
      "        and the function returns n!.\n",
      "\n",
      "        Raises TypeError if either of the arguments are not integers.\n",
      "        Raises ValueError if either of the arguments are negative.\n",
      "\n",
      "    pow(x, y, /)\n",
      "        Return x**y (x to the power of y).\n",
      "\n",
      "    prod(iterable, /, *, start=1)\n",
      "        Calculate the product of all the elements in the input iterable.\n",
      "\n",
      "        The default start value for the product is 1.\n",
      "\n",
      "        When the iterable is empty, return the start value.  This function is\n",
      "        intended specifically for use with numeric values and may reject\n",
      "        non-numeric types.\n",
      "\n",
      "    radians(x, /)\n",
      "        Convert angle x from degrees to radians.\n",
      "\n",
      "    remainder(x, y, /)\n",
      "        Difference between x and the closest integer multiple of y.\n",
      "\n",
      "        Return x - n*y where n*y is the closest integer multiple of y.\n",
      "        In the case where x is exactly halfway between two multiples of\n",
      "        y, the nearest even value of n is used. The result is always exact.\n",
      "\n",
      "    sin(x, /)\n",
      "        Return the sine of x (measured in radians).\n",
      "\n",
      "    sinh(x, /)\n",
      "        Return the hyperbolic sine of x.\n",
      "\n",
      "    sqrt(x, /)\n",
      "        Return the square root of x.\n",
      "\n",
      "    sumprod(p, q, /)\n",
      "        Return the sum of products of values from two iterables p and q.\n",
      "\n",
      "        Roughly equivalent to:\n",
      "\n",
      "            sum(itertools.starmap(operator.mul, zip(p, q, strict=True)))\n",
      "\n",
      "        For float and mixed int/float inputs, the intermediate products\n",
      "        and sums are computed with extended precision.\n",
      "\n",
      "    tan(x, /)\n",
      "        Return the tangent of x (measured in radians).\n",
      "\n",
      "    tanh(x, /)\n",
      "        Return the hyperbolic tangent of x.\n",
      "\n",
      "    trunc(x, /)\n",
      "        Truncates the Real x to the nearest Integral toward 0.\n",
      "\n",
      "        Uses the __trunc__ magic method.\n",
      "\n",
      "    ulp(x, /)\n",
      "        Return the value of the least significant bit of the float x.\n",
      "\n",
      "DATA\n",
      "    e = 2.718281828459045\n",
      "    inf = inf\n",
      "    nan = nan\n",
      "    pi = 3.141592653589793\n",
      "    tau = 6.283185307179586\n",
      "\n",
      "FILE\n",
      "    (built-in)\n",
      "\n",
      "\n"
     ]
    }
   ],
   "source": [
    "import math\n",
    "help(math)"
   ]
  },
  {
   "cell_type": "code",
   "execution_count": 153,
   "id": "0f1c9e8e-d31c-479a-9075-2390755c111a",
   "metadata": {},
   "outputs": [
    {
     "name": "stdout",
     "output_type": "stream",
     "text": [
      "Floor  = 5\n",
      "ceil = 6\n",
      "round = 6\n",
      "pi = 3.141592653589793\n",
      "e = 2.718281828459045\n",
      "inf = inf\n",
      "nan = nan\n",
      "log = 6.643856189774725\n",
      "sin = 0.8414709848078965\n",
      "degree = 10313.240312354817\n",
      "radians = 3.141592653589793\n"
     ]
    }
   ],
   "source": [
    "v = 5.67\n",
    "print(f\"Floor  = {math.floor(v)}\")\n",
    "print(f\"ceil = {math.ceil(v)}\")\n",
    "print(f\"round = {round(v)}\")\n",
    "print(f\"pi = {math.pi}\")\n",
    "print(f\"e = {math.e}\")\n",
    "print(f\"inf = {math.inf}\")\n",
    "print(f\"nan = {math.nan}\")\n",
    "print(f\"log = {math.log(100,2)}\")\n",
    "print(f\"sin = {math.sin(1)}\")\n",
    "print(f\"degree = {math.degrees(180)}\")\n",
    "print(f\"radians = {math.radians(180)}\")"
   ]
  },
  {
   "cell_type": "code",
   "execution_count": 3,
   "id": "1f6176d0-f4d8-432d-a6f1-79c3bd223639",
   "metadata": {},
   "outputs": [
    {
     "data": {
      "text/plain": [
       "36"
      ]
     },
     "execution_count": 3,
     "metadata": {},
     "output_type": "execute_result"
    }
   ],
   "source": [
    "import random\n",
    "\n",
    "random.randint(0,100)"
   ]
  },
  {
   "cell_type": "code",
   "execution_count": 4,
   "id": "0d546704-3156-4c0e-b106-e5610d49e811",
   "metadata": {},
   "outputs": [
    {
     "data": {
      "text/plain": [
       "20"
      ]
     },
     "execution_count": 4,
     "metadata": {},
     "output_type": "execute_result"
    }
   ],
   "source": [
    "random.randint(0,100)"
   ]
  },
  {
   "cell_type": "code",
   "execution_count": 5,
   "id": "95cee42a-5fbd-4aea-8357-0378b9912bcd",
   "metadata": {},
   "outputs": [
    {
     "data": {
      "text/plain": [
       "10"
      ]
     },
     "execution_count": 5,
     "metadata": {},
     "output_type": "execute_result"
    }
   ],
   "source": [
    "random.randint(0,100)"
   ]
  },
  {
   "cell_type": "code",
   "execution_count": 6,
   "id": "0953569b-5e03-44d0-8821-ec86dc7de706",
   "metadata": {},
   "outputs": [
    {
     "data": {
      "text/plain": [
       "[0, 1, 2, 3, 4, 5, 6, 7, 8, 9, 10, 11, 12, 13, 14, 15, 16, 17, 18, 19]"
      ]
     },
     "execution_count": 6,
     "metadata": {},
     "output_type": "execute_result"
    }
   ],
   "source": [
    "l = list(range(0,20))\n",
    "l"
   ]
  },
  {
   "cell_type": "code",
   "execution_count": 7,
   "id": "f22b24f4-5396-41ff-9b15-6bae003d5ec0",
   "metadata": {},
   "outputs": [
    {
     "data": {
      "text/plain": [
       "10"
      ]
     },
     "execution_count": 7,
     "metadata": {},
     "output_type": "execute_result"
    }
   ],
   "source": [
    "random.choice(l)"
   ]
  },
  {
   "cell_type": "code",
   "execution_count": 9,
   "id": "1c611ade-6ec9-489d-ba1b-d36779537c4a",
   "metadata": {},
   "outputs": [
    {
     "data": {
      "text/plain": [
       "[3, 10, 18, 15, 4, 16, 17, 19, 1, 13]"
      ]
     },
     "execution_count": 9,
     "metadata": {},
     "output_type": "execute_result"
    }
   ],
   "source": [
    "random.sample(population = l,k=10) "
   ]
  },
  {
   "cell_type": "code",
   "execution_count": 12,
   "id": "06773a84-2351-4aa3-93c7-8743c61e0e5c",
   "metadata": {},
   "outputs": [
    {
     "data": {
      "text/plain": [
       "[11, 19, 14, 18, 12, 16, 0, 5, 9, 13, 6, 1, 2, 3, 7, 10, 4, 8, 15, 17]"
      ]
     },
     "execution_count": 12,
     "metadata": {},
     "output_type": "execute_result"
    }
   ],
   "source": [
    "random.shuffle(l)\n",
    "l"
   ]
  },
  {
   "cell_type": "code",
   "execution_count": 14,
   "id": "24b5ed7d-4dca-4f70-a53a-40b732cc8df1",
   "metadata": {},
   "outputs": [
    {
     "data": {
      "text/plain": [
       "1.418483680628102"
      ]
     },
     "execution_count": 14,
     "metadata": {},
     "output_type": "execute_result"
    }
   ],
   "source": [
    "random.uniform(a=0,b=100)"
   ]
  },
  {
   "cell_type": "code",
   "execution_count": 16,
   "id": "cba4297b-fd78-4bfc-9991-2e4909aa8c5e",
   "metadata": {},
   "outputs": [
    {
     "data": {
      "text/plain": [
       "0.6369583956450514"
      ]
     },
     "execution_count": 16,
     "metadata": {},
     "output_type": "execute_result"
    }
   ],
   "source": [
    "random.gauss(mu =0 ,sigma=1)"
   ]
  },
  {
   "cell_type": "markdown",
   "id": "dfcf9592-51a3-4a5c-b3d0-a4698c60d5e1",
   "metadata": {},
   "source": [
    "### Python Debugger"
   ]
  },
  {
   "cell_type": "code",
   "execution_count": 20,
   "id": "36ff400d-6333-44e8-bdf9-e3a4194a351f",
   "metadata": {},
   "outputs": [],
   "source": [
    "import pdb"
   ]
  },
  {
   "cell_type": "code",
   "execution_count": 21,
   "id": "f535623d-27d1-44b7-b2fd-dfb2deb5e271",
   "metadata": {},
   "outputs": [
    {
     "name": "stdout",
     "output_type": "stream",
     "text": [
      "> \u001b[1;32mc:\\users\\linadholaiya\\appdata\\local\\temp\\ipykernel_8824\\3503041753.py\u001b[0m(6)\u001b[0;36m<module>\u001b[1;34m()\u001b[0m\n",
      "\n"
     ]
    },
    {
     "name": "stdin",
     "output_type": "stream",
     "text": [
      "ipdb>  x\n"
     ]
    },
    {
     "name": "stdout",
     "output_type": "stream",
     "text": [
      "[1, 2, 3]\n"
     ]
    },
    {
     "name": "stdin",
     "output_type": "stream",
     "text": [
      "ipdb>  y\n"
     ]
    },
    {
     "name": "stdout",
     "output_type": "stream",
     "text": [
      "8\n"
     ]
    },
    {
     "name": "stdin",
     "output_type": "stream",
     "text": [
      "ipdb>  r1\n"
     ]
    },
    {
     "name": "stdout",
     "output_type": "stream",
     "text": [
      "11\n"
     ]
    },
    {
     "name": "stdin",
     "output_type": "stream",
     "text": [
      "ipdb>  q\n"
     ]
    }
   ],
   "source": [
    "x = [1,2,3]\n",
    "y = 8\n",
    "z = 3\n",
    "\n",
    "r1 = y+z\n",
    "pdb.set_trace()\n",
    "r2 = x+y"
   ]
  },
  {
   "cell_type": "markdown",
   "id": "32894466-e218-4a3e-846d-cf11a01694fb",
   "metadata": {},
   "source": [
    "### Regular Expression"
   ]
  },
  {
   "cell_type": "code",
   "execution_count": 4,
   "id": "ecc288a4-c15f-4a0c-b56c-c5192cf27573",
   "metadata": {},
   "outputs": [],
   "source": [
    "import re"
   ]
  },
  {
   "cell_type": "code",
   "execution_count": 5,
   "id": "4cf4f711-8ed5-49a8-8394-1ce92ac67ff5",
   "metadata": {},
   "outputs": [
    {
     "data": {
      "text/plain": [
       "True"
      ]
     },
     "execution_count": 5,
     "metadata": {},
     "output_type": "execute_result"
    }
   ],
   "source": [
    "text = \"His phone number is 9728473402.call soon!\"\n",
    "\n",
    "'phone' in  text"
   ]
  },
  {
   "cell_type": "code",
   "execution_count": 6,
   "id": "fce68899-d02b-4807-921a-b6d364619a16",
   "metadata": {},
   "outputs": [
    {
     "data": {
      "text/plain": [
       "<re.Match object; span=(31, 35), match='call'>"
      ]
     },
     "execution_count": 6,
     "metadata": {},
     "output_type": "execute_result"
    }
   ],
   "source": [
    "p = 'call'\n",
    "\n",
    "re.search(p,text)"
   ]
  },
  {
   "cell_type": "code",
   "execution_count": 12,
   "id": "2912a271-0d0b-4116-a8da-eee3e39bfd84",
   "metadata": {},
   "outputs": [
    {
     "data": {
      "text/plain": [
       "<re.Match object; span=(31, 35), match='call'>"
      ]
     },
     "execution_count": 12,
     "metadata": {},
     "output_type": "execute_result"
    }
   ],
   "source": [
    "p = 'call'\n",
    "re.search(p,text)"
   ]
  },
  {
   "cell_type": "code",
   "execution_count": 13,
   "id": "23a3bc6b-a14e-4ead-a824-7040e29aa03c",
   "metadata": {},
   "outputs": [],
   "source": [
    "match = re.search(p,text)"
   ]
  },
  {
   "cell_type": "code",
   "execution_count": 14,
   "id": "35e01063-362e-496c-9b2d-ca9d8a30ed0c",
   "metadata": {},
   "outputs": [
    {
     "data": {
      "text/plain": [
       "(31, 35)"
      ]
     },
     "execution_count": 14,
     "metadata": {},
     "output_type": "execute_result"
    }
   ],
   "source": [
    "match.span()"
   ]
  },
  {
   "cell_type": "code",
   "execution_count": 15,
   "id": "2a5382d2-669a-43c6-9cb6-7890885f4fe4",
   "metadata": {},
   "outputs": [
    {
     "data": {
      "text/plain": [
       "<re.Match object; span=(31, 35), match='call'>"
      ]
     },
     "execution_count": 15,
     "metadata": {},
     "output_type": "execute_result"
    }
   ],
   "source": [
    "match"
   ]
  },
  {
   "cell_type": "code",
   "execution_count": 17,
   "id": "87a48a78-3026-447f-bb24-aae6e8094aa6",
   "metadata": {},
   "outputs": [
    {
     "name": "stdout",
     "output_type": "stream",
     "text": [
      "31\n",
      "35\n"
     ]
    }
   ],
   "source": [
    "print(match.start())\n",
    "print(match.end())"
   ]
  },
  {
   "cell_type": "code",
   "execution_count": 19,
   "id": "906c4ce8-94fd-44ab-91a7-df6e81b007c6",
   "metadata": {},
   "outputs": [
    {
     "data": {
      "text/plain": [
       "'408-555-1234'"
      ]
     },
     "execution_count": 19,
     "metadata": {},
     "output_type": "execute_result"
    }
   ],
   "source": [
    "text = \"My telephone number is 408-555-1234\"\n",
    "phone = re.search(r'\\d\\d\\d-\\d\\d\\d-\\d\\d\\d\\d',text)\n",
    "phone.group()"
   ]
  },
  {
   "cell_type": "code",
   "execution_count": 21,
   "id": "36c7bfb2-ee98-444f-9b94-d6401f52c537",
   "metadata": {},
   "outputs": [
    {
     "data": {
      "text/plain": [
       "<re.Match object; span=(23, 35), match='408-555-1234'>"
      ]
     },
     "execution_count": 21,
     "metadata": {},
     "output_type": "execute_result"
    }
   ],
   "source": [
    "re.search(r'\\d{3}-\\d{3}-\\d{4}',text)"
   ]
  },
  {
   "cell_type": "code",
   "execution_count": 23,
   "id": "930d034c-4e69-43cf-a8e1-f27db6290efa",
   "metadata": {},
   "outputs": [
    {
     "data": {
      "text/plain": [
       "'408-555-1234'"
      ]
     },
     "execution_count": 23,
     "metadata": {},
     "output_type": "execute_result"
    }
   ],
   "source": [
    "phone_pattern = re.compile(r'(\\d{3})-(\\d{3})-(\\d{4})')\n",
    "results = re.search(phone_pattern,text)\n",
    "results.group()"
   ]
  },
  {
   "cell_type": "code",
   "execution_count": 25,
   "id": "c2819503-3c1f-42e8-98b2-ebb65ff3f30c",
   "metadata": {},
   "outputs": [
    {
     "data": {
      "text/plain": [
       "'408'"
      ]
     },
     "execution_count": 25,
     "metadata": {},
     "output_type": "execute_result"
    }
   ],
   "source": [
    "results.group(1)"
   ]
  },
  {
   "cell_type": "code",
   "execution_count": 27,
   "id": "659cf654-1340-4631-82fd-b7aa153a2c72",
   "metadata": {},
   "outputs": [
    {
     "data": {
      "text/plain": [
       "'1234'"
      ]
     },
     "execution_count": 27,
     "metadata": {},
     "output_type": "execute_result"
    }
   ],
   "source": [
    "results.group(3)"
   ]
  },
  {
   "cell_type": "code",
   "execution_count": 29,
   "id": "68e8c4ed-10ef-4463-9c0f-f4e88b55d57f",
   "metadata": {},
   "outputs": [
    {
     "data": {
      "text/plain": [
       "<re.Match object; span=(5, 8), match='man'>"
      ]
     },
     "execution_count": 29,
     "metadata": {},
     "output_type": "execute_result"
    }
   ],
   "source": [
    "re.search(r\"man|woman\",\"This man was here.\")"
   ]
  },
  {
   "cell_type": "code",
   "execution_count": 31,
   "id": "188df652-6f73-44ca-97d6-7ab3e120e364",
   "metadata": {},
   "outputs": [
    {
     "data": {
      "text/plain": [
       "['cat', 'hat', 'sat']"
      ]
     },
     "execution_count": 31,
     "metadata": {},
     "output_type": "execute_result"
    }
   ],
   "source": [
    "re.findall(r\".at\",\"The cat in the hat sat here.\")"
   ]
  },
  {
   "cell_type": "code",
   "execution_count": 33,
   "id": "06ceee68-5714-41f1-b261-98f346f8c40a",
   "metadata": {},
   "outputs": [
    {
     "data": {
      "text/plain": [
       "['e bat', 'splat']"
      ]
     },
     "execution_count": 33,
     "metadata": {},
     "output_type": "execute_result"
    }
   ],
   "source": [
    "re.findall(r\"...at\",\"The bat went splat\")"
   ]
  },
  {
   "cell_type": "code",
   "execution_count": 35,
   "id": "bf3bc3fc-35cc-498c-be54-bec6dae1bde3",
   "metadata": {},
   "outputs": [
    {
     "data": {
      "text/plain": [
       "['2']"
      ]
     },
     "execution_count": 35,
     "metadata": {},
     "output_type": "execute_result"
    }
   ],
   "source": [
    "re.findall(r'\\d$','This ends with a number 2')"
   ]
  },
  {
   "cell_type": "code",
   "execution_count": 37,
   "id": "522828e9-3c17-45d8-97e6-b7462a2ed602",
   "metadata": {},
   "outputs": [
    {
     "data": {
      "text/plain": [
       "['t',\n",
       " 'h',\n",
       " 'e',\n",
       " 'r',\n",
       " 'e',\n",
       " ' ',\n",
       " 'a',\n",
       " 'r',\n",
       " 'e',\n",
       " ' ',\n",
       " ' ',\n",
       " 'n',\n",
       " 'u',\n",
       " 'm',\n",
       " 'b',\n",
       " 'e',\n",
       " 'r',\n",
       " 's',\n",
       " ' ',\n",
       " ' ',\n",
       " 'i',\n",
       " 'n',\n",
       " 's',\n",
       " 'i',\n",
       " 'd',\n",
       " 'e',\n",
       " ' ',\n",
       " ' ',\n",
       " 't',\n",
       " 'h',\n",
       " 'i',\n",
       " 's',\n",
       " ' ',\n",
       " 's',\n",
       " 'e',\n",
       " 'n',\n",
       " 't',\n",
       " 'e',\n",
       " 'n',\n",
       " 'c',\n",
       " 'e',\n",
       " '.']"
      ]
     },
     "execution_count": 37,
     "metadata": {},
     "output_type": "execute_result"
    }
   ],
   "source": [
    "phrase = \"there are 3 numbers 34 inside 5 this sentence.\"\n",
    "re.findall(r'[^\\d]',phrase)"
   ]
  },
  {
   "cell_type": "code",
   "execution_count": 39,
   "id": "d4f575be-1c6b-4fd5-b9df-67742352257e",
   "metadata": {},
   "outputs": [
    {
     "data": {
      "text/plain": [
       "['This',\n",
       " 'is',\n",
       " 'a',\n",
       " 'string',\n",
       " 'But',\n",
       " 'it',\n",
       " 'has',\n",
       " 'punctuation',\n",
       " 'How',\n",
       " 'can',\n",
       " 'we',\n",
       " 'remove',\n",
       " 'it']"
      ]
     },
     "execution_count": 39,
     "metadata": {},
     "output_type": "execute_result"
    }
   ],
   "source": [
    "test_phrase = 'This is a string! But it has punctuation. How can we remove it?'\n",
    "re.findall('[^!.? ]+',test_phrase)"
   ]
  },
  {
   "cell_type": "code",
   "execution_count": 41,
   "id": "317d271a-caf4-4864-bb69-af6c8c54f9a1",
   "metadata": {},
   "outputs": [
    {
     "data": {
      "text/plain": [
       "'This is a string But it has punctuation How can we remove it'"
      ]
     },
     "execution_count": 41,
     "metadata": {},
     "output_type": "execute_result"
    }
   ],
   "source": [
    "clean = ' '.join(re.findall('[^!.? ]+',test_phrase))\n",
    "clean"
   ]
  },
  {
   "cell_type": "code",
   "execution_count": 43,
   "id": "8730a28b-f207-4ea8-9629-607ae19f1667",
   "metadata": {},
   "outputs": [
    {
     "data": {
      "text/plain": [
       "['hypen-words', 'long-ish']"
      ]
     },
     "execution_count": 43,
     "metadata": {},
     "output_type": "execute_result"
    }
   ],
   "source": [
    "text = 'Only find the hypen-words in this sentence. But you do not know how long-ish they are'\n",
    "re.findall(r'[\\w]+-[\\w]+',text)"
   ]
  },
  {
   "cell_type": "code",
   "execution_count": 45,
   "id": "aa3fa5ed-9e35-44a8-b64e-507abefe3268",
   "metadata": {},
   "outputs": [
    {
     "data": {
      "text/plain": [
       "<re.Match object; span=(27, 34), match='catfish'>"
      ]
     },
     "execution_count": 45,
     "metadata": {},
     "output_type": "execute_result"
    }
   ],
   "source": [
    "text = 'Hello, would you like some catfish?'\n",
    "texttwo = \"Hello, would you like to take a catnap?\"\n",
    "textthree = \"Hello, have you seen this caterpillar?\"\n",
    "re.search(r'cat(fish|nap|claw)',text)"
   ]
  },
  {
   "cell_type": "code",
   "execution_count": 47,
   "id": "4cdfa16d-656e-4839-a334-163a54838138",
   "metadata": {},
   "outputs": [
    {
     "data": {
      "text/plain": [
       "<re.Match object; span=(32, 38), match='catnap'>"
      ]
     },
     "execution_count": 47,
     "metadata": {},
     "output_type": "execute_result"
    }
   ],
   "source": [
    "re.search(r'cat(fish|nap|claw)',texttwo)"
   ]
  },
  {
   "cell_type": "markdown",
   "id": "51efec67-1d42-43e6-a915-d396ed3870c0",
   "metadata": {},
   "source": [
    "### Timing your Code"
   ]
  },
  {
   "cell_type": "code",
   "execution_count": 6,
   "id": "6390b62b-6944-41db-a341-cba39b80fbca",
   "metadata": {},
   "outputs": [
    {
     "data": {
      "text/plain": [
       "['0', '1', '2', '3', '4', '5', '6', '7', '8', '9']"
      ]
     },
     "execution_count": 6,
     "metadata": {},
     "output_type": "execute_result"
    }
   ],
   "source": [
    "def f1(n):\n",
    "    return [str(num) for num in range(n)]\n",
    "f1(10)"
   ]
  },
  {
   "cell_type": "code",
   "execution_count": 8,
   "id": "90551917-180e-4d2a-8277-cee7da1f4a6f",
   "metadata": {},
   "outputs": [
    {
     "data": {
      "text/plain": [
       "['0', '1', '2', '3', '4', '5', '6', '7', '8', '9']"
      ]
     },
     "execution_count": 8,
     "metadata": {},
     "output_type": "execute_result"
    }
   ],
   "source": [
    "def f2(n):\n",
    "    return list(map(str,range(n)))\n",
    "f2(10)"
   ]
  },
  {
   "cell_type": "markdown",
   "id": "d423d00f-f99d-450d-a93a-4c249259de9a",
   "metadata": {},
   "source": [
    "### time() - Returns the current time in seconds since the Unix epoch."
   ]
  },
  {
   "cell_type": "code",
   "execution_count": 36,
   "id": "e6c30662-7c93-4566-bafb-4b79d3dfb90f",
   "metadata": {},
   "outputs": [
    {
     "name": "stdout",
     "output_type": "stream",
     "text": [
      "Elapsed time = 0.0001227855682373047\n",
      "Result = ['0', '1', '2', '3', '4', '5', '6', '7', '8', '9', '10', '11', '12', '13', '14', '15', '16', '17', '18', '19']\n"
     ]
    }
   ],
   "source": [
    "import time\n",
    "\n",
    "st = time.time()\n",
    "r = f1(20)\n",
    "et = time.time()\n",
    "elt = et - st\n",
    "print(f\"Elapsed time = {elt}\")\n",
    "print(f\"Result = {r}\")"
   ]
  },
  {
   "cell_type": "code",
   "execution_count": 20,
   "id": "6cf618c2-06be-4d5e-8b9a-d3d7e67c1933",
   "metadata": {},
   "outputs": [
    {
     "name": "stdout",
     "output_type": "stream",
     "text": [
      "Elapsed time = 0.0002396106719970703\n",
      "Result = ['0', '1', '2', '3', '4', '5', '6', '7', '8', '9', '10', '11', '12', '13', '14', '15', '16', '17', '18', '19']\n"
     ]
    }
   ],
   "source": [
    "st = time.time()\n",
    "r = f2(20)\n",
    "et = time.time()\n",
    "elt = et - st\n",
    "print(f\"Elapsed time = {elt}\")\n",
    "print(f\"Result = {r}\")"
   ]
  },
  {
   "cell_type": "markdown",
   "id": "a68fc3ad-c22b-4111-87e7-8376361c5feb",
   "metadata": {},
   "source": [
    "### timeit - measure the execution time of small code snippets. It's more accurate than using time.time() because it avoids timing issues like background processes or system clock updates."
   ]
  },
  {
   "cell_type": "code",
   "execution_count": 34,
   "id": "20542532-18ac-48fc-a5d8-952bebbe796a",
   "metadata": {},
   "outputs": [
    {
     "data": {
      "text/plain": [
       "0.008807400008663535"
      ]
     },
     "execution_count": 34,
     "metadata": {},
     "output_type": "execute_result"
    }
   ],
   "source": [
    "import timeit\n",
    "\n",
    "stmt = '''f1(20)'''\n",
    "setup = '''def f1(n): return [str(num) for num in range(n)]'''\n",
    "\n",
    "timeit.timeit(stmt,setup,number=1000)"
   ]
  },
  {
   "cell_type": "code",
   "execution_count": 35,
   "id": "a06f81ce-3970-4279-ae6c-67cb2b018914",
   "metadata": {},
   "outputs": [
    {
     "data": {
      "text/plain": [
       "0.006214299995917827"
      ]
     },
     "execution_count": 35,
     "metadata": {},
     "output_type": "execute_result"
    }
   ],
   "source": [
    "import timeit\n",
    "\n",
    "stmt2 = '''f2(20)'''\n",
    "setup2 = '''def f2(n): return list(map(str,range(n)))'''\n",
    "\n",
    "timeit.timeit(stmt2,setup2,number=1000)"
   ]
  },
  {
   "cell_type": "markdown",
   "id": "5d41039d-0edb-4525-a244-d9ecb1e0d13c",
   "metadata": {},
   "source": [
    "### %%timeit - measure the average execution time of a code block"
   ]
  },
  {
   "cell_type": "code",
   "execution_count": 38,
   "id": "189a159e-5685-43ef-95d8-91b055629fbc",
   "metadata": {},
   "outputs": [
    {
     "name": "stdout",
     "output_type": "stream",
     "text": [
      "7.45 μs ± 717 ns per loop (mean ± std. dev. of 7 runs, 100,000 loops each)\n"
     ]
    }
   ],
   "source": [
    "%%timeit\n",
    "f1(20)"
   ]
  },
  {
   "cell_type": "code",
   "execution_count": 40,
   "id": "99c61585-658d-412e-8c66-d60070d059e5",
   "metadata": {},
   "outputs": [
    {
     "name": "stdout",
     "output_type": "stream",
     "text": [
      "5.55 μs ± 1.04 μs per loop (mean ± std. dev. of 7 runs, 100,000 loops each)\n"
     ]
    }
   ],
   "source": [
    "%%timeit\n",
    "f2(20)"
   ]
  },
  {
   "cell_type": "markdown",
   "id": "3c4c07c0-25da-4ff7-9f81-b90c5916f70a",
   "metadata": {},
   "source": [
    "### Zipping and Unzipping Files"
   ]
  },
  {
   "cell_type": "code",
   "execution_count": 47,
   "id": "1a1752c8-d79c-4fec-a86d-98848db49f1b",
   "metadata": {},
   "outputs": [],
   "source": [
    "f = open(\"pr.txt\",'w+')\n",
    "f.write('Practice file 1')\n",
    "f.close()"
   ]
  },
  {
   "cell_type": "code",
   "execution_count": 48,
   "id": "e30eecde-3df8-45e1-a6a6-9bc001d9eae9",
   "metadata": {},
   "outputs": [],
   "source": [
    "f = open(\"pr2.txt\",'w+')\n",
    "f.write('Practice file 2')\n",
    "f.close()"
   ]
  },
  {
   "cell_type": "code",
   "execution_count": 54,
   "id": "ceba76e2-b164-4f5c-937b-50da72a30198",
   "metadata": {},
   "outputs": [],
   "source": [
    "import zipfile\n",
    "\n",
    "cf = zipfile.ZipFile('cf.zip','w')\n",
    "cf.write(\"pr.txt\",compress_type=zipfile.ZIP_DEFLATED)\n",
    "cf.write('pr2.txt',compress_type=zipfile.ZIP_DEFLATED)\n",
    "cf.close()"
   ]
  },
  {
   "cell_type": "markdown",
   "id": "bf215207-aec6-4500-92dc-fb40f8d68110",
   "metadata": {},
   "source": [
    "### Extracting from Zip Files"
   ]
  },
  {
   "cell_type": "code",
   "execution_count": 56,
   "id": "f9f4af29-ae05-44ce-aab4-abc2653b7e11",
   "metadata": {},
   "outputs": [],
   "source": [
    "zip_obj = zipfile.ZipFile('cf.zip','r')\n",
    "zip_obj.extractall(\"extracted_content\")"
   ]
  },
  {
   "cell_type": "code",
   "execution_count": 64,
   "id": "34a44925-0b61-4220-bab4-97b86e8feb0c",
   "metadata": {},
   "outputs": [],
   "source": [
    "import shutil"
   ]
  },
  {
   "cell_type": "code",
   "execution_count": 65,
   "id": "058a8df4-eed1-4aa9-8505-d8f508d15d4a",
   "metadata": {},
   "outputs": [
    {
     "data": {
      "text/plain": [
       "'C:\\\\Users\\\\LinaDholaiya'"
      ]
     },
     "execution_count": 65,
     "metadata": {},
     "output_type": "execute_result"
    }
   ],
   "source": [
    "pwd"
   ]
  },
  {
   "cell_type": "code",
   "execution_count": 68,
   "id": "c84aba97-b627-40fa-adaa-c665ec746084",
   "metadata": {},
   "outputs": [],
   "source": [
    "directory_to_zip='C:\\\\Users\\\\LinaDholaiya\\\\Downloads\\\\Git files'"
   ]
  },
  {
   "cell_type": "code",
   "execution_count": 70,
   "id": "4273aa31-4cbe-4bb0-91a3-3194de7d0042",
   "metadata": {},
   "outputs": [
    {
     "data": {
      "text/plain": [
       "'C:\\\\Users\\\\LinaDholaiya\\\\example.zip'"
      ]
     },
     "execution_count": 70,
     "metadata": {},
     "output_type": "execute_result"
    }
   ],
   "source": [
    "output_filename = 'example'\n",
    "shutil.make_archive(output_filename,'zip',directory_to_zip)"
   ]
  }
 ],
 "metadata": {
  "kernelspec": {
   "display_name": "Python 3 (ipykernel)",
   "language": "python",
   "name": "python3"
  },
  "language_info": {
   "codemirror_mode": {
    "name": "ipython",
    "version": 3
   },
   "file_extension": ".py",
   "mimetype": "text/x-python",
   "name": "python",
   "nbconvert_exporter": "python",
   "pygments_lexer": "ipython3",
   "version": "3.13.5"
  }
 },
 "nbformat": 4,
 "nbformat_minor": 5
}
