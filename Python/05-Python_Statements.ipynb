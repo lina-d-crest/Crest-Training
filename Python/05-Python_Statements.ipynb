{
 "cells": [
  {
   "cell_type": "markdown",
   "id": "9df43e21-3336-4eee-a957-2c5569662d80",
   "metadata": {},
   "source": [
    "### If-Else"
   ]
  },
  {
   "cell_type": "code",
   "execution_count": 1,
   "id": "ca226030-be8f-4016-9d32-9eaf60ece873",
   "metadata": {},
   "outputs": [
    {
     "name": "stdout",
     "output_type": "stream",
     "text": [
      "True\n"
     ]
    }
   ],
   "source": [
    "if 3>2:\n",
    "    print(\"True\")\n",
    "else:\n",
    "    print(\"False\")"
   ]
  },
  {
   "cell_type": "code",
   "execution_count": 6,
   "id": "0786fb97-797b-4d41-be8e-5043fda72b6a",
   "metadata": {},
   "outputs": [
    {
     "name": "stdin",
     "output_type": "stream",
     "text": [
      " 16\n"
     ]
    },
    {
     "name": "stdout",
     "output_type": "stream",
     "text": [
      "Even and in range of (6,20)\n"
     ]
    }
   ],
   "source": [
    "n = int(input().strip())\n",
    "\n",
    "if n%2!=0:\n",
    "    print(\"Odd\")\n",
    "elif n>=2 and n<=5 :\n",
    "    print(\"Even and in range of (2,5)\")\n",
    "elif n>=6 and n<=20:\n",
    "    print(\"Even and in range of (6,20)\")\n",
    "elif n>=20:\n",
    "    print(\"Even and Greayer tha 20\")"
   ]
  },
  {
   "cell_type": "code",
   "execution_count": 5,
   "id": "16e913af-52eb-45f1-9486-d8560a59ad89",
   "metadata": {},
   "outputs": [
    {
     "name": "stdin",
     "output_type": "stream",
     "text": [
      " 1992\n"
     ]
    },
    {
     "name": "stdout",
     "output_type": "stream",
     "text": [
      "True\n"
     ]
    }
   ],
   "source": [
    "year = int(input())\n",
    "if year%400==0 or (year%4==0 and year%100!=0):\n",
    "    print(\"True\")\n",
    "else:\n",
    "    print(\"False\")"
   ]
  },
  {
   "cell_type": "markdown",
   "id": "6e004af4-8b09-4ce4-9b07-128cb72c8a10",
   "metadata": {},
   "source": [
    "### For Loop"
   ]
  },
  {
   "cell_type": "code",
   "execution_count": 8,
   "id": "14dcb913-300e-44cc-8623-7393cb6e4002",
   "metadata": {},
   "outputs": [
    {
     "name": "stdin",
     "output_type": "stream",
     "text": [
      "Enter number:  5\n"
     ]
    },
    {
     "name": "stdout",
     "output_type": "stream",
     "text": [
      "0\n",
      "1\n",
      "4\n",
      "9\n",
      "16\n"
     ]
    }
   ],
   "source": [
    "n = int(input(\"Enter number: \"))\n",
    "    \n",
    "for i in range(0,n):\n",
    "    print(pow(i,2))"
   ]
  },
  {
   "cell_type": "code",
   "execution_count": 10,
   "id": "50b4d941-7b63-47ca-ae8b-c6da27279285",
   "metadata": {},
   "outputs": [
    {
     "name": "stdin",
     "output_type": "stream",
     "text": [
      "Enter number:  7\n"
     ]
    },
    {
     "name": "stdout",
     "output_type": "stream",
     "text": [
      "1234567"
     ]
    }
   ],
   "source": [
    "n = int(input(\"Enter number: \"))\n",
    "    \n",
    "for i in range(1,n+1):\n",
    "    print(i,end=\"\")"
   ]
  },
  {
   "cell_type": "code",
   "execution_count": 13,
   "id": "5990c637-238c-4e22-9ae4-f3f3396159ca",
   "metadata": {},
   "outputs": [
    {
     "name": "stdout",
     "output_type": "stream",
     "text": [
      "1 is Odd\n",
      "2 is Even\n",
      "3 is Odd\n",
      "4 is Even\n",
      "5 is Odd\n",
      "6 is Even\n",
      "7 is Odd\n",
      "8 is Even\n",
      "9 is Odd\n",
      "10 is Even\n"
     ]
    }
   ],
   "source": [
    "list = [1,2,3,4,5,6,7,8,9,10]\n",
    "\n",
    "for i in list:\n",
    "    if i%2==0:\n",
    "        print(f\"{i} is Even\")\n",
    "    else:\n",
    "        print(f\"{i} is Odd\")"
   ]
  },
  {
   "cell_type": "code",
   "execution_count": 14,
   "id": "fff754df-8212-46cc-aa92-c2f599dc8e10",
   "metadata": {},
   "outputs": [
    {
     "name": "stdout",
     "output_type": "stream",
     "text": [
      "H\n",
      "e\n",
      "l\n",
      "l\n",
      "o\n",
      " \n",
      "W\n",
      "o\n",
      "r\n",
      "l\n",
      "d\n"
     ]
    }
   ],
   "source": [
    "s = \"Hello World\"\n",
    "\n",
    "for i in s:\n",
    "    print(i)"
   ]
  },
  {
   "cell_type": "code",
   "execution_count": 15,
   "id": "00e9828f-68ad-49ca-b17f-164f35ea1264",
   "metadata": {},
   "outputs": [
    {
     "name": "stdout",
     "output_type": "stream",
     "text": [
      "(1, 2)\n",
      "(3, 4)\n",
      "(5, 6)\n"
     ]
    }
   ],
   "source": [
    "list = [(1,2),(3,4),(5,6)]\n",
    "\n",
    "for i in list:\n",
    "    print(i)\n"
   ]
  },
  {
   "cell_type": "code",
   "execution_count": 16,
   "id": "1869ef5d-92f7-433b-b45e-669a657d0c03",
   "metadata": {},
   "outputs": [
    {
     "name": "stdout",
     "output_type": "stream",
     "text": [
      "1\n",
      "2\n",
      "3\n"
     ]
    }
   ],
   "source": [
    "d = {\n",
    "    'a':1,\n",
    "    'b':2,\n",
    "    'c':3\n",
    "    }\n",
    "for i in d.values():\n",
    "    print(i)"
   ]
  },
  {
   "cell_type": "markdown",
   "id": "15d3ccab-3ede-4d03-8f21-8d58e4de870d",
   "metadata": {},
   "source": [
    "### While Loop"
   ]
  },
  {
   "cell_type": "code",
   "execution_count": 17,
   "id": "20cf45cc-5242-41f8-9cc0-cb78a7bb3e7a",
   "metadata": {},
   "outputs": [
    {
     "name": "stdout",
     "output_type": "stream",
     "text": [
      "Current value of x is 0\n",
      "Current value of x is 1\n",
      "Current value of x is 2\n",
      "Current value of x is 3\n",
      "Current value of x is 4\n"
     ]
    }
   ],
   "source": [
    "x = 0\n",
    "while x < 5:\n",
    "    print(f\"Current value of x is {x}\")\n",
    "    x += 1;"
   ]
  },
  {
   "cell_type": "markdown",
   "id": "e2e014fd-7451-4682-bd8e-4a1f43f9e7f8",
   "metadata": {},
   "source": [
    "Break, Continue, Pass"
   ]
  },
  {
   "cell_type": "code",
   "execution_count": 1,
   "id": "3f9756ec-0ca1-44cd-b29c-a159b7bcedec",
   "metadata": {},
   "outputs": [
    {
     "name": "stdout",
     "output_type": "stream",
     "text": [
      "Current value of x is 0\n",
      "Current value of x is 1\n",
      "Current value of x is 2\n",
      "Current value of x is 3\n"
     ]
    }
   ],
   "source": [
    "x = 0\n",
    "while x < 5:\n",
    "    print(f\"Current value of x is {x}\")\n",
    "    if x==3:\n",
    "        break;\n",
    "    x += 1;"
   ]
  },
  {
   "cell_type": "code",
   "execution_count": null,
   "id": "31afbe83-8508-45df-9414-a03cadbd49d8",
   "metadata": {},
   "outputs": [
    {
     "name": "stdout",
     "output_type": "stream",
     "text": [
      "Current value of x is 0\n",
      "Current value of x is 1\n",
      "Current value of x is 2\n"
     ]
    }
   ],
   "source": [
    "x = 0\n",
    "while x < 5:\n",
    "    if x==3:\n",
    "        continue\n",
    "    print(f\"Current value of x is {x}\")\n",
    "    x += 1;"
   ]
  },
  {
   "cell_type": "code",
   "execution_count": 4,
   "id": "366e89c1-5b47-4821-9622-0194f0110f4d",
   "metadata": {},
   "outputs": [
    {
     "name": "stdout",
     "output_type": "stream",
     "text": [
      "Nothing\n"
     ]
    }
   ],
   "source": [
    "list = [1,2,3]\n",
    "\n",
    "for item in list:\n",
    "    pass\n",
    "    \n",
    "print(\"Nothing\")"
   ]
  },
  {
   "cell_type": "code",
   "execution_count": 11,
   "id": "e2b8ef4e-9f51-4531-9030-5c23ae6ccd9b",
   "metadata": {},
   "outputs": [
    {
     "name": "stdout",
     "output_type": "stream",
     "text": [
      "1\n",
      "3\n",
      "5\n",
      "7\n",
      "9\n"
     ]
    }
   ],
   "source": [
    "list = [1,2,3,4,5,6,7,8,9,10]\n",
    "for num in range(1,10,2):\n",
    "    print(num)"
   ]
  },
  {
   "cell_type": "code",
   "execution_count": 15,
   "id": "7d1a4807-91d6-48be-ae7d-6c91ab978513",
   "metadata": {},
   "outputs": [
    {
     "data": {
      "text/plain": [
       "['H', 'e', 'l', 'l', 'o']"
      ]
     },
     "execution_count": 15,
     "metadata": {},
     "output_type": "execute_result"
    }
   ],
   "source": [
    "s = \"Hello\"\n",
    "list = []\n",
    "\n",
    "for i in s:\n",
    "    list.append(i)\n",
    "list"
   ]
  },
  {
   "cell_type": "code",
   "execution_count": 17,
   "id": "439f17b6-3b1b-4fd4-9d9a-f577ccae7ab8",
   "metadata": {},
   "outputs": [
    {
     "data": {
      "text/plain": [
       "[50.0, 68.0, 93.2, 126.5]"
      ]
     },
     "execution_count": 17,
     "metadata": {},
     "output_type": "execute_result"
    }
   ],
   "source": [
    "c = [10,20,34,52.5]\n",
    "f = [((9/5)*temp +32) for temp in c]\n",
    "f"
   ]
  },
  {
   "cell_type": "code",
   "execution_count": 20,
   "id": "704c91ba-71e8-44e6-8149-649c177f9e7f",
   "metadata": {},
   "outputs": [
    {
     "data": {
      "text/plain": [
       "[0, 'Odd', 2, 'Odd', 4, 'Odd', 6, 'Odd', 8, 'Odd', 10]"
      ]
     },
     "execution_count": 20,
     "metadata": {},
     "output_type": "execute_result"
    }
   ],
   "source": [
    "r = [x if x%2==0 else \"Odd\" for x in range(0,11)]\n",
    "r"
   ]
  },
  {
   "cell_type": "code",
   "execution_count": 21,
   "id": "7251db3d-8710-4b27-b648-74df05e46076",
   "metadata": {},
   "outputs": [
    {
     "data": {
      "text/plain": [
       "[12, 22, 32, 14, 24, 34, 16, 26, 36]"
      ]
     },
     "execution_count": 21,
     "metadata": {},
     "output_type": "execute_result"
    }
   ],
   "source": [
    "l = []\n",
    "\n",
    "for x in [2,4,6]:\n",
    "    for y in [10,20,30]:\n",
    "        l.append(x+y)\n",
    "\n",
    "l"
   ]
  }
 ],
 "metadata": {
  "kernelspec": {
   "display_name": "Python 3 (ipykernel)",
   "language": "python",
   "name": "python3"
  },
  "language_info": {
   "codemirror_mode": {
    "name": "ipython",
    "version": 3
   },
   "file_extension": ".py",
   "mimetype": "text/x-python",
   "name": "python",
   "nbconvert_exporter": "python",
   "pygments_lexer": "ipython3",
   "version": "3.13.5"
  }
 },
 "nbformat": 4,
 "nbformat_minor": 5
}
