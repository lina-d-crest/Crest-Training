{
 "cells": [
  {
   "cell_type": "markdown",
   "id": "b1a8783f-f46b-4f8d-a449-b3b3c8a1c7dc",
   "metadata": {},
   "source": [
    "### Input Validation"
   ]
  },
  {
   "cell_type": "code",
   "execution_count": 4,
   "id": "eeca0511-611d-40ae-b867-f31ee02dd868",
   "metadata": {},
   "outputs": [
    {
     "name": "stdin",
     "output_type": "stream",
     "text": [
      "Enter digit:  fggb\n",
      "Enter digit:  df\n",
      "Enter digit:  sgfdr\n",
      "Enter digit:  234\n"
     ]
    },
    {
     "data": {
      "text/plain": [
       "'234'"
      ]
     },
     "execution_count": 4,
     "metadata": {},
     "output_type": "execute_result"
    }
   ],
   "source": [
    "def user_input():\n",
    "    choice = 'Wrong'\n",
    "\n",
    "    while choice.isdigit() == False:\n",
    "\n",
    "        choice = input(\"Enter digit: \") \n",
    "\n",
    "    return choice\n",
    "\n",
    "user_input()"
   ]
  },
  {
   "cell_type": "markdown",
   "id": "b15668d9-a5d7-4cfe-ad93-6b81852b3117",
   "metadata": {},
   "source": [
    "### User Interaction"
   ]
  },
  {
   "cell_type": "code",
   "execution_count": 5,
   "id": "05d7444f-6188-4a6e-ad0e-2af14ce32b49",
   "metadata": {},
   "outputs": [
    {
     "name": "stdin",
     "output_type": "stream",
     "text": [
      "Enter a digit in range of 0 to 10:  rgtr\n"
     ]
    },
    {
     "name": "stdout",
     "output_type": "stream",
     "text": [
      "It's not a digit\n"
     ]
    },
    {
     "name": "stdin",
     "output_type": "stream",
     "text": [
      "Enter a digit in range of 0 to 10:  fgd\n"
     ]
    },
    {
     "name": "stdout",
     "output_type": "stream",
     "text": [
      "It's not a digit\n"
     ]
    },
    {
     "name": "stdin",
     "output_type": "stream",
     "text": [
      "Enter a digit in range of 0 to 10:  45\n",
      "Enter a digit in range of 0 to 10:  3\n"
     ]
    },
    {
     "data": {
      "text/plain": [
       "3"
      ]
     },
     "execution_count": 5,
     "metadata": {},
     "output_type": "execute_result"
    }
   ],
   "source": [
    "def user_input():\n",
    "    choice = 'Wrong'\n",
    "    a_range = range(1,10)\n",
    "    w_range = False\n",
    "    \n",
    "    while choice.isdigit() == False or w_range==False:\n",
    "\n",
    "        choice = input(\"Enter a digit in range of 0 to 10: \") \n",
    "\n",
    "        if choice.isdigit() == False:\n",
    "            print(\"It's not a digit\")\n",
    "        else:\n",
    "            if int(choice) in a_range:\n",
    "                w_range = True\n",
    "            else:\n",
    "                w_range = False\n",
    "\n",
    "    return int(choice)\n",
    "\n",
    "user_input()"
   ]
  },
  {
   "cell_type": "code",
   "execution_count": 1,
   "id": "2410afa4-00f4-4916-a85e-dd1c0632c901",
   "metadata": {},
   "outputs": [
    {
     "name": "stdin",
     "output_type": "stream",
     "text": [
      "Enter a digit in [1,2,3]:  two\n"
     ]
    },
    {
     "name": "stdout",
     "output_type": "stream",
     "text": [
      "Invalid\n"
     ]
    },
    {
     "name": "stdin",
     "output_type": "stream",
     "text": [
      "Enter a digit in [1,2,3]:  6\n"
     ]
    },
    {
     "name": "stdout",
     "output_type": "stream",
     "text": [
      "Invalid\n"
     ]
    },
    {
     "name": "stdin",
     "output_type": "stream",
     "text": [
      "Enter a digit in [1,2,3]:  2\n"
     ]
    },
    {
     "name": "stdout",
     "output_type": "stream",
     "text": [
      "Invalid\n"
     ]
    },
    {
     "data": {
      "text/plain": [
       "2"
      ]
     },
     "execution_count": 1,
     "metadata": {},
     "output_type": "execute_result"
    }
   ],
   "source": [
    "def user_input():\n",
    "    choice = 'Wrong'\n",
    "    a_range = range(1,10)\n",
    "    w_range = False\n",
    "    \n",
    "    while choice not in ['1','2','3']:\n",
    "\n",
    "        choice = input(\"Enter a digit in [1,2,3]: \") \n",
    "\n",
    "        if choice not in [1,2,3]:\n",
    "            print(\"Invalid\")\n",
    "        \n",
    "    return int(choice)\n",
    "\n",
    "user_input()"
   ]
  },
  {
   "cell_type": "code",
   "execution_count": 4,
   "id": "607606b7-9f89-459a-8b91-735b56675f45",
   "metadata": {},
   "outputs": [
    {
     "name": "stdout",
     "output_type": "stream",
     "text": [
      "Sorry, but you did not enter an integer. Please try again.\n"
     ]
    },
    {
     "name": "stdin",
     "output_type": "stream",
     "text": [
      "Choose a number:  6\n"
     ]
    },
    {
     "data": {
      "text/plain": [
       "6"
      ]
     },
     "execution_count": 4,
     "metadata": {},
     "output_type": "execute_result"
    }
   ],
   "source": [
    "from IPython.display import clear_output\n",
    "clear_output()\n",
    "\n",
    "def user_choice():\n",
    "   \n",
    "    choice = 'wrong'\n",
    "  \n",
    "    while choice.isdigit() == False:\n",
    "   \n",
    "        choice = input(\"Choose a number: \")\n",
    "        \n",
    "        if choice.isdigit() == False:\n",
    "            clear_output()\n",
    "            \n",
    "            print(\"Sorry, but you did not enter an integer. Please try again.\")\n",
    "\n",
    "    return int(choice)\n",
    "user_choice()"
   ]
  },
  {
   "cell_type": "markdown",
   "id": "58e6d878-bd12-4d7d-be07-2bfa52fde5f4",
   "metadata": {},
   "source": [
    "### Simple Game"
   ]
  },
  {
   "cell_type": "code",
   "execution_count": 10,
   "id": "91669dab-8ee1-423e-b620-77d2835f0ec3",
   "metadata": {},
   "outputs": [
    {
     "name": "stdout",
     "output_type": "stream",
     "text": [
      "Here is the current list\n",
      "[0, 1, 2]\n"
     ]
    }
   ],
   "source": [
    "game_list = [0,1,2]\n",
    "def display_game(game_list):\n",
    "    print(\"Here is the current list\")\n",
    "    print(game_list)\n",
    "display_game(game_list)"
   ]
  },
  {
   "cell_type": "code",
   "execution_count": 11,
   "id": "ee81b8e7-687d-4c39-9210-5d8e40fa365c",
   "metadata": {},
   "outputs": [],
   "source": [
    "def position_choice():\n",
    "    \n",
    "    choice = 'wrong'\n",
    "    \n",
    "    while choice not in ['0','1','2']:\n",
    "        \n",
    "        choice = input(\"Pick a position to replace (0,1,2): \")\n",
    "        \n",
    "        if choice not in ['0','1','2']:\n",
    "            clear_output()\n",
    "            print(\"Sorry, but you did not choose a valid position (0,1,2)\")\n",
    "\n",
    "    return int(choice)"
   ]
  },
  {
   "cell_type": "code",
   "execution_count": 12,
   "id": "5485556c-c349-40a3-a558-a608e41ef6ab",
   "metadata": {},
   "outputs": [],
   "source": [
    "def replacement_choice(game_list,position):\n",
    "    \n",
    "    user_placement = input(\"Type a string to place at the position\")\n",
    "    \n",
    "    game_list[position] = user_placement\n",
    "    \n",
    "    return game_list"
   ]
  },
  {
   "cell_type": "code",
   "execution_count": 13,
   "id": "5bfd8f8c-0f4d-40bd-8341-9d4c42feb567",
   "metadata": {},
   "outputs": [],
   "source": [
    "def gameon_choice():\n",
    "    \n",
    "    choice = 'wrong'\n",
    "    \n",
    "    while choice not in ['Y','N']:\n",
    "        \n",
    "        choice = input(\"Would you like to keep playing? Y or N \")\n",
    "\n",
    "        \n",
    "        if choice not in ['Y','N']:\n",
    "            clear_output()\n",
    "            print(\"Sorry, I didn't understand. Please make sure to choose Y or N.\")\n",
    "            \n",
    "    if choice == \"Y\":\n",
    "        # Game is still on\n",
    "        return True\n",
    "    else:\n",
    "        # Game is over\n",
    "        return False"
   ]
  },
  {
   "cell_type": "code",
   "execution_count": null,
   "id": "d082ca9d-001f-4c2c-8048-a55fbec45616",
   "metadata": {},
   "outputs": [
    {
     "name": "stdout",
     "output_type": "stream",
     "text": [
      "Sorry, I didn't understand. Please make sure to choose Y or N.\n"
     ]
    }
   ],
   "source": [
    "game_on = True\n",
    "\n",
    "game_list = [0,1,2]\n",
    "\n",
    "while game_on:\n",
    "   \n",
    "    clear_output()\n",
    "    display_game(game_list)\n",
    "    \n",
    "    position = position_choice()\n",
    "    \n",
    "    game_list = replacement_choice(game_list,position)\n",
    "    \n",
    "    clear_output()\n",
    "    display_game(game_list)\n",
    " \n",
    "    game_on = gameon_choice()\n",
    "    "
   ]
  }
 ],
 "metadata": {
  "kernelspec": {
   "display_name": "Python 3 (ipykernel)",
   "language": "python",
   "name": "python3"
  },
  "language_info": {
   "codemirror_mode": {
    "name": "ipython",
    "version": 3
   },
   "file_extension": ".py",
   "mimetype": "text/x-python",
   "name": "python",
   "nbconvert_exporter": "python",
   "pygments_lexer": "ipython3",
   "version": "3.13.5"
  }
 },
 "nbformat": 4,
 "nbformat_minor": 5
}
