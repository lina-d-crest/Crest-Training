{
 "cells": [
  {
   "cell_type": "markdown",
   "id": "4f2f0705-e97d-48fd-a064-c3e22d34ce81",
   "metadata": {},
   "source": [
    "### Numbers"
   ]
  },
  {
   "cell_type": "code",
   "execution_count": 1,
   "id": "ebd3c1a8-9ee1-4a08-a43d-394c7f2372ba",
   "metadata": {},
   "outputs": [
    {
     "data": {
      "text/plain": [
       "3"
      ]
     },
     "execution_count": 1,
     "metadata": {},
     "output_type": "execute_result"
    }
   ],
   "source": [
    "2+1"
   ]
  },
  {
   "cell_type": "code",
   "execution_count": 2,
   "id": "c05962cc-c81e-48b1-8d4f-163d8223046c",
   "metadata": {},
   "outputs": [
    {
     "data": {
      "text/plain": [
       "1"
      ]
     },
     "execution_count": 2,
     "metadata": {},
     "output_type": "execute_result"
    }
   ],
   "source": [
    "2-1"
   ]
  },
  {
   "cell_type": "code",
   "execution_count": 3,
   "id": "a86df2e2-d7f3-4054-891f-d88c45b0850e",
   "metadata": {},
   "outputs": [
    {
     "data": {
      "text/plain": [
       "1.5"
      ]
     },
     "execution_count": 3,
     "metadata": {},
     "output_type": "execute_result"
    }
   ],
   "source": [
    "3/2"
   ]
  },
  {
   "cell_type": "markdown",
   "id": "fc888bc2-9f35-4566-940e-9da90571dbc1",
   "metadata": {},
   "source": [
    "### Modulo or \"Mod\" Operator"
   ]
  },
  {
   "cell_type": "code",
   "execution_count": 4,
   "id": "b1d81caa-ad89-4b3b-aa47-ed3ff66735a2",
   "metadata": {},
   "outputs": [
    {
     "data": {
      "text/plain": [
       "1.75"
      ]
     },
     "execution_count": 4,
     "metadata": {},
     "output_type": "execute_result"
    }
   ],
   "source": [
    " 7 / 4"
   ]
  },
  {
   "cell_type": "code",
   "execution_count": 5,
   "id": "fe9ee9f4-1d93-4ddf-a922-bba9ec4afe5c",
   "metadata": {},
   "outputs": [
    {
     "data": {
      "text/plain": [
       "3"
      ]
     },
     "execution_count": 5,
     "metadata": {},
     "output_type": "execute_result"
    }
   ],
   "source": [
    "7 % 4"
   ]
  },
  {
   "cell_type": "code",
   "execution_count": 6,
   "id": "bf35c883-fc0f-4bfd-8358-a57679a99dd7",
   "metadata": {},
   "outputs": [
    {
     "data": {
      "text/plain": [
       "1"
      ]
     },
     "execution_count": 6,
     "metadata": {},
     "output_type": "execute_result"
    }
   ],
   "source": [
    "7 // 4"
   ]
  },
  {
   "cell_type": "code",
   "execution_count": 9,
   "id": "9e94ec66-5158-4776-8598-7070a76d8ef2",
   "metadata": {},
   "outputs": [
    {
     "data": {
      "text/plain": [
       "106"
      ]
     },
     "execution_count": 9,
     "metadata": {},
     "output_type": "execute_result"
    }
   ],
   "source": [
    "2  + 10 * 10 + 4 "
   ]
  },
  {
   "cell_type": "code",
   "execution_count": 10,
   "id": "ef75745e-35d6-4abf-9695-64a76cdab7d7",
   "metadata": {},
   "outputs": [
    {
     "data": {
      "text/plain": [
       "168"
      ]
     },
     "execution_count": 10,
     "metadata": {},
     "output_type": "execute_result"
    }
   ],
   "source": [
    "(2+10) *(10+4)"
   ]
  },
  {
   "cell_type": "markdown",
   "id": "da6dd7a2-6b8c-4352-8add-5bc4a36db34d",
   "metadata": {},
   "source": [
    "### Data Types"
   ]
  },
  {
   "cell_type": "code",
   "execution_count": 11,
   "id": "26a11943-acfd-4b73-a3a3-151a240eb3da",
   "metadata": {},
   "outputs": [],
   "source": [
    "a = 10"
   ]
  },
  {
   "cell_type": "code",
   "execution_count": 12,
   "id": "31f6f06d-a612-4320-8656-3f2c10ac11a7",
   "metadata": {},
   "outputs": [],
   "source": [
    "a = a+a"
   ]
  },
  {
   "cell_type": "code",
   "execution_count": 13,
   "id": "fc383023-9a6f-4429-9e1f-46938ce86ee9",
   "metadata": {},
   "outputs": [
    {
     "name": "stdout",
     "output_type": "stream",
     "text": [
      "20\n"
     ]
    }
   ],
   "source": [
    "print(a)"
   ]
  },
  {
   "cell_type": "code",
   "execution_count": 14,
   "id": "64795081-e752-4aaf-82d6-dca0d43defd5",
   "metadata": {},
   "outputs": [
    {
     "data": {
      "text/plain": [
       "int"
      ]
     },
     "execution_count": 14,
     "metadata": {},
     "output_type": "execute_result"
    }
   ],
   "source": [
    "type(a)"
   ]
  },
  {
   "cell_type": "code",
   "execution_count": 16,
   "id": "9be85a7a-b915-4557-bd68-0bda79bd7f47",
   "metadata": {},
   "outputs": [],
   "source": [
    "sentence = \"this is my pc\""
   ]
  },
  {
   "cell_type": "code",
   "execution_count": 17,
   "id": "bf6ccd73-a684-4c5c-b3b6-5044f462214d",
   "metadata": {},
   "outputs": [
    {
     "name": "stdout",
     "output_type": "stream",
     "text": [
      "this is my pc\n"
     ]
    }
   ],
   "source": [
    "print(sentence)"
   ]
  },
  {
   "cell_type": "code",
   "execution_count": 18,
   "id": "41a9542c-9aba-40fd-969f-25efd449e239",
   "metadata": {},
   "outputs": [],
   "source": [
    "my_income = 100\n",
    "\n",
    "tax_rate = 0.1\n",
    "\n",
    "my_taxes = my_income*tax_rate"
   ]
  },
  {
   "cell_type": "code",
   "execution_count": 19,
   "id": "9b5f106a-7298-48bb-9c8f-0e8c68d6bbc1",
   "metadata": {},
   "outputs": [
    {
     "data": {
      "text/plain": [
       "10.0"
      ]
     },
     "execution_count": 19,
     "metadata": {},
     "output_type": "execute_result"
    }
   ],
   "source": [
    "my_taxes"
   ]
  },
  {
   "cell_type": "markdown",
   "id": "c9caf913-7677-4346-82be-08fa36b36af7",
   "metadata": {},
   "source": [
    "### Strings"
   ]
  },
  {
   "cell_type": "code",
   "execution_count": 20,
   "id": "bc63afbd-3094-4781-9f1d-0e417ca59f03",
   "metadata": {},
   "outputs": [],
   "source": [
    "string1 = \"this is my horse\""
   ]
  },
  {
   "cell_type": "code",
   "execution_count": 21,
   "id": "ef35ff39-4133-4722-8c1b-10239d35b565",
   "metadata": {},
   "outputs": [],
   "source": [
    "char = 'this'"
   ]
  },
  {
   "cell_type": "code",
   "execution_count": 23,
   "id": "3a34806d-b2b4-40b2-90f5-17b008564662",
   "metadata": {},
   "outputs": [
    {
     "name": "stdout",
     "output_type": "stream",
     "text": [
      "<class 'str'>\n"
     ]
    }
   ],
   "source": [
    "print(type(char))"
   ]
  },
  {
   "cell_type": "code",
   "execution_count": 24,
   "id": "42e6bbe8-91ad-4487-96b3-09a5ecf30d5b",
   "metadata": {},
   "outputs": [
    {
     "name": "stdout",
     "output_type": "stream",
     "text": [
      "s\n"
     ]
    }
   ],
   "source": [
    "print(char[-1])"
   ]
  },
  {
   "cell_type": "code",
   "execution_count": 25,
   "id": "34e8581b-8280-43c6-9e6c-5c51768a14b5",
   "metadata": {},
   "outputs": [
    {
     "data": {
      "text/plain": [
       "'this is a string example'"
      ]
     },
     "execution_count": 25,
     "metadata": {},
     "output_type": "execute_result"
    }
   ],
   "source": [
    "'this is a string example'"
   ]
  },
  {
   "cell_type": "code",
   "execution_count": 26,
   "id": "ee370e05-3344-432b-8a2a-46c6187b63d8",
   "metadata": {},
   "outputs": [
    {
     "data": {
      "text/plain": [
       "'this is a string example'"
      ]
     },
     "execution_count": 26,
     "metadata": {},
     "output_type": "execute_result"
    }
   ],
   "source": [
    "\"this is a string example\""
   ]
  },
  {
   "cell_type": "code",
   "execution_count": 28,
   "id": "41420f5f-74e4-4c75-ad9b-3b195d1d3e5f",
   "metadata": {},
   "outputs": [
    {
     "data": {
      "text/plain": [
       "'hello world two'"
      ]
     },
     "execution_count": 28,
     "metadata": {},
     "output_type": "execute_result"
    }
   ],
   "source": [
    "'hello world one'\n",
    "'hello world two'"
   ]
  },
  {
   "cell_type": "code",
   "execution_count": 30,
   "id": "ffbfc99f-df6e-4d07-b0bc-79c3594c2433",
   "metadata": {},
   "outputs": [
    {
     "name": "stdout",
     "output_type": "stream",
     "text": [
      "hellloo \t world\n"
     ]
    }
   ],
   "source": [
    "print(\"hellloo \\t world\")"
   ]
  },
  {
   "cell_type": "code",
   "execution_count": 31,
   "id": "7621981b-c385-4a47-8a4f-ca38eeb6802f",
   "metadata": {},
   "outputs": [
    {
     "data": {
      "text/plain": [
       "13"
      ]
     },
     "execution_count": 31,
     "metadata": {},
     "output_type": "execute_result"
    }
   ],
   "source": [
    "len(sentence)"
   ]
  },
  {
   "cell_type": "code",
   "execution_count": 32,
   "id": "ad82e422-8147-432e-bbd8-4af13fe2eb52",
   "metadata": {},
   "outputs": [
    {
     "data": {
      "text/plain": [
       "4"
      ]
     },
     "execution_count": 32,
     "metadata": {},
     "output_type": "execute_result"
    }
   ],
   "source": [
    "len(\"i am\")"
   ]
  },
  {
   "cell_type": "markdown",
   "id": "fed70c46-06f9-461c-b2a5-4d53bfc9954f",
   "metadata": {},
   "source": [
    "### Indexing and Slicing"
   ]
  },
  {
   "cell_type": "code",
   "execution_count": 35,
   "id": "9dc830d4-5def-4afa-942f-a654582c0107",
   "metadata": {},
   "outputs": [],
   "source": [
    "mystring = \"hello world\""
   ]
  },
  {
   "cell_type": "code",
   "execution_count": 36,
   "id": "fcd23e7c-3c47-4dc1-ab15-3f102607c6f6",
   "metadata": {},
   "outputs": [
    {
     "data": {
      "text/plain": [
       "'hello world'"
      ]
     },
     "execution_count": 36,
     "metadata": {},
     "output_type": "execute_result"
    }
   ],
   "source": [
    "mystring"
   ]
  },
  {
   "cell_type": "code",
   "execution_count": 37,
   "id": "d24b2e09-37c5-4d6a-97f3-1242fb6c0b46",
   "metadata": {},
   "outputs": [
    {
     "data": {
      "text/plain": [
       "'r'"
      ]
     },
     "execution_count": 37,
     "metadata": {},
     "output_type": "execute_result"
    }
   ],
   "source": [
    "mystring[8]"
   ]
  },
  {
   "cell_type": "code",
   "execution_count": 38,
   "id": "dd777230-9a72-4462-9b0e-1e6a4f0c589e",
   "metadata": {},
   "outputs": [
    {
     "data": {
      "text/plain": [
       "'h'"
      ]
     },
     "execution_count": 38,
     "metadata": {},
     "output_type": "execute_result"
    }
   ],
   "source": [
    "mystring[0]"
   ]
  },
  {
   "cell_type": "code",
   "execution_count": 39,
   "id": "1cf0a63f-0623-4da6-ba8b-eaeca5322718",
   "metadata": {},
   "outputs": [
    {
     "data": {
      "text/plain": [
       "'l'"
      ]
     },
     "execution_count": 39,
     "metadata": {},
     "output_type": "execute_result"
    }
   ],
   "source": [
    "mystring[3]"
   ]
  },
  {
   "cell_type": "code",
   "execution_count": 40,
   "id": "f8af7ea7-0c6b-4fad-962b-041629298ea3",
   "metadata": {},
   "outputs": [
    {
     "data": {
      "text/plain": [
       "'r'"
      ]
     },
     "execution_count": 40,
     "metadata": {},
     "output_type": "execute_result"
    }
   ],
   "source": [
    "mystring[-3]"
   ]
  },
  {
   "cell_type": "code",
   "execution_count": 41,
   "id": "edd4761c-4822-4f2f-9cd5-a99fc6068011",
   "metadata": {},
   "outputs": [
    {
     "data": {
      "text/plain": [
       "'ello'"
      ]
     },
     "execution_count": 41,
     "metadata": {},
     "output_type": "execute_result"
    }
   ],
   "source": [
    "mystring[1:5]"
   ]
  },
  {
   "cell_type": "code",
   "execution_count": 42,
   "id": "e626666f-a8e4-40f0-b3c7-bf9c6e7fca1a",
   "metadata": {},
   "outputs": [
    {
     "data": {
      "text/plain": [
       "'ello world'"
      ]
     },
     "execution_count": 42,
     "metadata": {},
     "output_type": "execute_result"
    }
   ],
   "source": [
    "mystring[1:]"
   ]
  },
  {
   "cell_type": "code",
   "execution_count": 44,
   "id": "1a76b8bb-ebb7-4b66-a9be-7e10960fb8ad",
   "metadata": {},
   "outputs": [
    {
     "data": {
      "text/plain": [
       "'hel'"
      ]
     },
     "execution_count": 44,
     "metadata": {},
     "output_type": "execute_result"
    }
   ],
   "source": [
    "mystring[:3]"
   ]
  },
  {
   "cell_type": "code",
   "execution_count": 45,
   "id": "bd0a3186-afed-42c7-a15e-a1373814a062",
   "metadata": {},
   "outputs": [
    {
     "data": {
      "text/plain": [
       "'hello world'"
      ]
     },
     "execution_count": 45,
     "metadata": {},
     "output_type": "execute_result"
    }
   ],
   "source": [
    "mystring[::]"
   ]
  },
  {
   "cell_type": "code",
   "execution_count": 48,
   "id": "6f6d6465-e093-434f-8bb9-e98525547d6c",
   "metadata": {},
   "outputs": [
    {
     "data": {
      "text/plain": [
       "'el ol'"
      ]
     },
     "execution_count": 48,
     "metadata": {},
     "output_type": "execute_result"
    }
   ],
   "source": [
    "mystring[1::2]"
   ]
  },
  {
   "cell_type": "code",
   "execution_count": 49,
   "id": "681dc1ad-d01e-46b4-9a06-5ee3aff25339",
   "metadata": {},
   "outputs": [
    {
     "data": {
      "text/plain": [
       "'dlrow olleh'"
      ]
     },
     "execution_count": 49,
     "metadata": {},
     "output_type": "execute_result"
    }
   ],
   "source": [
    "mystring[::-1]"
   ]
  },
  {
   "cell_type": "markdown",
   "id": "e8b44252-2d90-49a9-bf2e-71870db73229",
   "metadata": {},
   "source": [
    "### String Properties & Methods"
   ]
  },
  {
   "cell_type": "code",
   "execution_count": 50,
   "id": "449004f8-5660-43f8-98ea-85a668ee3349",
   "metadata": {},
   "outputs": [],
   "source": [
    "x =  \"Hello World\""
   ]
  },
  {
   "cell_type": "code",
   "execution_count": 53,
   "id": "15f9f984-5cd8-4a78-aa27-9041d1a11e7b",
   "metadata": {},
   "outputs": [],
   "source": [
    "x = x + \" it is a beautiful outside!!\""
   ]
  },
  {
   "cell_type": "code",
   "execution_count": 54,
   "id": "7124abbc-47dd-4f5d-b5aa-f4d61a208cb7",
   "metadata": {},
   "outputs": [
    {
     "data": {
      "text/plain": [
       "'Hello World it is a beautiful outside!! it is a beautiful outside!!'"
      ]
     },
     "execution_count": 54,
     "metadata": {},
     "output_type": "execute_result"
    }
   ],
   "source": [
    "x"
   ]
  },
  {
   "cell_type": "code",
   "execution_count": 55,
   "id": "1019c374-899e-452e-8f30-aa863820ee38",
   "metadata": {},
   "outputs": [
    {
     "data": {
      "text/plain": [
       "<function str.upper()>"
      ]
     },
     "execution_count": 55,
     "metadata": {},
     "output_type": "execute_result"
    }
   ],
   "source": [
    "x.upper"
   ]
  },
  {
   "cell_type": "code",
   "execution_count": 56,
   "id": "cb6e7c85-bbb2-4c19-a648-d1159f44feed",
   "metadata": {},
   "outputs": [
    {
     "data": {
      "text/plain": [
       "'HELLO WORLD IT IS A BEAUTIFUL OUTSIDE!! IT IS A BEAUTIFUL OUTSIDE!!'"
      ]
     },
     "execution_count": 56,
     "metadata": {},
     "output_type": "execute_result"
    }
   ],
   "source": [
    "x.upper()"
   ]
  },
  {
   "cell_type": "code",
   "execution_count": 57,
   "id": "6cb86790-a605-4309-92f7-bab3bbabb5be",
   "metadata": {},
   "outputs": [
    {
     "data": {
      "text/plain": [
       "'hello world it is a beautiful outside!! it is a beautiful outside!!'"
      ]
     },
     "execution_count": 57,
     "metadata": {},
     "output_type": "execute_result"
    }
   ],
   "source": [
    "x.lower()"
   ]
  },
  {
   "cell_type": "code",
   "execution_count": 58,
   "id": "857fbfec-67b3-4a81-8eeb-d1e8667a621b",
   "metadata": {},
   "outputs": [
    {
     "data": {
      "text/plain": [
       "['Hello',\n",
       " 'World',\n",
       " 'it',\n",
       " 'is',\n",
       " 'a',\n",
       " 'beautiful',\n",
       " 'outside!!',\n",
       " 'it',\n",
       " 'is',\n",
       " 'a',\n",
       " 'beautiful',\n",
       " 'outside!!']"
      ]
     },
     "execution_count": 58,
     "metadata": {},
     "output_type": "execute_result"
    }
   ],
   "source": [
    "x.split()"
   ]
  },
  {
   "cell_type": "code",
   "execution_count": 59,
   "id": "cfbc8841-8bc1-4c92-826f-59a994c36b6b",
   "metadata": {},
   "outputs": [
    {
     "data": {
      "text/plain": [
       "['Hello World ',\n",
       " 't ',\n",
       " 's a beaut',\n",
       " 'ful outs',\n",
       " 'de!! ',\n",
       " 't ',\n",
       " 's a beaut',\n",
       " 'ful outs',\n",
       " 'de!!']"
      ]
     },
     "execution_count": 59,
     "metadata": {},
     "output_type": "execute_result"
    }
   ],
   "source": [
    "x.split('i')"
   ]
  },
  {
   "cell_type": "code",
   "execution_count": 60,
   "id": "be0e613a-6a98-4f05-b4c1-9332219b2518",
   "metadata": {},
   "outputs": [
    {
     "name": "stdout",
     "output_type": "stream",
     "text": [
      "hello\n"
     ]
    }
   ],
   "source": [
    "print('hello')"
   ]
  },
  {
   "cell_type": "code",
   "execution_count": 1,
   "id": "91dd4f5d-a941-4e57-a379-95aa487a47ea",
   "metadata": {
    "scrolled": true
   },
   "outputs": [
    {
     "name": "stdout",
     "output_type": "stream",
     "text": [
      "This is a string INSERTED\n"
     ]
    }
   ],
   "source": [
    "print('This is a string {}'.format('INSERTED'))"
   ]
  },
  {
   "cell_type": "code",
   "execution_count": 67,
   "id": "b5e45f29-5a32-41dc-9542-83a7889c9831",
   "metadata": {},
   "outputs": [
    {
     "name": "stdout",
     "output_type": "stream",
     "text": [
      "The brown quick fox\n"
     ]
    }
   ],
   "source": [
    "print('The {1} {2} {0}'.format('fox', 'brown', 'quick'))"
   ]
  },
  {
   "cell_type": "code",
   "execution_count": 69,
   "id": "6ad3cd6b-d8b4-4d33-b720-ec1d0abbb2b7",
   "metadata": {},
   "outputs": [
    {
     "name": "stdout",
     "output_type": "stream",
     "text": [
      "the fox fox fox.\n"
     ]
    }
   ],
   "source": [
    "print('the {f} {f} {f}.'.format(f = 'fox', b = 'brown', q = 'quick'))"
   ]
  },
  {
   "cell_type": "markdown",
   "id": "68a6ba20-725c-44d0-ba90-290c807d752a",
   "metadata": {},
   "source": [
    "### Float formatting follows\"{value:width.precision f}"
   ]
  },
  {
   "cell_type": "code",
   "execution_count": 70,
   "id": "c2307501-686b-46d8-bf4b-7a832d80f7c8",
   "metadata": {},
   "outputs": [],
   "source": [
    "result =  100/777"
   ]
  },
  {
   "cell_type": "code",
   "execution_count": 75,
   "id": "db69973c-4d73-4803-94ad-e6869057b02e",
   "metadata": {},
   "outputs": [],
   "source": [
    "result = 104.453"
   ]
  },
  {
   "cell_type": "code",
   "execution_count": 76,
   "id": "6020619c-963d-41a3-93ab-298dc91336ee",
   "metadata": {},
   "outputs": [
    {
     "name": "stdout",
     "output_type": "stream",
     "text": [
      "this is a result 104.453\n"
     ]
    }
   ],
   "source": [
    "print('this is a result {}'.format(result))"
   ]
  },
  {
   "cell_type": "code",
   "execution_count": 77,
   "id": "f184cc47-c4b6-408c-8a65-7d688e10fb5a",
   "metadata": {},
   "outputs": [
    {
     "name": "stdout",
     "output_type": "stream",
     "text": [
      "this is a result    104.453\n"
     ]
    }
   ],
   "source": [
    "print('this is a result {r:10.3f}'.format(r = result))"
   ]
  },
  {
   "cell_type": "code",
   "execution_count": 79,
   "id": "2ed48f0a-77e8-43ef-ac68-fbcf862459c2",
   "metadata": {},
   "outputs": [
    {
     "name": "stdout",
     "output_type": "stream",
     "text": [
      "this is a result 104.453\n"
     ]
    }
   ],
   "source": [
    "print('this is a result {r:1.3f}'.format(r = result))"
   ]
  },
  {
   "cell_type": "markdown",
   "id": "32d7d398-f4ec-4b26-8614-bb82d43af4c3",
   "metadata": {
    "jp-MarkdownHeadingCollapsed": true
   },
   "source": [
    "## Dictonary"
   ]
  },
  {
   "cell_type": "code",
   "execution_count": 80,
   "id": "30eded31-ed4d-49a0-850f-138e81b4beb9",
   "metadata": {},
   "outputs": [],
   "source": [
    "my_dict = {'key1' :'value1', 'key2': 'value2'}"
   ]
  },
  {
   "cell_type": "code",
   "execution_count": 81,
   "id": "6b95a30f-7a50-4162-91d5-2b9b8b16db32",
   "metadata": {},
   "outputs": [
    {
     "data": {
      "text/plain": [
       "{'key1': 'value1', 'key2': 'value2'}"
      ]
     },
     "execution_count": 81,
     "metadata": {},
     "output_type": "execute_result"
    }
   ],
   "source": [
    "my_dict"
   ]
  },
  {
   "cell_type": "code",
   "execution_count": 84,
   "id": "84026f34-e473-400c-8dd6-b2a57f29c2ad",
   "metadata": {},
   "outputs": [
    {
     "data": {
      "text/plain": [
       "'value1'"
      ]
     },
     "execution_count": 84,
     "metadata": {},
     "output_type": "execute_result"
    }
   ],
   "source": [
    "my_dict['key1']"
   ]
  },
  {
   "cell_type": "code",
   "execution_count": 85,
   "id": "7b68d5fe-1284-4bc3-afc7-82ca5ab92790",
   "metadata": {},
   "outputs": [],
   "source": [
    "price_lookup = {'apple': 2.99, 'banana': 5.0, 'milk': 6.88}"
   ]
  },
  {
   "cell_type": "code",
   "execution_count": 86,
   "id": "7996fc07-9c3c-423f-891c-4f8250c14d2b",
   "metadata": {},
   "outputs": [
    {
     "data": {
      "text/plain": [
       "2.99"
      ]
     },
     "execution_count": 86,
     "metadata": {},
     "output_type": "execute_result"
    }
   ],
   "source": [
    "price_lookup['apple']"
   ]
  },
  {
   "cell_type": "code",
   "execution_count": 87,
   "id": "b7d4611c-85c3-4982-9e3c-4db0c0a25189",
   "metadata": {},
   "outputs": [],
   "source": [
    "d = {'k1' : 60, 'k2' : [1, 2,3], 'k3' : {'insidekey' : 100}}"
   ]
  },
  {
   "cell_type": "code",
   "execution_count": 89,
   "id": "0bdb6f7a-c3e3-40aa-8562-2b193c385ac8",
   "metadata": {},
   "outputs": [
    {
     "data": {
      "text/plain": [
       "[1, 2, 3]"
      ]
     },
     "execution_count": 89,
     "metadata": {},
     "output_type": "execute_result"
    }
   ],
   "source": [
    "d['k2']"
   ]
  },
  {
   "cell_type": "code",
   "execution_count": 90,
   "id": "6d684d2b-ba5c-4ffa-bce6-867e814e7ead",
   "metadata": {},
   "outputs": [
    {
     "data": {
      "text/plain": [
       "100"
      ]
     },
     "execution_count": 90,
     "metadata": {},
     "output_type": "execute_result"
    }
   ],
   "source": [
    "d['k3']['insidekey']"
   ]
  },
  {
   "cell_type": "code",
   "execution_count": 91,
   "id": "3eccaf90-a940-466b-a63c-94f90b89e033",
   "metadata": {},
   "outputs": [],
   "source": [
    "\n",
    "mylist = d['k2']"
   ]
  },
  {
   "cell_type": "code",
   "execution_count": 92,
   "id": "9792e82a-c8a1-42b8-b2a6-7cf969fea9fc",
   "metadata": {},
   "outputs": [
    {
     "data": {
      "text/plain": [
       "[1, 2, 3]"
      ]
     },
     "execution_count": 92,
     "metadata": {},
     "output_type": "execute_result"
    }
   ],
   "source": [
    "mylist"
   ]
  },
  {
   "cell_type": "code",
   "execution_count": 96,
   "id": "2f80473b-c8e2-434b-879d-e6414d0c95d2",
   "metadata": {},
   "outputs": [],
   "source": [
    "d = {'k1':100, 'k2':200, 'k3':300}"
   ]
  },
  {
   "cell_type": "code",
   "execution_count": 97,
   "id": "6ac40661-4e27-4fe8-8882-735e5717f77f",
   "metadata": {},
   "outputs": [],
   "source": [
    "d['k1'] = 'NEW VALUE'"
   ]
  },
  {
   "cell_type": "code",
   "execution_count": 99,
   "id": "22ca43ea-a253-4037-aaf4-abe7aa11fef2",
   "metadata": {},
   "outputs": [
    {
     "data": {
      "text/plain": [
       "{'k1': 'NEW VALUE', 'k2': 200, 'k3': 300}"
      ]
     },
     "execution_count": 99,
     "metadata": {},
     "output_type": "execute_result"
    }
   ],
   "source": [
    "d"
   ]
  },
  {
   "cell_type": "markdown",
   "id": "457d37a5-f833-4bfd-9637-5fd7c7384092",
   "metadata": {},
   "source": [
    "## Tuple\n",
    "\n",
    "tuples are very similar to lists. However they have only one key difference - immutability\n"
   ]
  },
  {
   "cell_type": "code",
   "execution_count": 100,
   "id": "bdafe30a-e069-4cbc-9de1-098275dff99b",
   "metadata": {},
   "outputs": [],
   "source": [
    "t = (1,2,3)"
   ]
  },
  {
   "cell_type": "code",
   "execution_count": 101,
   "id": "f51b741c-0a1a-4e55-be7c-d230faf647e6",
   "metadata": {},
   "outputs": [
    {
     "data": {
      "text/plain": [
       "tuple"
      ]
     },
     "execution_count": 101,
     "metadata": {},
     "output_type": "execute_result"
    }
   ],
   "source": [
    "type(t)"
   ]
  },
  {
   "cell_type": "code",
   "execution_count": 102,
   "id": "f1a1adfa-57c4-46bd-a162-875beaa32cd3",
   "metadata": {},
   "outputs": [],
   "source": [
    "mylist = [1,2,3]"
   ]
  },
  {
   "cell_type": "code",
   "execution_count": 103,
   "id": "62dbb0dc-4fba-41df-93f8-19998b9abce2",
   "metadata": {},
   "outputs": [
    {
     "data": {
      "text/plain": [
       "list"
      ]
     },
     "execution_count": 103,
     "metadata": {},
     "output_type": "execute_result"
    }
   ],
   "source": [
    "type(mylist)"
   ]
  },
  {
   "cell_type": "code",
   "execution_count": 104,
   "id": "a0e01303-d663-42ea-930c-d6ce56591440",
   "metadata": {},
   "outputs": [
    {
     "data": {
      "text/plain": [
       "3"
      ]
     },
     "execution_count": 104,
     "metadata": {},
     "output_type": "execute_result"
    }
   ],
   "source": [
    "len(t)"
   ]
  },
  {
   "cell_type": "code",
   "execution_count": 105,
   "id": "2e68567f-67be-4fc5-a445-0a87bed2c0ae",
   "metadata": {},
   "outputs": [
    {
     "data": {
      "text/plain": [
       "(1, 2, 3)"
      ]
     },
     "execution_count": 105,
     "metadata": {},
     "output_type": "execute_result"
    }
   ],
   "source": [
    "t"
   ]
  },
  {
   "cell_type": "code",
   "execution_count": 106,
   "id": "baf89e81-ea98-4a7b-bac7-31322b17caa9",
   "metadata": {},
   "outputs": [
    {
     "data": {
      "text/plain": [
       "1"
      ]
     },
     "execution_count": 106,
     "metadata": {},
     "output_type": "execute_result"
    }
   ],
   "source": [
    "t[0]"
   ]
  },
  {
   "cell_type": "code",
   "execution_count": 107,
   "id": "1647558f-7f92-4b31-9ccb-f6103b75b80d",
   "metadata": {},
   "outputs": [],
   "source": [
    "t = ('a','a', 'b')"
   ]
  },
  {
   "cell_type": "code",
   "execution_count": 108,
   "id": "5b948baf-79c2-4ec3-8c1b-78dedeeb0d6d",
   "metadata": {},
   "outputs": [
    {
     "data": {
      "text/plain": [
       "'a'"
      ]
     },
     "execution_count": 108,
     "metadata": {},
     "output_type": "execute_result"
    }
   ],
   "source": [
    "t[0]"
   ]
  },
  {
   "cell_type": "code",
   "execution_count": 111,
   "id": "1ad4e513-238b-4ae1-a9a7-0e248e436a94",
   "metadata": {},
   "outputs": [
    {
     "data": {
      "text/plain": [
       "0"
      ]
     },
     "execution_count": 111,
     "metadata": {},
     "output_type": "execute_result"
    }
   ],
   "source": [
    "t.index('a')"
   ]
  },
  {
   "cell_type": "markdown",
   "id": "c16b68f1-c40a-475b-b8a5-c4981f43493e",
   "metadata": {},
   "source": [
    "### Sets "
   ]
  },
  {
   "cell_type": "code",
   "execution_count": 7,
   "id": "57843e89-6964-4429-8f87-c2bbe4d32c1a",
   "metadata": {},
   "outputs": [],
   "source": [
    "myset = set()"
   ]
  },
  {
   "cell_type": "code",
   "execution_count": 8,
   "id": "7b54c567-9263-4094-a258-b153093caa83",
   "metadata": {},
   "outputs": [
    {
     "data": {
      "text/plain": [
       "set()"
      ]
     },
     "execution_count": 8,
     "metadata": {},
     "output_type": "execute_result"
    }
   ],
   "source": [
    "myset"
   ]
  },
  {
   "cell_type": "code",
   "execution_count": 9,
   "id": "630940c8-eee1-4b10-97ef-434547c1fd8a",
   "metadata": {},
   "outputs": [],
   "source": [
    "myset.add(1)"
   ]
  },
  {
   "cell_type": "code",
   "execution_count": 10,
   "id": "a7f948d6-dbd6-4fb6-a0ee-48eab8ab3cf7",
   "metadata": {},
   "outputs": [
    {
     "data": {
      "text/plain": [
       "{1}"
      ]
     },
     "execution_count": 10,
     "metadata": {},
     "output_type": "execute_result"
    }
   ],
   "source": [
    "myset"
   ]
  },
  {
   "cell_type": "code",
   "execution_count": 11,
   "id": "2cfd85a2-ed91-4ecf-bfda-61e99de2a84f",
   "metadata": {},
   "outputs": [],
   "source": [
    "myset.add(2)"
   ]
  },
  {
   "cell_type": "code",
   "execution_count": 12,
   "id": "ab3eed55-e339-471a-a893-a2134b028aaa",
   "metadata": {},
   "outputs": [
    {
     "data": {
      "text/plain": [
       "{1, 2}"
      ]
     },
     "execution_count": 12,
     "metadata": {},
     "output_type": "execute_result"
    }
   ],
   "source": [
    "myset"
   ]
  },
  {
   "cell_type": "code",
   "execution_count": 15,
   "id": "be88e542-8583-48e0-a135-e677d1fa9b72",
   "metadata": {},
   "outputs": [],
   "source": [
    "mylist = [1,2,3,2,3,3,3,3,2,2,2,1,1,1,1,5,2,7]"
   ]
  },
  {
   "cell_type": "code",
   "execution_count": 16,
   "id": "8ffb0ccb-59d4-4804-890a-e72031571ff9",
   "metadata": {},
   "outputs": [
    {
     "data": {
      "text/plain": [
       "{1, 2, 3, 5, 7}"
      ]
     },
     "execution_count": 16,
     "metadata": {},
     "output_type": "execute_result"
    }
   ],
   "source": [
    "set(mylist)"
   ]
  },
  {
   "cell_type": "markdown",
   "id": "a121df98-ef5d-4eae-83ca-ee42a299327f",
   "metadata": {},
   "source": [
    "### Booleans in Python"
   ]
  },
  {
   "cell_type": "code",
   "execution_count": 17,
   "id": "3894475c-b22d-410c-917b-899bc9cc6d01",
   "metadata": {},
   "outputs": [
    {
     "data": {
      "text/plain": [
       "True"
      ]
     },
     "execution_count": 17,
     "metadata": {},
     "output_type": "execute_result"
    }
   ],
   "source": [
    "True"
   ]
  },
  {
   "cell_type": "code",
   "execution_count": 18,
   "id": "b90cb04e-9694-4398-845c-cad812cfc4d7",
   "metadata": {},
   "outputs": [
    {
     "data": {
      "text/plain": [
       "bool"
      ]
     },
     "execution_count": 18,
     "metadata": {},
     "output_type": "execute_result"
    }
   ],
   "source": [
    "type(False)"
   ]
  },
  {
   "cell_type": "code",
   "execution_count": 19,
   "id": "f76d2340-1a54-4010-9413-27e68d2ce9de",
   "metadata": {},
   "outputs": [
    {
     "data": {
      "text/plain": [
       "False"
      ]
     },
     "execution_count": 19,
     "metadata": {},
     "output_type": "execute_result"
    }
   ],
   "source": [
    "1>2"
   ]
  },
  {
   "cell_type": "code",
   "execution_count": 20,
   "id": "c1a406a0-746d-4f73-908d-0a28d9313141",
   "metadata": {},
   "outputs": [
    {
     "data": {
      "text/plain": [
       "False"
      ]
     },
     "execution_count": 20,
     "metadata": {},
     "output_type": "execute_result"
    }
   ],
   "source": [
    "1 == 2"
   ]
  },
  {
   "cell_type": "code",
   "execution_count": 21,
   "id": "7d81506e-0f04-4992-9880-5561d3bf9638",
   "metadata": {},
   "outputs": [],
   "source": [
    "b = None"
   ]
  },
  {
   "cell_type": "code",
   "execution_count": 22,
   "id": "bdb95568-a5df-43a1-b11c-edd2cd0f9f5e",
   "metadata": {},
   "outputs": [],
   "source": [
    "b"
   ]
  },
  {
   "cell_type": "markdown",
   "id": "dd953947-696b-42ba-8804-8419fa4badeb",
   "metadata": {},
   "source": [
    "## Python I/O operations:\n",
    "\n",
    "mode='r' is read only  \n",
    "mode='w' is write only  \n",
    "mode='a' is append only  \n",
    "mode='r+' is reading and writing   \n",
    "mode='w+' is writing and reading"
   ]
  },
  {
   "cell_type": "code",
   "execution_count": 26,
   "id": "df510e5c-467f-43fb-ba38-f12f70455aff",
   "metadata": {},
   "outputs": [
    {
     "name": "stdout",
     "output_type": "stream",
     "text": [
      "Overwriting myfile.txt\n"
     ]
    }
   ],
   "source": [
    "%%writefile myfile.txt\n",
    "Hello this is a text file\n",
    "this is a first line\n",
    "this is a second line"
   ]
  },
  {
   "cell_type": "code",
   "execution_count": 27,
   "id": "0c890919-9eff-48fd-a029-a971d6ed1ae5",
   "metadata": {},
   "outputs": [
    {
     "data": {
      "text/plain": [
       "'C:\\\\Users\\\\IshitaBhojani\\\\Downloads\\\\Python Traning'"
      ]
     },
     "execution_count": 27,
     "metadata": {},
     "output_type": "execute_result"
    }
   ],
   "source": [
    "pwd"
   ]
  },
  {
   "cell_type": "code",
   "execution_count": 28,
   "id": "25c2f8e0-905a-49ae-aa5d-c83c40c9857a",
   "metadata": {},
   "outputs": [],
   "source": [
    "myfile = open('myfile.txt')"
   ]
  },
  {
   "cell_type": "code",
   "execution_count": 29,
   "id": "406aa8fc-f31a-4d87-8a14-aef522ee267a",
   "metadata": {},
   "outputs": [
    {
     "data": {
      "text/plain": [
       "'Hello this is a text file\\nthis is a first line\\nthis is a second line\\n'"
      ]
     },
     "execution_count": 29,
     "metadata": {},
     "output_type": "execute_result"
    }
   ],
   "source": [
    "myfile.read()"
   ]
  },
  {
   "cell_type": "code",
   "execution_count": 30,
   "id": "0ed3b41c-5114-42de-a329-50eea02b3bc1",
   "metadata": {},
   "outputs": [
    {
     "data": {
      "text/plain": [
       "''"
      ]
     },
     "execution_count": 30,
     "metadata": {},
     "output_type": "execute_result"
    }
   ],
   "source": [
    "myfile.read()"
   ]
  },
  {
   "cell_type": "code",
   "execution_count": 31,
   "id": "1291d6de-1f11-4ddb-a212-586206f582e6",
   "metadata": {},
   "outputs": [
    {
     "data": {
      "text/plain": [
       "0"
      ]
     },
     "execution_count": 31,
     "metadata": {},
     "output_type": "execute_result"
    }
   ],
   "source": [
    "myfile.seek(0)"
   ]
  },
  {
   "cell_type": "code",
   "execution_count": 32,
   "id": "48482c99-2e19-4aeb-9c03-1ae2443ff7af",
   "metadata": {},
   "outputs": [
    {
     "data": {
      "text/plain": [
       "'Hello this is a text file\\nthis is a first line\\nthis is a second line\\n'"
      ]
     },
     "execution_count": 32,
     "metadata": {},
     "output_type": "execute_result"
    }
   ],
   "source": [
    "myfile.read()"
   ]
  },
  {
   "cell_type": "code",
   "execution_count": 33,
   "id": "7789f80a-176c-4f11-99ce-7df403402523",
   "metadata": {},
   "outputs": [
    {
     "data": {
      "text/plain": [
       "''"
      ]
     },
     "execution_count": 33,
     "metadata": {},
     "output_type": "execute_result"
    }
   ],
   "source": [
    "myfile.read()"
   ]
  },
  {
   "cell_type": "code",
   "execution_count": 33,
   "id": "876dcd97-e8f4-4482-b41f-be4ccb35400d",
   "metadata": {},
   "outputs": [
    {
     "data": {
      "text/plain": [
       "''"
      ]
     },
     "execution_count": 33,
     "metadata": {},
     "output_type": "execute_result"
    }
   ],
   "source": [
    "myfile.read()"
   ]
  },
  {
   "cell_type": "code",
   "execution_count": 38,
   "id": "6aace087-0b2f-4f3d-bd02-25c96092b9a9",
   "metadata": {},
   "outputs": [
    {
     "data": {
      "text/plain": [
       "0"
      ]
     },
     "execution_count": 38,
     "metadata": {},
     "output_type": "execute_result"
    }
   ],
   "source": [
    "myfile.seek(0)"
   ]
  },
  {
   "cell_type": "code",
   "execution_count": 39,
   "id": "ff4a75c0-39fe-478b-861a-4ec8dcd3cccb",
   "metadata": {},
   "outputs": [],
   "source": [
    "contents = myfile.read()"
   ]
  },
  {
   "cell_type": "code",
   "execution_count": 40,
   "id": "f5809714-a310-4c9d-a018-64c1b6a707ef",
   "metadata": {},
   "outputs": [
    {
     "data": {
      "text/plain": [
       "'Hello this is a text file\\nthis is a first line\\nthis is a second line\\n'"
      ]
     },
     "execution_count": 40,
     "metadata": {},
     "output_type": "execute_result"
    }
   ],
   "source": [
    "contents"
   ]
  },
  {
   "cell_type": "code",
   "execution_count": 41,
   "id": "01b45e28-871e-4881-bb99-ddc45e33e2e9",
   "metadata": {},
   "outputs": [
    {
     "data": {
      "text/plain": [
       "0"
      ]
     },
     "execution_count": 41,
     "metadata": {},
     "output_type": "execute_result"
    }
   ],
   "source": [
    "myfile.seek(0)"
   ]
  },
  {
   "cell_type": "code",
   "execution_count": 44,
   "id": "ef1120fd-719d-4bcb-8a60-78dc772ddf50",
   "metadata": {},
   "outputs": [
    {
     "data": {
      "text/plain": [
       "['Hello this is a text file\\n',\n",
       " 'this is a first line\\n',\n",
       " 'this is a second line\\n']"
      ]
     },
     "execution_count": 44,
     "metadata": {},
     "output_type": "execute_result"
    }
   ],
   "source": [
    "myfile.readlines()"
   ]
  },
  {
   "cell_type": "code",
   "execution_count": 45,
   "id": "fd0a4a96-8bf9-4b90-beec-5c716a5fc7be",
   "metadata": {},
   "outputs": [],
   "source": [
    "myfile.close()"
   ]
  },
  {
   "cell_type": "code",
   "execution_count": 46,
   "id": "a0c333d5-297e-4c73-acdd-3159f04ebd39",
   "metadata": {},
   "outputs": [],
   "source": [
    "with open('myfile.txt') as new_file:\n",
    "    cotents =  new_file.read()\n",
    "    "
   ]
  },
  {
   "cell_type": "code",
   "execution_count": 47,
   "id": "59e8ebff-ae7f-4981-9c62-c334e2a975f1",
   "metadata": {},
   "outputs": [
    {
     "data": {
      "text/plain": [
       "'Hello this is a text file\\nthis is a first line\\nthis is a second line\\n'"
      ]
     },
     "execution_count": 47,
     "metadata": {},
     "output_type": "execute_result"
    }
   ],
   "source": [
    "contents"
   ]
  },
  {
   "cell_type": "code",
   "execution_count": 48,
   "id": "69f6863d-6bf7-4404-b850-ced810680fe5",
   "metadata": {},
   "outputs": [
    {
     "name": "stdout",
     "output_type": "stream",
     "text": [
      "Writing my_new_file.txt\n"
     ]
    }
   ],
   "source": [
    "%%writefile my_new_file.txt\n",
    "Hello this is a text file\n",
    "this is a first line\n",
    "this is a second line"
   ]
  },
  {
   "cell_type": "code",
   "execution_count": 53,
   "id": "9c6a55c3-9b53-4d53-90e2-86cdb97cce93",
   "metadata": {},
   "outputs": [
    {
     "name": "stdout",
     "output_type": "stream",
     "text": [
      "Hello this is a text file\n",
      "this is a first line\n",
      "this is a second line\n",
      "four on forth\n"
     ]
    }
   ],
   "source": [
    "with open('my_new_file.txt', mode = 'r') as f:\n",
    "    print(f.read())"
   ]
  },
  {
   "cell_type": "code",
   "execution_count": 51,
   "id": "6f75f9af-c7c7-45cc-a7cd-7a9d5b6b63a5",
   "metadata": {},
   "outputs": [],
   "source": [
    "with open('my_new_file.txt', mode = 'a') as f:\n",
    "    f.write('four on forth')"
   ]
  }
 ],
 "metadata": {
  "kernelspec": {
   "display_name": "Python 3 (ipykernel)",
   "language": "python",
   "name": "python3"
  },
  "language_info": {
   "codemirror_mode": {
    "name": "ipython",
    "version": 3
   },
   "file_extension": ".py",
   "mimetype": "text/x-python",
   "name": "python",
   "nbconvert_exporter": "python",
   "pygments_lexer": "ipython3",
   "version": "3.13.5"
  }
 },
 "nbformat": 4,
 "nbformat_minor": 5
}
