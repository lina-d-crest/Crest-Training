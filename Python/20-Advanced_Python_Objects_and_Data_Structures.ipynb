{
 "cells": [
  {
   "cell_type": "markdown",
   "id": "179a1068-cf80-4827-b2a0-4ed68b9a0d65",
   "metadata": {},
   "source": [
    "### Advanced Numbers"
   ]
  },
  {
   "cell_type": "code",
   "execution_count": 2,
   "id": "2bf45f2f-5510-4490-ab15-99d37435544a",
   "metadata": {},
   "outputs": [
    {
     "data": {
      "text/plain": [
       "'0xf6'"
      ]
     },
     "execution_count": 2,
     "metadata": {},
     "output_type": "execute_result"
    }
   ],
   "source": [
    "hex(246)"
   ]
  },
  {
   "cell_type": "code",
   "execution_count": 4,
   "id": "aaff7063-c32e-4d14-90bd-36fbe8a3bb31",
   "metadata": {},
   "outputs": [
    {
     "data": {
      "text/plain": [
       "'0x200'"
      ]
     },
     "execution_count": 4,
     "metadata": {},
     "output_type": "execute_result"
    }
   ],
   "source": [
    "hex(512)"
   ]
  },
  {
   "cell_type": "markdown",
   "id": "f03462a7-4609-4969-b494-26c3931ea8f7",
   "metadata": {},
   "source": [
    "### Binary"
   ]
  },
  {
   "cell_type": "code",
   "execution_count": 6,
   "id": "66b30155-5988-4028-a9ee-033379caae4d",
   "metadata": {},
   "outputs": [
    {
     "name": "stdout",
     "output_type": "stream",
     "text": [
      "0b10011010010\n",
      "0b10000000\n",
      "0b1000000000\n"
     ]
    }
   ],
   "source": [
    "print(bin(1234))\n",
    "print(bin(128))\n",
    "print(bin(512))"
   ]
  },
  {
   "cell_type": "markdown",
   "id": "020b12dd-037f-4719-a8ac-fa331f233d66",
   "metadata": {},
   "source": [
    "### Exponentials"
   ]
  },
  {
   "cell_type": "code",
   "execution_count": 8,
   "id": "45ce2c8d-be88-4253-bb10-c441cc4db00f",
   "metadata": {},
   "outputs": [
    {
     "data": {
      "text/plain": [
       "81"
      ]
     },
     "execution_count": 8,
     "metadata": {},
     "output_type": "execute_result"
    }
   ],
   "source": [
    "pow(3,4)"
   ]
  },
  {
   "cell_type": "code",
   "execution_count": 10,
   "id": "08c3b42d-d73d-419c-8247-fd885312286a",
   "metadata": {},
   "outputs": [
    {
     "data": {
      "text/plain": [
       "1"
      ]
     },
     "execution_count": 10,
     "metadata": {},
     "output_type": "execute_result"
    }
   ],
   "source": [
    "pow(3,4,5)"
   ]
  },
  {
   "cell_type": "markdown",
   "id": "d30e92b1-5061-4d8b-953d-a6b0f2d9be85",
   "metadata": {},
   "source": [
    "### Absolute Value"
   ]
  },
  {
   "cell_type": "code",
   "execution_count": 12,
   "id": "f1dc7c79-838d-4baf-a360-444ff1c50c48",
   "metadata": {},
   "outputs": [
    {
     "data": {
      "text/plain": [
       "3.14"
      ]
     },
     "execution_count": 12,
     "metadata": {},
     "output_type": "execute_result"
    }
   ],
   "source": [
    "abs(-3.14)"
   ]
  },
  {
   "cell_type": "code",
   "execution_count": 14,
   "id": "b1a6f7cc-b2f5-407b-82cc-fd8fda5a8cf8",
   "metadata": {},
   "outputs": [
    {
     "data": {
      "text/plain": [
       "3"
      ]
     },
     "execution_count": 14,
     "metadata": {},
     "output_type": "execute_result"
    }
   ],
   "source": [
    "abs(3)"
   ]
  },
  {
   "cell_type": "markdown",
   "id": "e7b0d3ea-8f4b-4355-80b2-f017382fd88f",
   "metadata": {},
   "source": [
    "### Round"
   ]
  },
  {
   "cell_type": "code",
   "execution_count": 16,
   "id": "7e6b378d-3e79-411b-af0b-0c917de7be94",
   "metadata": {},
   "outputs": [
    {
     "data": {
      "text/plain": [
       "3"
      ]
     },
     "execution_count": 16,
     "metadata": {},
     "output_type": "execute_result"
    }
   ],
   "source": [
    "round(3,2)"
   ]
  },
  {
   "cell_type": "code",
   "execution_count": 18,
   "id": "30f47898-40cb-4923-84ac-902319e51671",
   "metadata": {},
   "outputs": [
    {
     "data": {
      "text/plain": [
       "400"
      ]
     },
     "execution_count": 18,
     "metadata": {},
     "output_type": "execute_result"
    }
   ],
   "source": [
    "round(395,-2)"
   ]
  },
  {
   "cell_type": "code",
   "execution_count": 20,
   "id": "16e45e92-b6ea-4708-9410-59f2f85186ac",
   "metadata": {},
   "outputs": [
    {
     "data": {
      "text/plain": [
       "3.14"
      ]
     },
     "execution_count": 20,
     "metadata": {},
     "output_type": "execute_result"
    }
   ],
   "source": [
    "round(3.1415926535,2)"
   ]
  },
  {
   "cell_type": "markdown",
   "id": "a3008683-264b-4756-98d9-aa4056cfc9bb",
   "metadata": {},
   "source": [
    "### Advanced Strings"
   ]
  },
  {
   "cell_type": "code",
   "execution_count": 22,
   "id": "99f62e3a-08fb-4bc0-a58e-b0d863b3fa0f",
   "metadata": {},
   "outputs": [],
   "source": [
    "s = 'hello world'"
   ]
  },
  {
   "cell_type": "markdown",
   "id": "c3ac249a-97f6-49f8-bf0c-fdd5ce50ad72",
   "metadata": {},
   "source": [
    "### Changing case"
   ]
  },
  {
   "cell_type": "code",
   "execution_count": 24,
   "id": "7430b4f2-bcd7-4281-9745-0787745acb9a",
   "metadata": {},
   "outputs": [
    {
     "data": {
      "text/plain": [
       "'Hello world'"
      ]
     },
     "execution_count": 24,
     "metadata": {},
     "output_type": "execute_result"
    }
   ],
   "source": [
    "s.capitalize()"
   ]
  },
  {
   "cell_type": "code",
   "execution_count": 26,
   "id": "67996386-c0a8-4cad-b388-e3de0c01d7a2",
   "metadata": {},
   "outputs": [
    {
     "data": {
      "text/plain": [
       "'HELLO WORLD'"
      ]
     },
     "execution_count": 26,
     "metadata": {},
     "output_type": "execute_result"
    }
   ],
   "source": [
    "s.upper()"
   ]
  },
  {
   "cell_type": "code",
   "execution_count": 28,
   "id": "3e908810-90e1-44c1-aca2-046cd11b5b1b",
   "metadata": {},
   "outputs": [
    {
     "data": {
      "text/plain": [
       "'hello world'"
      ]
     },
     "execution_count": 28,
     "metadata": {},
     "output_type": "execute_result"
    }
   ],
   "source": [
    "s.lower()"
   ]
  },
  {
   "cell_type": "markdown",
   "id": "63f68d0a-d2cb-49eb-94eb-7a089d325330",
   "metadata": {},
   "source": [
    "### Location and Counting"
   ]
  },
  {
   "cell_type": "code",
   "execution_count": 30,
   "id": "c321d67c-824d-4fa9-a98c-91b486f8d6ad",
   "metadata": {},
   "outputs": [
    {
     "data": {
      "text/plain": [
       "2"
      ]
     },
     "execution_count": 30,
     "metadata": {},
     "output_type": "execute_result"
    }
   ],
   "source": [
    "s.count('o') "
   ]
  },
  {
   "cell_type": "code",
   "execution_count": 32,
   "id": "051a3778-406c-4515-a836-8fe3910ef836",
   "metadata": {},
   "outputs": [
    {
     "data": {
      "text/plain": [
       "4"
      ]
     },
     "execution_count": 32,
     "metadata": {},
     "output_type": "execute_result"
    }
   ],
   "source": [
    "s.find('o')"
   ]
  },
  {
   "cell_type": "markdown",
   "id": "d3f3135e-c1c0-458a-99e7-2eccfd8916b2",
   "metadata": {},
   "source": [
    "### Formatting"
   ]
  },
  {
   "cell_type": "code",
   "execution_count": 34,
   "id": "d02fec35-592a-4629-8873-b1525d51be12",
   "metadata": {},
   "outputs": [
    {
     "data": {
      "text/plain": [
       "'zzzzhello worldzzzzz'"
      ]
     },
     "execution_count": 34,
     "metadata": {},
     "output_type": "execute_result"
    }
   ],
   "source": [
    "s.center(20,'z')"
   ]
  },
  {
   "cell_type": "code",
   "execution_count": 36,
   "id": "89e6cd2c-57a7-4ffe-9ee3-f20adba27196",
   "metadata": {},
   "outputs": [
    {
     "data": {
      "text/plain": [
       "'hello   hi'"
      ]
     },
     "execution_count": 36,
     "metadata": {},
     "output_type": "execute_result"
    }
   ],
   "source": [
    "'hello\\thi'.expandtabs()"
   ]
  },
  {
   "cell_type": "markdown",
   "id": "050c07fe-95db-4d90-bb90-87065cbf61dc",
   "metadata": {},
   "source": [
    "### is check methods"
   ]
  },
  {
   "cell_type": "code",
   "execution_count": 69,
   "id": "0e1a28be-c17d-4c83-8fda-9f9ee14ea114",
   "metadata": {},
   "outputs": [],
   "source": [
    "s = 'hello'"
   ]
  },
  {
   "cell_type": "code",
   "execution_count": 70,
   "id": "9c8c254b-0e4a-4b96-b06b-e1cfe4017369",
   "metadata": {},
   "outputs": [
    {
     "data": {
      "text/plain": [
       "True"
      ]
     },
     "execution_count": 70,
     "metadata": {},
     "output_type": "execute_result"
    }
   ],
   "source": [
    "s.isalnum()"
   ]
  },
  {
   "cell_type": "code",
   "execution_count": 71,
   "id": "e0d54ebc-4c28-4bad-8dc6-c86ebdfe7682",
   "metadata": {},
   "outputs": [
    {
     "data": {
      "text/plain": [
       "True"
      ]
     },
     "execution_count": 71,
     "metadata": {},
     "output_type": "execute_result"
    }
   ],
   "source": [
    "s.isalpha()"
   ]
  },
  {
   "cell_type": "code",
   "execution_count": 72,
   "id": "c0a52940-debe-4639-8400-43a84e0f81fe",
   "metadata": {},
   "outputs": [
    {
     "data": {
      "text/plain": [
       "True"
      ]
     },
     "execution_count": 72,
     "metadata": {},
     "output_type": "execute_result"
    }
   ],
   "source": [
    "s.islower()"
   ]
  },
  {
   "cell_type": "code",
   "execution_count": 73,
   "id": "449929e7-cf3f-4fc3-8397-e6107f7b7e40",
   "metadata": {},
   "outputs": [
    {
     "data": {
      "text/plain": [
       "False"
      ]
     },
     "execution_count": 73,
     "metadata": {},
     "output_type": "execute_result"
    }
   ],
   "source": [
    "s.isspace()"
   ]
  },
  {
   "cell_type": "code",
   "execution_count": 74,
   "id": "79f28c3b-99aa-4214-a902-de89bd05d0e0",
   "metadata": {},
   "outputs": [
    {
     "data": {
      "text/plain": [
       "False"
      ]
     },
     "execution_count": 74,
     "metadata": {},
     "output_type": "execute_result"
    }
   ],
   "source": [
    "s.istitle()"
   ]
  },
  {
   "cell_type": "code",
   "execution_count": 76,
   "id": "9f0df9e7-5975-45d6-91fd-e1b297930b4c",
   "metadata": {},
   "outputs": [
    {
     "data": {
      "text/plain": [
       "False"
      ]
     },
     "execution_count": 76,
     "metadata": {},
     "output_type": "execute_result"
    }
   ],
   "source": [
    "s.isupper()"
   ]
  },
  {
   "cell_type": "code",
   "execution_count": 78,
   "id": "acb16414-7e4d-4ae8-ad16-b1627ac6744b",
   "metadata": {},
   "outputs": [
    {
     "data": {
      "text/plain": [
       "True"
      ]
     },
     "execution_count": 78,
     "metadata": {},
     "output_type": "execute_result"
    }
   ],
   "source": [
    "s.endswith('o')"
   ]
  },
  {
   "cell_type": "markdown",
   "id": "3879c8de-9763-42e4-8acc-be3e9d0a9e47",
   "metadata": {},
   "source": [
    "### Built-in Reg. Expressions"
   ]
  },
  {
   "cell_type": "code",
   "execution_count": 80,
   "id": "273aaacf-4fb6-4e34-ad20-5d7c7bc0424a",
   "metadata": {},
   "outputs": [
    {
     "data": {
      "text/plain": [
       "['h', 'llo']"
      ]
     },
     "execution_count": 80,
     "metadata": {},
     "output_type": "execute_result"
    }
   ],
   "source": [
    "s.split('e')"
   ]
  },
  {
   "cell_type": "code",
   "execution_count": 82,
   "id": "490bde34-4d8f-436d-bb80-9b543839288a",
   "metadata": {},
   "outputs": [
    {
     "data": {
      "text/plain": [
       "('he', 'l', 'lo')"
      ]
     },
     "execution_count": 82,
     "metadata": {},
     "output_type": "execute_result"
    }
   ],
   "source": [
    "s.partition('l')"
   ]
  },
  {
   "cell_type": "markdown",
   "id": "c07a07dc-c945-4380-a49c-52a9fdc16b46",
   "metadata": {},
   "source": [
    "### Advanced Sets"
   ]
  },
  {
   "cell_type": "markdown",
   "id": "60a8f30c-4499-48d5-9150-b29ea6c41101",
   "metadata": {},
   "source": [
    "### add"
   ]
  },
  {
   "cell_type": "code",
   "execution_count": 85,
   "id": "f5558706-f4ef-4dc3-babd-b845b9fcf8e6",
   "metadata": {},
   "outputs": [
    {
     "data": {
      "text/plain": [
       "{1, 2}"
      ]
     },
     "execution_count": 85,
     "metadata": {},
     "output_type": "execute_result"
    }
   ],
   "source": [
    "s = set()\n",
    "s.add(1)\n",
    "s.add(2)\n",
    "s"
   ]
  },
  {
   "cell_type": "markdown",
   "id": "3eebf460-a603-4132-9451-e62adbb85de9",
   "metadata": {},
   "source": [
    "### clear\n",
    "removes all elements from the set"
   ]
  },
  {
   "cell_type": "code",
   "execution_count": 88,
   "id": "7e06c225-64c9-4dfc-bd0b-8497b9a623bd",
   "metadata": {},
   "outputs": [
    {
     "data": {
      "text/plain": [
       "set()"
      ]
     },
     "execution_count": 88,
     "metadata": {},
     "output_type": "execute_result"
    }
   ],
   "source": [
    "s.clear()\n",
    "s"
   ]
  },
  {
   "cell_type": "markdown",
   "id": "d20d1a75-bef3-44ed-b5c5-f76e3f2c075d",
   "metadata": {},
   "source": [
    "### copy\n",
    "returns a copy of the set. Note it is a copy, so changes to the original don't effect the copy."
   ]
  },
  {
   "cell_type": "code",
   "execution_count": 90,
   "id": "a41b7f62-c715-46c0-92a4-4efb2a9b5764",
   "metadata": {},
   "outputs": [
    {
     "data": {
      "text/plain": [
       "{1, 2, 3}"
      ]
     },
     "execution_count": 90,
     "metadata": {},
     "output_type": "execute_result"
    }
   ],
   "source": [
    "s = {1,2,3}\n",
    "c = s.copy()\n",
    "c"
   ]
  },
  {
   "cell_type": "code",
   "execution_count": 92,
   "id": "fb2cb719-8648-42b9-a765-c54a5791730e",
   "metadata": {},
   "outputs": [
    {
     "data": {
      "text/plain": [
       "{1, 2, 3, 4}"
      ]
     },
     "execution_count": 92,
     "metadata": {},
     "output_type": "execute_result"
    }
   ],
   "source": [
    "s.add(4)\n",
    "s"
   ]
  },
  {
   "cell_type": "code",
   "execution_count": 94,
   "id": "1193c9ab-64ab-468c-84de-778f67cbb6d4",
   "metadata": {},
   "outputs": [
    {
     "data": {
      "text/plain": [
       "{1, 2, 3}"
      ]
     },
     "execution_count": 94,
     "metadata": {},
     "output_type": "execute_result"
    }
   ],
   "source": [
    "c"
   ]
  },
  {
   "cell_type": "markdown",
   "id": "62b38580-9618-417a-af1a-56daa1cb0161",
   "metadata": {},
   "source": [
    "### difference\n",
    "difference returns the difference of two or more sets."
   ]
  },
  {
   "cell_type": "code",
   "execution_count": 96,
   "id": "8c4ce9cc-7829-4d42-8750-561964a5a09a",
   "metadata": {},
   "outputs": [
    {
     "data": {
      "text/plain": [
       "{4}"
      ]
     },
     "execution_count": 96,
     "metadata": {},
     "output_type": "execute_result"
    }
   ],
   "source": [
    "s.difference(c)"
   ]
  },
  {
   "cell_type": "markdown",
   "id": "9982e237-55d7-4dde-955e-386239972165",
   "metadata": {},
   "source": [
    "### difference_update\n",
    "the method returns set1 after removing elements found in set2"
   ]
  },
  {
   "cell_type": "code",
   "execution_count": 102,
   "id": "a780346b-1a7d-4bee-9df2-452e8f0087cf",
   "metadata": {},
   "outputs": [
    {
     "data": {
      "text/plain": [
       "{2, 3}"
      ]
     },
     "execution_count": 102,
     "metadata": {},
     "output_type": "execute_result"
    }
   ],
   "source": [
    "s1 = {1,2,3}\n",
    "s2 = {1,4,5}\n",
    "s1.difference_update(s2)\n",
    "s1"
   ]
  },
  {
   "cell_type": "code",
   "execution_count": 104,
   "id": "99c0c2be-8d00-4fd1-af9b-08cd0b00f45b",
   "metadata": {},
   "outputs": [
    {
     "data": {
      "text/plain": [
       "{1, 2, 3, 4}"
      ]
     },
     "execution_count": 104,
     "metadata": {},
     "output_type": "execute_result"
    }
   ],
   "source": [
    "s"
   ]
  },
  {
   "cell_type": "markdown",
   "id": "084daa2a-e9aa-4a97-8877-b3fe21674c6e",
   "metadata": {},
   "source": [
    "### discard\n",
    "Removes an element from a set if it is a member. If the element is not a member, do nothing."
   ]
  },
  {
   "cell_type": "code",
   "execution_count": 109,
   "id": "fb7989cb-fa6b-4a4e-8e4f-836f34fae490",
   "metadata": {},
   "outputs": [
    {
     "data": {
      "text/plain": [
       "{1, 2, 3}"
      ]
     },
     "execution_count": 109,
     "metadata": {},
     "output_type": "execute_result"
    }
   ],
   "source": [
    "s.discard(4)\n",
    "s"
   ]
  },
  {
   "cell_type": "markdown",
   "id": "c79e9405-6080-4368-ab87-0434b7f99259",
   "metadata": {},
   "source": [
    "### intersection and intersection_update\n",
    "Returns the intersection of two or more sets as a new set.(i.e. elements that are common to all of the sets.)"
   ]
  },
  {
   "cell_type": "code",
   "execution_count": 111,
   "id": "d8c9f9f9-dd62-4a03-a535-5c11af162f72",
   "metadata": {},
   "outputs": [
    {
     "data": {
      "text/plain": [
       "{1, 2}"
      ]
     },
     "execution_count": 111,
     "metadata": {},
     "output_type": "execute_result"
    }
   ],
   "source": [
    "s1 = {1,2,3}\n",
    "s2 = {1,2,4}\n",
    "s1.intersection(s2)"
   ]
  },
  {
   "cell_type": "code",
   "execution_count": 113,
   "id": "4db9a0cd-d7e0-4eb8-93f7-9a0b3be62f59",
   "metadata": {},
   "outputs": [
    {
     "data": {
      "text/plain": [
       "{1, 2, 3}"
      ]
     },
     "execution_count": 113,
     "metadata": {},
     "output_type": "execute_result"
    }
   ],
   "source": [
    "s1"
   ]
  },
  {
   "cell_type": "code",
   "execution_count": 116,
   "id": "73e43c61-52a3-47f5-879c-91079ee507f1",
   "metadata": {},
   "outputs": [
    {
     "data": {
      "text/plain": [
       "{1, 2}"
      ]
     },
     "execution_count": 116,
     "metadata": {},
     "output_type": "execute_result"
    }
   ],
   "source": [
    "s1.intersection_update(s2)\n",
    "s1"
   ]
  },
  {
   "cell_type": "markdown",
   "id": "65c90729-287c-4c26-8089-9f8e53d260a6",
   "metadata": {},
   "source": [
    "### isdisjoint\n",
    "This method will return True if two sets have a null intersection."
   ]
  },
  {
   "cell_type": "code",
   "execution_count": 119,
   "id": "907661f5-f051-4ea0-afed-03effb5a4a45",
   "metadata": {},
   "outputs": [
    {
     "data": {
      "text/plain": [
       "False"
      ]
     },
     "execution_count": 119,
     "metadata": {},
     "output_type": "execute_result"
    }
   ],
   "source": [
    "s1 = {1,2}\n",
    "s2 = {1,2,4}\n",
    "s3 = {5}\n",
    "\n",
    "s1.isdisjoint(s2)"
   ]
  },
  {
   "cell_type": "code",
   "execution_count": 121,
   "id": "63a3bf39-6506-4c94-8e84-ed9e3d5be346",
   "metadata": {},
   "outputs": [
    {
     "data": {
      "text/plain": [
       "True"
      ]
     },
     "execution_count": 121,
     "metadata": {},
     "output_type": "execute_result"
    }
   ],
   "source": [
    "s1.isdisjoint(s3)"
   ]
  },
  {
   "cell_type": "markdown",
   "id": "a70f7453-2c5b-424c-ac5f-a4c7e8dad96e",
   "metadata": {},
   "source": [
    "### issubset\n",
    "This method reports whether another set contains this set.\n",
    "\n",
    "### issuperset\n",
    "This method will report whether this set contains another set."
   ]
  },
  {
   "cell_type": "code",
   "execution_count": 123,
   "id": "120213bb-13a1-4b64-894b-730a230daa84",
   "metadata": {},
   "outputs": [
    {
     "data": {
      "text/plain": [
       "{1, 2}"
      ]
     },
     "execution_count": 123,
     "metadata": {},
     "output_type": "execute_result"
    }
   ],
   "source": [
    "s1"
   ]
  },
  {
   "cell_type": "code",
   "execution_count": 125,
   "id": "253e45f9-adc9-4bb1-99cf-eebf6e84baae",
   "metadata": {},
   "outputs": [
    {
     "data": {
      "text/plain": [
       "{1, 2, 4}"
      ]
     },
     "execution_count": 125,
     "metadata": {},
     "output_type": "execute_result"
    }
   ],
   "source": [
    "s2"
   ]
  },
  {
   "cell_type": "code",
   "execution_count": 128,
   "id": "8d6b7669-501e-4b79-ab3c-a0428f81db10",
   "metadata": {},
   "outputs": [
    {
     "data": {
      "text/plain": [
       "True"
      ]
     },
     "execution_count": 128,
     "metadata": {},
     "output_type": "execute_result"
    }
   ],
   "source": [
    "s1.issubset(s2)"
   ]
  },
  {
   "cell_type": "code",
   "execution_count": 131,
   "id": "b33efa2a-e6f8-47f0-8967-24916845a3bb",
   "metadata": {},
   "outputs": [
    {
     "data": {
      "text/plain": [
       "True"
      ]
     },
     "execution_count": 131,
     "metadata": {},
     "output_type": "execute_result"
    }
   ],
   "source": [
    "s2.issuperset(s1)"
   ]
  },
  {
   "cell_type": "markdown",
   "id": "f7b0e9c0-6264-4a60-8529-5e70ba68b62d",
   "metadata": {},
   "source": [
    "### symmetric_difference and symmetric_update\n",
    "Return the symmetric difference of two sets as a new set.(i.e. all elements that are in exactly one of the sets.)"
   ]
  },
  {
   "cell_type": "code",
   "execution_count": 133,
   "id": "6cc3f459-ab8e-4654-9a07-a59d32795fe9",
   "metadata": {},
   "outputs": [
    {
     "data": {
      "text/plain": [
       "{4}"
      ]
     },
     "execution_count": 133,
     "metadata": {},
     "output_type": "execute_result"
    }
   ],
   "source": [
    "s1.symmetric_difference(s2)"
   ]
  },
  {
   "cell_type": "markdown",
   "id": "28f34962-d6ee-42ac-86b8-5d9e56af826c",
   "metadata": {},
   "source": [
    "### union\n",
    "Returns the union of two sets (i.e. all elements that are in either set.)\n",
    "\n",
    "### update\n",
    "Update a set with the union of itself and others."
   ]
  },
  {
   "cell_type": "code",
   "execution_count": 135,
   "id": "7052679f-53d8-429a-bf5a-ce1eacaca870",
   "metadata": {},
   "outputs": [
    {
     "data": {
      "text/plain": [
       "{1, 2, 4}"
      ]
     },
     "execution_count": 135,
     "metadata": {},
     "output_type": "execute_result"
    }
   ],
   "source": [
    "s1.union(s2)"
   ]
  },
  {
   "cell_type": "code",
   "execution_count": 137,
   "id": "dc3b7112-f3d1-4ec9-a257-48ef2fe45f0c",
   "metadata": {},
   "outputs": [
    {
     "data": {
      "text/plain": [
       "{1, 2, 4}"
      ]
     },
     "execution_count": 137,
     "metadata": {},
     "output_type": "execute_result"
    }
   ],
   "source": [
    "s1.update(s2)\n",
    "s1"
   ]
  },
  {
   "cell_type": "markdown",
   "id": "28fa165f-ab11-4514-80cb-c37288118bdc",
   "metadata": {},
   "source": [
    "### Advanced Dictionaries"
   ]
  },
  {
   "cell_type": "markdown",
   "id": "1f23984f-fdcf-4c78-a4a2-8dd1e37f7ab7",
   "metadata": {},
   "source": [
    "### Dictionary Comprehensions\n",
    "Just like List Comprehensions, Dictionary Data Types also support their own version of comprehension for quick creation."
   ]
  },
  {
   "cell_type": "code",
   "execution_count": 142,
   "id": "5d658d26-23d7-4cdc-8234-24efd5047156",
   "metadata": {},
   "outputs": [
    {
     "data": {
      "text/plain": [
       "{0: 0, 1: 1, 2: 4, 3: 9, 4: 16, 5: 25, 6: 36, 7: 49, 8: 64, 9: 81}"
      ]
     },
     "execution_count": 142,
     "metadata": {},
     "output_type": "execute_result"
    }
   ],
   "source": [
    "{x:x**2 for x in range(10)}"
   ]
  },
  {
   "cell_type": "markdown",
   "id": "6db375a8-2129-4d03-a604-4e9c438fa76f",
   "metadata": {},
   "source": [
    "### Iteration over keys, values, and items\n",
    "Dictionaries can be iterated over using the keys(), values() and items() methods."
   ]
  },
  {
   "cell_type": "code",
   "execution_count": 144,
   "id": "e067253d-0d1e-471e-a7ef-36f1aa86a19d",
   "metadata": {},
   "outputs": [
    {
     "name": "stdout",
     "output_type": "stream",
     "text": [
      "k1\n",
      "k2\n"
     ]
    }
   ],
   "source": [
    "d = {'k1':1,'k2':2}\n",
    "for k in d.keys():\n",
    "    print(k)"
   ]
  },
  {
   "cell_type": "code",
   "execution_count": 146,
   "id": "e4c74c05-7abd-4ae9-8aaf-751403aaccb3",
   "metadata": {},
   "outputs": [
    {
     "name": "stdout",
     "output_type": "stream",
     "text": [
      "1\n",
      "2\n"
     ]
    }
   ],
   "source": [
    "for v in d.values():\n",
    "    print(v)"
   ]
  },
  {
   "cell_type": "code",
   "execution_count": 148,
   "id": "d8580e7f-360e-4df9-ba97-fab432a1be37",
   "metadata": {},
   "outputs": [
    {
     "name": "stdout",
     "output_type": "stream",
     "text": [
      "('k1', 1)\n",
      "('k2', 2)\n"
     ]
    }
   ],
   "source": [
    "for item in d.items():\n",
    "    print(item)"
   ]
  },
  {
   "cell_type": "markdown",
   "id": "d80a0e0e-56e4-4829-955c-40f0a3a5de1f",
   "metadata": {},
   "source": [
    "### Viewing keys, values and items\n",
    "By themselves the keys(), values() and items() methods return a dictionary view object. This is not a separate list of items. Instead, the view is always tied to the original dictionary."
   ]
  },
  {
   "cell_type": "code",
   "execution_count": 150,
   "id": "a8aa15fb-55ce-42c4-a5bd-ef95c26884a5",
   "metadata": {},
   "outputs": [
    {
     "data": {
      "text/plain": [
       "dict_keys(['k1', 'k2'])"
      ]
     },
     "execution_count": 150,
     "metadata": {},
     "output_type": "execute_result"
    }
   ],
   "source": [
    "key_view = d.keys()\n",
    "\n",
    "key_view"
   ]
  },
  {
   "cell_type": "code",
   "execution_count": 152,
   "id": "ce2ea17b-56b9-471f-9b17-b4530e0fae36",
   "metadata": {},
   "outputs": [
    {
     "data": {
      "text/plain": [
       "{'k1': 1, 'k2': 2, 'k3': 3}"
      ]
     },
     "execution_count": 152,
     "metadata": {},
     "output_type": "execute_result"
    }
   ],
   "source": [
    "d['k3'] = 3\n",
    "d"
   ]
  },
  {
   "cell_type": "code",
   "execution_count": 154,
   "id": "43ee164d-22a4-4b51-9b68-e43690945533",
   "metadata": {},
   "outputs": [
    {
     "data": {
      "text/plain": [
       "dict_keys(['k1', 'k2', 'k3'])"
      ]
     },
     "execution_count": 154,
     "metadata": {},
     "output_type": "execute_result"
    }
   ],
   "source": [
    "key_view"
   ]
  },
  {
   "cell_type": "markdown",
   "id": "adc32da7-539a-40a5-b48a-0d76bef37e0b",
   "metadata": {},
   "source": [
    "### Advanced Lists"
   ]
  },
  {
   "cell_type": "code",
   "execution_count": 156,
   "id": "2a5d4ba2-2335-4316-89c2-99e1dbd997e9",
   "metadata": {},
   "outputs": [],
   "source": [
    "list1 = [1,2,3]"
   ]
  },
  {
   "cell_type": "code",
   "execution_count": 158,
   "id": "c13112cd-fda2-42c1-9499-5563656a2074",
   "metadata": {},
   "outputs": [
    {
     "data": {
      "text/plain": [
       "[1, 2, 3, 4, 4]"
      ]
     },
     "execution_count": 158,
     "metadata": {},
     "output_type": "execute_result"
    }
   ],
   "source": [
    "list1.append(4)\n",
    "list1"
   ]
  },
  {
   "cell_type": "code",
   "execution_count": 160,
   "id": "d1b919c9-6797-4482-8378-122fc5364648",
   "metadata": {},
   "outputs": [
    {
     "data": {
      "text/plain": [
       "0"
      ]
     },
     "execution_count": 160,
     "metadata": {},
     "output_type": "execute_result"
    }
   ],
   "source": [
    "list1.count(10)"
   ]
  },
  {
   "cell_type": "code",
   "execution_count": 162,
   "id": "3b30e93f-495c-436e-9fda-5c212dbf0eec",
   "metadata": {},
   "outputs": [
    {
     "data": {
      "text/plain": [
       "1"
      ]
     },
     "execution_count": 162,
     "metadata": {},
     "output_type": "execute_result"
    }
   ],
   "source": [
    "list1.count(2)"
   ]
  },
  {
   "cell_type": "code",
   "execution_count": 164,
   "id": "1e649430-93e9-4810-aab5-9079283d1fa5",
   "metadata": {},
   "outputs": [
    {
     "name": "stdout",
     "output_type": "stream",
     "text": [
      "[1, 2, 3, [4, 5]]\n"
     ]
    }
   ],
   "source": [
    "x = [1, 2, 3]\n",
    "x.append([4, 5])\n",
    "print(x)"
   ]
  },
  {
   "cell_type": "code",
   "execution_count": 166,
   "id": "0a8283f2-0f66-47a0-927f-8f95bb00c59b",
   "metadata": {},
   "outputs": [
    {
     "name": "stdout",
     "output_type": "stream",
     "text": [
      "[1, 2, 3, 4, 5]\n"
     ]
    }
   ],
   "source": [
    "x = [1, 2, 3]\n",
    "x.extend([4, 5])\n",
    "print(x)"
   ]
  },
  {
   "cell_type": "code",
   "execution_count": 168,
   "id": "e1aef617-45d4-487e-9a41-e9e0a0c5c879",
   "metadata": {},
   "outputs": [
    {
     "data": {
      "text/plain": [
       "1"
      ]
     },
     "execution_count": 168,
     "metadata": {},
     "output_type": "execute_result"
    }
   ],
   "source": [
    "list1.index(2)"
   ]
  },
  {
   "cell_type": "code",
   "execution_count": 171,
   "id": "b3f7b33c-efab-485c-8e8b-14893e8708dc",
   "metadata": {},
   "outputs": [],
   "source": [
    "list1.insert(2,'inserted')"
   ]
  },
  {
   "cell_type": "code",
   "execution_count": 173,
   "id": "83a0f843-4805-4d37-be31-800f61fd89fa",
   "metadata": {},
   "outputs": [
    {
     "data": {
      "text/plain": [
       "[1, 2, 'inserted', 'inserted', 'inserted', 3, 4, 4]"
      ]
     },
     "execution_count": 173,
     "metadata": {},
     "output_type": "execute_result"
    }
   ],
   "source": [
    "list1"
   ]
  },
  {
   "cell_type": "code",
   "execution_count": 175,
   "id": "ea99d2b1-d5e4-4046-b2ac-8f7e4713b4f1",
   "metadata": {},
   "outputs": [
    {
     "data": {
      "text/plain": [
       "[1, 'inserted', 'inserted', 3, 4, 4]"
      ]
     },
     "execution_count": 175,
     "metadata": {},
     "output_type": "execute_result"
    }
   ],
   "source": [
    "ele = list1.pop(1)  # pop the second element\n",
    "list1"
   ]
  },
  {
   "cell_type": "code",
   "execution_count": 177,
   "id": "562ff27f-9dc4-4a53-aa76-6ec15435d724",
   "metadata": {},
   "outputs": [
    {
     "data": {
      "text/plain": [
       "'inserted'"
      ]
     },
     "execution_count": 177,
     "metadata": {},
     "output_type": "execute_result"
    }
   ],
   "source": [
    "ele"
   ]
  },
  {
   "cell_type": "code",
   "execution_count": 179,
   "id": "0d5344b8-6760-4023-b033-0c53be77b21c",
   "metadata": {},
   "outputs": [
    {
     "data": {
      "text/plain": [
       "[1, 'inserted', 'inserted', 3, 4, 4]"
      ]
     },
     "execution_count": 179,
     "metadata": {},
     "output_type": "execute_result"
    }
   ],
   "source": [
    "list1"
   ]
  },
  {
   "cell_type": "code",
   "execution_count": 181,
   "id": "30b68e9f-8f5d-4cdd-8729-5efd1c50ad20",
   "metadata": {},
   "outputs": [
    {
     "data": {
      "text/plain": [
       "[1, 3, 4, 4]"
      ]
     },
     "execution_count": 181,
     "metadata": {},
     "output_type": "execute_result"
    }
   ],
   "source": [
    "list1.remove('inserted')\n",
    "list1"
   ]
  },
  {
   "cell_type": "code",
   "execution_count": 183,
   "id": "0ad8266d-0cc3-48f7-9f40-b089275749fc",
   "metadata": {},
   "outputs": [
    {
     "data": {
      "text/plain": [
       "[1, 2, 4, 3]"
      ]
     },
     "execution_count": 183,
     "metadata": {},
     "output_type": "execute_result"
    }
   ],
   "source": [
    "list2 = [1,2,3,4,3]\n",
    "list2.remove(3)\n",
    "list2"
   ]
  },
  {
   "cell_type": "code",
   "execution_count": 185,
   "id": "1e6bb434-2b68-4468-8af2-f55b43db0f89",
   "metadata": {},
   "outputs": [
    {
     "data": {
      "text/plain": [
       "[1, 2, 4, 3]"
      ]
     },
     "execution_count": 185,
     "metadata": {},
     "output_type": "execute_result"
    }
   ],
   "source": [
    "list2.reverse()\n",
    "list2"
   ]
  },
  {
   "cell_type": "code",
   "execution_count": 187,
   "id": "57ce93ee-49cb-48b3-b56d-40b4dc916965",
   "metadata": {},
   "outputs": [
    {
     "data": {
      "text/plain": [
       "[1, 2, 3, 4]"
      ]
     },
     "execution_count": 187,
     "metadata": {},
     "output_type": "execute_result"
    }
   ],
   "source": [
    "list2.sort()\n",
    "list2"
   ]
  },
  {
   "cell_type": "code",
   "execution_count": 189,
   "id": "6c3e6a21-6173-4d31-a0e3-03a7d1717c82",
   "metadata": {},
   "outputs": [
    {
     "data": {
      "text/plain": [
       "[4, 3, 2, 1]"
      ]
     },
     "execution_count": 189,
     "metadata": {},
     "output_type": "execute_result"
    }
   ],
   "source": [
    "list2.sort(reverse=True)\n",
    "list2"
   ]
  },
  {
   "cell_type": "code",
   "execution_count": 191,
   "id": "d8fd6d37-f62e-4331-bc1d-1b18d25e97f1",
   "metadata": {},
   "outputs": [
    {
     "name": "stdout",
     "output_type": "stream",
     "text": [
      "HELLO WORLD\n"
     ]
    }
   ],
   "source": [
    "x = 'hello world'\n",
    "y = x.upper()\n",
    "print(y)"
   ]
  },
  {
   "cell_type": "code",
   "execution_count": 193,
   "id": "790a277a-4f6b-4a1f-8b24-c6f3dd10ae55",
   "metadata": {},
   "outputs": [
    {
     "name": "stdout",
     "output_type": "stream",
     "text": [
      "None\n"
     ]
    }
   ],
   "source": [
    "x = [1,2,3]\n",
    "y = x.append(4)\n",
    "print(y)"
   ]
  },
  {
   "cell_type": "code",
   "execution_count": 195,
   "id": "45c813d8-b92e-459d-8ac1-de8153fc04fd",
   "metadata": {},
   "outputs": [
    {
     "name": "stdout",
     "output_type": "stream",
     "text": [
      "[1, 2, 3]\n"
     ]
    }
   ],
   "source": [
    "x = [1,2,3]\n",
    "y = x.copy()\n",
    "y.append(4)\n",
    "print(x)"
   ]
  },
  {
   "cell_type": "code",
   "execution_count": 197,
   "id": "2385a39b-3431-4971-94db-e80d7f19d975",
   "metadata": {},
   "outputs": [
    {
     "name": "stdout",
     "output_type": "stream",
     "text": [
      "[1, 2, 3, 4]\n"
     ]
    }
   ],
   "source": [
    "print(y)"
   ]
  },
  {
   "cell_type": "code",
   "execution_count": null,
   "id": "f5ed5e40-6058-4afd-965f-53814bea83d9",
   "metadata": {},
   "outputs": [],
   "source": []
  }
 ],
 "metadata": {
  "kernelspec": {
   "display_name": "Python 3 (ipykernel)",
   "language": "python",
   "name": "python3"
  },
  "language_info": {
   "codemirror_mode": {
    "name": "ipython",
    "version": 3
   },
   "file_extension": ".py",
   "mimetype": "text/x-python",
   "name": "python",
   "nbconvert_exporter": "python",
   "pygments_lexer": "ipython3",
   "version": "3.13.5"
  }
 },
 "nbformat": 4,
 "nbformat_minor": 5
}
