{
 "cells": [
  {
   "cell_type": "markdown",
   "id": "9e6bec66-3700-4b21-be3b-0286103173cf",
   "metadata": {},
   "source": [
    "### smtplib - send emails using the Simple Mail Transfer Protocol (SMTP)"
   ]
  },
  {
   "cell_type": "code",
   "execution_count": 2,
   "id": "de4924df-ac09-4fdd-87d6-5abcb2aec1dc",
   "metadata": {},
   "outputs": [],
   "source": [
    "import smtplib"
   ]
  },
  {
   "cell_type": "code",
   "execution_count": 20,
   "id": "03e78a3d-55c0-4627-b107-f2e9f7c2458f",
   "metadata": {},
   "outputs": [
    {
     "data": {
      "text/plain": [
       "(250,\n",
       " b'smtp.gmail.com at your service, [123.201.110.130]\\nSIZE 36700160\\n8BITMIME\\nSTARTTLS\\nENHANCEDSTATUSCODES\\nPIPELINING\\nCHUNKING\\nSMTPUTF8')"
      ]
     },
     "execution_count": 20,
     "metadata": {},
     "output_type": "execute_result"
    }
   ],
   "source": [
    "ob = smtplib.SMTP('smtp.gmail.com',587)\n",
    "ob.ehlo()"
   ]
  },
  {
   "cell_type": "code",
   "execution_count": 21,
   "id": "0fae59a3-80d9-4067-af4a-05f56b8db4b3",
   "metadata": {},
   "outputs": [
    {
     "data": {
      "text/plain": [
       "(220, b'2.0.0 Ready to start TLS')"
      ]
     },
     "execution_count": 21,
     "metadata": {},
     "output_type": "execute_result"
    }
   ],
   "source": [
    "ob.starttls()"
   ]
  },
  {
   "cell_type": "code",
   "execution_count": 22,
   "id": "f2f73f8a-4b71-4f0b-9192-f86e5a9933be",
   "metadata": {},
   "outputs": [
    {
     "name": "stdin",
     "output_type": "stream",
     "text": [
      "Enter your Password:  12345\n"
     ]
    }
   ],
   "source": [
    "password = input(\"Enter your Password: \")"
   ]
  },
  {
   "cell_type": "markdown",
   "id": "8527ddc4-8983-4fca-9ad9-7df526d109ea",
   "metadata": {},
   "source": [
    "### getpass - securely get a password input from the user without showing it on the screen.\n"
   ]
  },
  {
   "cell_type": "code",
   "execution_count": 4,
   "id": "097969ef-cf25-4486-8388-2f48b3be41d9",
   "metadata": {},
   "outputs": [],
   "source": [
    "import getpass"
   ]
  },
  {
   "cell_type": "code",
   "execution_count": 25,
   "id": "b780a75c-7cc3-45ec-9a75-3a246e4b5292",
   "metadata": {},
   "outputs": [
    {
     "name": "stdin",
     "output_type": "stream",
     "text": [
      "Password:  ········\n"
     ]
    }
   ],
   "source": [
    "password = getpass.getpass('Password: ')"
   ]
  },
  {
   "cell_type": "code",
   "execution_count": 29,
   "id": "bf567d47-f635-4981-b009-01c040756bc1",
   "metadata": {},
   "outputs": [
    {
     "name": "stdin",
     "output_type": "stream",
     "text": [
      "Enter your email:  ········\n",
      "Enter your password:  ········\n"
     ]
    },
    {
     "data": {
      "text/plain": [
       "(503,\n",
       " b'5.5.1 MAIL first. A mail transaction protocol command was issued out of\\n5.5.1 sequence. For more information, go to\\n5.5.1  https://support.google.com/a/answer/3221692 and review RFC 5321\\n5.5.1 specifications. d2e1a72fcca58-74eb9f8bfe1sm11562422b3a.155 - gsmtp')"
      ]
     },
     "execution_count": 29,
     "metadata": {},
     "output_type": "execute_result"
    }
   ],
   "source": [
    "email = getpass.getpass(\"Enter your email: \")\n",
    "password = getpass.getpass(\"Enter your password: \")\n",
    "ob.login(email,password)"
   ]
  },
  {
   "cell_type": "markdown",
   "id": "d4c745d0-932e-4f43-989b-a62ff2b31099",
   "metadata": {},
   "source": [
    "### Sending Emails"
   ]
  },
  {
   "cell_type": "code",
   "execution_count": 30,
   "id": "b7c790ad-c07e-435f-aa75-a672f369a2ec",
   "metadata": {},
   "outputs": [
    {
     "name": "stdin",
     "output_type": "stream",
     "text": [
      "Enter your email:  ········\n",
      "Enter the email of the recipient:  ········\n",
      "Enter the subject line:  mail\n",
      "Type out the message you want to send:  Email with python\n"
     ]
    },
    {
     "data": {
      "text/plain": [
       "{}"
      ]
     },
     "execution_count": 30,
     "metadata": {},
     "output_type": "execute_result"
    }
   ],
   "source": [
    "from_address = getpass.getpass(\"Enter your email: \")\n",
    "to_address = getpass.getpass(\"Enter the email of the recipient: \")\n",
    "subject = input(\"Enter the subject line: \")\n",
    "message = input(\"Type out the message you want to send: \")\n",
    "msg = \"Subject: \" + subject + '\\n' + message\n",
    "ob.sendmail(from_address,to_address,msg)"
   ]
  },
  {
   "cell_type": "code",
   "execution_count": 36,
   "id": "b08fa914-3ca8-4e58-9f71-3e6ef60188c7",
   "metadata": {},
   "outputs": [],
   "source": [
    "quit()"
   ]
  },
  {
   "cell_type": "markdown",
   "id": "d6d58b05-3db8-4374-b3a8-4206bed4e1cc",
   "metadata": {},
   "source": [
    "### Received Emails"
   ]
  },
  {
   "cell_type": "code",
   "execution_count": 2,
   "id": "416077f5-5c3f-4239-ac52-7543933b5138",
   "metadata": {},
   "outputs": [],
   "source": [
    "import imaplib"
   ]
  },
  {
   "cell_type": "code",
   "execution_count": 6,
   "id": "44c23d01-f67d-4e37-b804-e3af0955fc54",
   "metadata": {},
   "outputs": [
    {
     "name": "stdin",
     "output_type": "stream",
     "text": [
      "Enter your email:  ········\n",
      "Enter your password:  ········\n"
     ]
    }
   ],
   "source": [
    "M = imaplib.IMAP4_SSL('imap.gmail.com')\n",
    "user = getpass.getpass(\"Enter your email: \")\n",
    "password = getpass.getpass(\"Enter your password: \")"
   ]
  },
  {
   "cell_type": "code",
   "execution_count": 7,
   "id": "dde24359-ec5b-4cac-a9bf-ba28a2219190",
   "metadata": {},
   "outputs": [
    {
     "data": {
      "text/plain": [
       "('OK',\n",
       " [b'(\\\\HasNoChildren) \"/\" \"INBOX\"',\n",
       "  b'(\\\\HasChildren \\\\Noselect) \"/\" \"[Gmail]\"',\n",
       "  b'(\\\\All \\\\HasNoChildren) \"/\" \"[Gmail]/All Mail\"',\n",
       "  b'(\\\\Drafts \\\\HasNoChildren) \"/\" \"[Gmail]/Drafts\"',\n",
       "  b'(\\\\HasNoChildren \\\\Important) \"/\" \"[Gmail]/Important\"',\n",
       "  b'(\\\\HasNoChildren \\\\Sent) \"/\" \"[Gmail]/Sent Mail\"',\n",
       "  b'(\\\\HasNoChildren \\\\Junk) \"/\" \"[Gmail]/Spam\"',\n",
       "  b'(\\\\Flagged \\\\HasNoChildren) \"/\" \"[Gmail]/Starred\"',\n",
       "  b'(\\\\HasNoChildren \\\\Trash) \"/\" \"[Gmail]/Trash\"'])"
      ]
     },
     "execution_count": 7,
     "metadata": {},
     "output_type": "execute_result"
    }
   ],
   "source": [
    "M.login(user,password)\n",
    "M.list()"
   ]
  },
  {
   "cell_type": "markdown",
   "id": "353c81b7-0c81-4590-a45a-9a4e808f9715",
   "metadata": {},
   "source": [
    "### Searching Mail"
   ]
  },
  {
   "cell_type": "code",
   "execution_count": 8,
   "id": "12f393f0-4523-44aa-a26e-055d18885efe",
   "metadata": {},
   "outputs": [
    {
     "data": {
      "text/plain": [
       "('OK', [b'5904'])"
      ]
     },
     "execution_count": 8,
     "metadata": {},
     "output_type": "execute_result"
    }
   ],
   "source": [
    "imaplib._MAXLINE = 10000000\n",
    "M.select(\"inbox\")"
   ]
  },
  {
   "cell_type": "code",
   "execution_count": 11,
   "id": "b89e7241-60a3-4a25-82ae-653b2a2983e2",
   "metadata": {},
   "outputs": [],
   "source": [
    "typ ,data = M.search(None,'SUBJECT \"this is a test email for python\"')"
   ]
  },
  {
   "cell_type": "code",
   "execution_count": 13,
   "id": "61bf9008-3601-4c42-bfdc-5d61f8f3ace3",
   "metadata": {},
   "outputs": [
    {
     "data": {
      "text/plain": [
       "'OK'"
      ]
     },
     "execution_count": 13,
     "metadata": {},
     "output_type": "execute_result"
    }
   ],
   "source": [
    "typ"
   ]
  },
  {
   "cell_type": "code",
   "execution_count": 15,
   "id": "e05d0aca-0b11-443e-bb4e-9415becfca27",
   "metadata": {},
   "outputs": [
    {
     "data": {
      "text/plain": [
       "[b'']"
      ]
     },
     "execution_count": 15,
     "metadata": {},
     "output_type": "execute_result"
    }
   ],
   "source": [
    "data"
   ]
  },
  {
   "cell_type": "code",
   "execution_count": 18,
   "id": "ad9a0335-e914-4503-aa75-7ad449ca169e",
   "metadata": {},
   "outputs": [],
   "source": [
    "result, data = M.search(None, 'ALL')        \n",
    "mail_ids = data[0].split()                 \n",
    "\n",
    "email_id = mail_ids[-1]                      \n",
    "result, email_data = M.fetch(email_id, \"(RFC822)\")\n"
   ]
  },
  {
   "cell_type": "code",
   "execution_count": 20,
   "id": "72f1402e-821b-4f65-be9e-7b04531d2841",
   "metadata": {},
   "outputs": [],
   "source": [
    "import email"
   ]
  },
  {
   "cell_type": "code",
   "execution_count": 25,
   "id": "cd8dcfa0-4bce-4c3d-9a26-b2c38435443c",
   "metadata": {},
   "outputs": [
    {
     "name": "stdout",
     "output_type": "stream",
     "text": [
      "b'OK'\n"
     ]
    }
   ],
   "source": [
    "email_message = email.message_from_string(result)\n",
    "for part in email_message.walk():\n",
    "    if part.get_content_type() == \"text/plain\":\n",
    "        body = part.get_payload(decode=True)\n",
    "        print(body)"
   ]
  }
 ],
 "metadata": {
  "kernelspec": {
   "display_name": "Python 3 (ipykernel)",
   "language": "python",
   "name": "python3"
  },
  "language_info": {
   "codemirror_mode": {
    "name": "ipython",
    "version": 3
   },
   "file_extension": ".py",
   "mimetype": "text/x-python",
   "name": "python",
   "nbconvert_exporter": "python",
   "pygments_lexer": "ipython3",
   "version": "3.13.5"
  }
 },
 "nbformat": 4,
 "nbformat_minor": 5
}
