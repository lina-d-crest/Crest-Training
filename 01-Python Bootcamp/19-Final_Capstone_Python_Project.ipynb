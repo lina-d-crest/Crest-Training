{
 "cells": [
  {
   "cell_type": "markdown",
   "id": "06319d12-78dd-4404-8e6e-550c006d6501",
   "metadata": {},
   "source": [
    "### 1.Reverse a String - Enter a string and the program will reverse it and print it out."
   ]
  },
  {
   "cell_type": "code",
   "execution_count": 4,
   "id": "4ee85488-ef59-4441-9942-4734770b6217",
   "metadata": {},
   "outputs": [
    {
     "name": "stdin",
     "output_type": "stream",
     "text": [
      "Enter String:  hellooo\n"
     ]
    },
    {
     "data": {
      "text/plain": [
       "'ooolleh'"
      ]
     },
     "execution_count": 4,
     "metadata": {},
     "output_type": "execute_result"
    }
   ],
   "source": [
    "s = input(\"Enter String: \")\n",
    "rs = s[::-1]\n",
    "rs"
   ]
  },
  {
   "cell_type": "markdown",
   "id": "5238bc96-fe46-478f-a694-dfc3afdb7120",
   "metadata": {},
   "source": [
    "### 2.Fibonacci Sequence - Enter a number and have the program generate the Fibonacci sequence to that number or to the Nth number."
   ]
  },
  {
   "cell_type": "code",
   "execution_count": 9,
   "id": "dd06a43d-f868-4862-8677-0251ca13293b",
   "metadata": {},
   "outputs": [
    {
     "name": "stdin",
     "output_type": "stream",
     "text": [
      "Generate how many Fibonacci numbers?  14\n"
     ]
    },
    {
     "name": "stdout",
     "output_type": "stream",
     "text": [
      "Fibonacci sequence: [0, 1, 1, 2, 3, 5, 8, 13, 21, 34, 55, 89, 144, 233]\n"
     ]
    }
   ],
   "source": [
    "def fibonacci_n_terms(n):\n",
    "    a, b = 0, 1\n",
    "    sequence = []\n",
    "    for _ in range(n):\n",
    "        sequence.append(a)\n",
    "        a, b = b, a + b\n",
    "    return sequence\n",
    "\n",
    "n = int(input(\"Generate how many Fibonacci numbers? \"))\n",
    "print(\"Fibonacci sequence:\", fibonacci_n_terms(n))\n"
   ]
  },
  {
   "cell_type": "markdown",
   "id": "3b7a1725-abfe-4476-a7ac-4b20dcea907c",
   "metadata": {},
   "source": [
    "### 3.Fizz Buzz - Write a program that prints the numbers from 1 to 100. But for multiples of three print “Fizz” instead of the number and for the multiples of five print “Buzz”. For numbers which are multiples of both three and five print “FizzBuzz”."
   ]
  },
  {
   "cell_type": "code",
   "execution_count": 12,
   "id": "896458cd-e8a6-4e46-9d82-6246a30e216d",
   "metadata": {},
   "outputs": [
    {
     "name": "stdout",
     "output_type": "stream",
     "text": [
      "1\n",
      "2\n",
      "3 = Fizz\n",
      "4\n",
      "5 = Buzz\n",
      "6 = Fizz\n",
      "7\n",
      "8\n",
      "9 = Fizz\n",
      "10 = Buzz\n",
      "11\n",
      "12 = Fizz\n",
      "13\n",
      "14\n",
      "15 = FizzBuzz\n",
      "16\n",
      "17\n",
      "18 = Fizz\n",
      "19\n",
      "20 = Buzz\n",
      "21 = Fizz\n",
      "22\n",
      "23\n",
      "24 = Fizz\n",
      "25 = Buzz\n",
      "26\n",
      "27 = Fizz\n",
      "28\n",
      "29\n",
      "30 = FizzBuzz\n",
      "31\n",
      "32\n",
      "33 = Fizz\n",
      "34\n",
      "35 = Buzz\n",
      "36 = Fizz\n",
      "37\n",
      "38\n",
      "39 = Fizz\n",
      "40 = Buzz\n",
      "41\n",
      "42 = Fizz\n",
      "43\n",
      "44\n",
      "45 = FizzBuzz\n",
      "46\n",
      "47\n",
      "48 = Fizz\n",
      "49\n",
      "50 = Buzz\n",
      "51 = Fizz\n",
      "52\n",
      "53\n",
      "54 = Fizz\n",
      "55 = Buzz\n",
      "56\n",
      "57 = Fizz\n",
      "58\n",
      "59\n",
      "60 = FizzBuzz\n",
      "61\n",
      "62\n",
      "63 = Fizz\n",
      "64\n",
      "65 = Buzz\n",
      "66 = Fizz\n",
      "67\n",
      "68\n",
      "69 = Fizz\n",
      "70 = Buzz\n",
      "71\n",
      "72 = Fizz\n",
      "73\n",
      "74\n",
      "75 = FizzBuzz\n",
      "76\n",
      "77\n",
      "78 = Fizz\n",
      "79\n",
      "80 = Buzz\n",
      "81 = Fizz\n",
      "82\n",
      "83\n",
      "84 = Fizz\n",
      "85 = Buzz\n",
      "86\n",
      "87 = Fizz\n",
      "88\n",
      "89\n",
      "90 = FizzBuzz\n",
      "91\n",
      "92\n",
      "93 = Fizz\n",
      "94\n",
      "95 = Buzz\n",
      "96 = Fizz\n",
      "97\n",
      "98\n",
      "99 = Fizz\n",
      "100 = Buzz\n"
     ]
    }
   ],
   "source": [
    "for i in range(1,101):\n",
    "    if i%3==0 and i%5!=0:\n",
    "        print(f\"{i} = Fizz\")\n",
    "    elif i%5==0 and i%3!=0:\n",
    "        print(f\"{i} = Buzz\")\n",
    "    elif i%3==0 and i%5==0:\n",
    "        print(f\"{i} = FizzBuzz\")\n",
    "    else:\n",
    "        print(i)"
   ]
  },
  {
   "cell_type": "markdown",
   "id": "9a24552e-7a55-42bc-8f6f-128e1f8ae63e",
   "metadata": {},
   "source": [
    "### 4.Prime Factorization - Have the user enter a number and find all Prime Factors (if there are any) and display them."
   ]
  },
  {
   "cell_type": "code",
   "execution_count": 21,
   "id": "bca54ed5-4b03-4e25-a09f-b6f115855094",
   "metadata": {},
   "outputs": [
    {
     "name": "stdin",
     "output_type": "stream",
     "text": [
      "Enter a number:  84\n"
     ]
    },
    {
     "name": "stdout",
     "output_type": "stream",
     "text": [
      "Prime factors: [2, 2, 3, 7]\n"
     ]
    }
   ],
   "source": [
    "n = int(input(\"Enter a number: \"))\n",
    "l = []\n",
    "for i in range(2, n + 1):\n",
    "    while n % i == 0:\n",
    "        l.append(i)\n",
    "        n //= i\n",
    "\n",
    "print(\"Prime factors:\", l)"
   ]
  },
  {
   "cell_type": "markdown",
   "id": "9b4029a9-8429-42b6-9256-3837ca51de9d",
   "metadata": {},
   "source": [
    "### 5.Check if Palindrome - Checks if the string entered by the user is a palindrome. That is that it reads the same forwards as backwards like “racecar”"
   ]
  },
  {
   "cell_type": "code",
   "execution_count": 7,
   "id": "fbccfa85-ba21-46dc-9790-4c1e9586d178",
   "metadata": {},
   "outputs": [
    {
     "name": "stdin",
     "output_type": "stream",
     "text": [
      "Enter a string:  racecar\n"
     ]
    },
    {
     "name": "stdout",
     "output_type": "stream",
     "text": [
      "It's a palindrome!\n"
     ]
    }
   ],
   "source": [
    "def is_palindrome(text):\n",
    "    cleaned = text.lower().replace(\" \", \"\")\n",
    "    return cleaned == cleaned[::-1]\n",
    "\n",
    "# Input\n",
    "text = input(\"Enter a string: \")\n",
    "\n",
    "# Check and output\n",
    "if is_palindrome(text):\n",
    "    print(\"It's a palindrome!\")\n",
    "else:\n",
    "    print(\"Not a palindrome.\")"
   ]
  },
  {
   "cell_type": "markdown",
   "id": "d129cd53-ebeb-4233-a539-6373d477da96",
   "metadata": {},
   "source": [
    "### 6.Factorial Finder - The Factorial of a positive integer, n, is defined as the product of the sequence n, n-1, n-2, ...1 and the factorial of zero, 0, is defined as being 1. Solve this using both loops and recursion."
   ]
  },
  {
   "cell_type": "code",
   "execution_count": 23,
   "id": "c5669eef-d05c-4e78-bdaf-229d77beec60",
   "metadata": {},
   "outputs": [
    {
     "name": "stdin",
     "output_type": "stream",
     "text": [
      "Enter a non-negative integer:  6\n"
     ]
    },
    {
     "name": "stdout",
     "output_type": "stream",
     "text": [
      "Factorial of 6: 720\n"
     ]
    }
   ],
   "source": [
    "def fact(n):\n",
    "    if n == 0 or n == 1:\n",
    "        return 1\n",
    "    return n * fact(n - 1)\n",
    "    \n",
    "n = int(input(\"Enter a non-negative integer: \"))\n",
    "\n",
    "if n < 0:\n",
    "    print(\"It's negative numbers.\")\n",
    "else:\n",
    "    print(f\"Factorial of {n}:\", fact(n)"
   ]
  },
  {
   "cell_type": "markdown",
   "id": "9ccc5c05-870c-4556-b6f1-3c3b3796fd54",
   "metadata": {},
   "source": [
    "### 7.Bubble Sort"
   ]
  },
  {
   "cell_type": "code",
   "execution_count": 27,
   "id": "05fae626-7e71-4099-a334-5091586fa2c3",
   "metadata": {},
   "outputs": [
    {
     "name": "stdout",
     "output_type": "stream",
     "text": [
      "[1, 2, 3, 4, 6, 8, 9]\n"
     ]
    }
   ],
   "source": [
    "def bubble_sort(arr):\n",
    "    n = len(arr)\n",
    "    for i in range(n):\n",
    "        for j in range(n - 1 - i):\n",
    "            if arr[j] > arr[j + 1]:\n",
    "                arr[j], arr[j + 1] = arr[j + 1], arr[j]\n",
    "    return arr\n",
    "\n",
    "l = [6,8,3,4,1,2,9]\n",
    "print(bubble_sort(l))"
   ]
  },
  {
   "cell_type": "markdown",
   "id": "2b69f255-d422-4591-926f-ebc870b829cd",
   "metadata": {},
   "source": [
    "### 8.Merge Sort"
   ]
  },
  {
   "cell_type": "code",
   "execution_count": 28,
   "id": "c6b26b37-eda7-4b24-9c18-8192c233e7e7",
   "metadata": {},
   "outputs": [
    {
     "name": "stdout",
     "output_type": "stream",
     "text": [
      "[1, 2, 3, 4, 6, 8, 9]\n"
     ]
    }
   ],
   "source": [
    "def merge_sort(arr):\n",
    "    if len(arr) <= 1:\n",
    "        return arr\n",
    "\n",
    "    mid = len(arr) // 2\n",
    "    left = merge_sort(arr[:mid])\n",
    "    right = merge_sort(arr[mid:])\n",
    "\n",
    "    return merge(left, right)\n",
    "\n",
    "def merge(left, right):\n",
    "    merged = []\n",
    "    i = j = 0\n",
    "\n",
    "    while i < len(left) and j < len(right):\n",
    "        if left[i] < right[j]:\n",
    "            merged.append(left[i])\n",
    "            i += 1\n",
    "        else:\n",
    "            merged.append(right[j])\n",
    "            j += 1\n",
    "\n",
    "    merged.extend(left[i:])\n",
    "    merged.extend(right[j:])\n",
    "    return merged\n",
    "\n",
    "l = [6,8,3,4,1,2,9]\n",
    "print(merge_sort(l))"
   ]
  },
  {
   "cell_type": "markdown",
   "id": "9048828a-34ff-46a4-9806-fd03eac7db72",
   "metadata": {},
   "source": [
    "### 9.Caesar Cipher"
   ]
  },
  {
   "cell_type": "code",
   "execution_count": 6,
   "id": "aee16813-a5df-4cfa-9b11-65a3289809eb",
   "metadata": {},
   "outputs": [
    {
     "name": "stdout",
     "output_type": "stream",
     "text": [
      "Caesar: KHOOR IULHQG -> HELLO FRIEND\n"
     ]
    }
   ],
   "source": [
    "def caesar_encrypt(message, shift):\n",
    "    result = \"\"\n",
    "    for char in message:\n",
    "        if char.isalpha():\n",
    "            offset = 65 if char.isupper() else 97\n",
    "            result += chr((ord(char) - offset + shift) % 26 + offset)\n",
    "        else:\n",
    "            result += char\n",
    "    return result\n",
    "\n",
    "def caesar_decrypt(cipher, shift):\n",
    "    return caesar_encrypt(cipher, -shift)\n",
    "\n",
    "message = \"HELLO FRIEND\"\n",
    "caesar_key = 3\n",
    "\n",
    "enc_c = caesar_encrypt(message, caesar_key)\n",
    "dec_c = caesar_decrypt(enc_c, caesar_key)\n",
    "\n",
    "print(\"Caesar:\", enc_c, \"->\", dec_c)"
   ]
  },
  {
   "cell_type": "markdown",
   "id": "08e9e78f-5c8a-4d01-88b5-8f7e0d18e87b",
   "metadata": {},
   "source": [
    "### 10.Find Cost of Tile to Cover W x H Floor - Calculate the total cost of tile it would take to cover a floor plan of width and height, using a cost entered by the user."
   ]
  },
  {
   "cell_type": "code",
   "execution_count": 11,
   "id": "86d9a2fd-f930-4e9d-91a3-519c4664394b",
   "metadata": {},
   "outputs": [
    {
     "name": "stdin",
     "output_type": "stream",
     "text": [
      "Enter the width of a Floor:  10\n",
      "Enter the height of a Floor:  12\n",
      "Enter the cost persquare feet:  50\n"
     ]
    },
    {
     "name": "stdout",
     "output_type": "stream",
     "text": [
      "Total cost to cover 10x12 floor: ₹6000.00\n"
     ]
    }
   ],
   "source": [
    "def tile_cost(width, height, cost_per_sqft):\n",
    "    area = width * height\n",
    "    total_cost = area * cost_per_sqft\n",
    "    print(f\"Total cost to cover {width}x{height} floor: ₹{total_cost:.2f}\")\n",
    "\n",
    "w = int(input(\"Enter the width of a Floor: \"))\n",
    "h = int(input(\"Enter the height of a Floor: \"))\n",
    "c = int(input(\"Enter the cost persquare feet: \"))\n",
    "tile_cost(w, h, c)"
   ]
  }
 ],
 "metadata": {
  "kernelspec": {
   "display_name": "Python 3 (ipykernel)",
   "language": "python",
   "name": "python3"
  },
  "language_info": {
   "codemirror_mode": {
    "name": "ipython",
    "version": 3
   },
   "file_extension": ".py",
   "mimetype": "text/x-python",
   "name": "python",
   "nbconvert_exporter": "python",
   "pygments_lexer": "ipython3",
   "version": "3.13.5"
  }
 },
 "nbformat": 4,
 "nbformat_minor": 5
}
