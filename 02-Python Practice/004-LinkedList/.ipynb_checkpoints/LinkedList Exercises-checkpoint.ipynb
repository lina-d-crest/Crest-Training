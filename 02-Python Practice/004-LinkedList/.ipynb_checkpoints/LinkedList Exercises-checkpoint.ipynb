{
 "cells": [
  {
   "cell_type": "markdown",
   "id": "9e494738-09d8-4330-bfe1-d7f9be5d4e4b",
   "metadata": {},
   "source": [
    "**Search an Element in a Circular Linked List**\n",
    "\n",
    "Input: CList = 6->5->4->3->2, find = 3<br>\n",
    "Output: Element is present<br>\n",
    " \n",
    "Input: CList = 6->5->4->3->2, find = 1<br>\n",
    "Output: Element is not present"
   ]
  },
  {
   "cell_type": "code",
   "execution_count": 3,
   "id": "86eecb89-70a3-4ac4-9c4f-19c8d8922f9d",
   "metadata": {},
   "outputs": [],
   "source": [
    "class Node: \n",
    "    def __init__(self,data):    \n",
    "        self.data = data;\n",
    "        self.next = None;"
   ]
  },
  {
   "cell_type": "code",
   "execution_count": 7,
   "id": "cf171a88-5172-468e-a13b-4ca9d3c2050e",
   "metadata": {},
   "outputs": [],
   "source": [
    "class CircularLinkedList:\n",
    "    def __init__(self):    \n",
    "        self.head = Node(None);    \n",
    "        self.tail = Node(None);    \n",
    "        self.head.next = self.tail;    \n",
    "        self.tail.next = self.head;    \n",
    "\n",
    "    def add(self,data):    \n",
    "        newNode = Node(data); \n",
    "        \n",
    "        if self.head.data is None:\n",
    "            self.head = newNode;\n",
    "            self.tail = newNode;\n",
    "            newNode.next = self.head;\n",
    "        \n",
    "        else:\n",
    "            self.tail.next = newNode;\n",
    "            self.tail = newNode;\n",
    "            self.tail.next = self.head;    \n",
    "\n",
    "    def findNode(self,element):\n",
    "        current = self.head;\n",
    "        i = 1;\n",
    "        f = 0;       \n",
    "        if(self.head == None):\n",
    "            print(\"Empty list\"); \n",
    "        else:\n",
    "            while(True):     \n",
    "                if(current.data ==  element): \n",
    "                    f += 1;    \n",
    "                    break;\n",
    "\n",
    "                current = current.next;    \n",
    "                i = i + 1;    \n",
    "\n",
    "                if(current == self.head):    \n",
    "                    break;    \n",
    "\n",
    "            if(f > 0):    \n",
    "                print(\"element is present\");    \n",
    "            else:    \n",
    "                print(\"element is not present\");    "
   ]
  },
  {
   "cell_type": "code",
   "execution_count": 8,
   "id": "615a29ff-4f35-45c2-b402-87c7cec1211c",
   "metadata": {},
   "outputs": [
    {
     "name": "stdout",
     "output_type": "stream",
     "text": [
      "element is present\n",
      "element is not present\n"
     ]
    }
   ],
   "source": [
    "if __name__ == '__main__':\n",
    "\n",
    "    '''\n",
    "    Circular Linked List we will be working on:\n",
    "    1 -> 2 -> 3 -> 4 -> 5 -> 6\n",
    "    '''\n",
    "    circularLinkedList = CircularLinkedList();\n",
    "  \n",
    "    circularLinkedList.add(1);\n",
    "    circularLinkedList.add(2);\n",
    "    circularLinkedList.add(3);\n",
    "    circularLinkedList.add(4);\n",
    "    circularLinkedList.add(5);\n",
    "    circularLinkedList.add(6);\n",
    "  \n",
    "    circularLinkedList.findNode(2);\n",
    "    \n",
    "    circularLinkedList.findNode(7);"
   ]
  },
  {
   "cell_type": "markdown",
   "id": "b9272287-2210-4028-84ec-50006a01e092",
   "metadata": {},
   "source": [
    "**Pretty print Linked List**\n",
    "\n",
    "Pretty print a singly linked list 10->15->20 as [10, 15, 20]"
   ]
  },
  {
   "cell_type": "code",
   "execution_count": 10,
   "id": "40800315-5bb3-43dd-936a-1efbb90799e8",
   "metadata": {},
   "outputs": [],
   "source": [
    "class Node:\n",
    "    def __init__(self, val=None):\n",
    "        self.val = val\n",
    "        self.next = None"
   ]
  },
  {
   "cell_type": "code",
   "execution_count": 12,
   "id": "144980ae-ca42-4301-8415-80d6a48df95a",
   "metadata": {},
   "outputs": [],
   "source": [
    "class LinkedList:\n",
    "    def __init__(self, head=None):\n",
    "        self.head = head\n",
    "\n",
    "    def __str__(self):\n",
    "        res = \"\"\n",
    "        ptr = self.head\n",
    " \n",
    "        while ptr:\n",
    "            res += str(ptr.val) + \", \"\n",
    "            ptr = ptr.next\n",
    "\n",
    "        res = res.strip(\", \")\n",
    "\n",
    "        if len(res):\n",
    "            return \"[\" + res + \"]\"\n",
    "        else:\n",
    "            return \"[]\""
   ]
  },
  {
   "cell_type": "code",
   "execution_count": 13,
   "id": "1c574e7e-5836-421a-b391-a7a6b13d5cce",
   "metadata": {},
   "outputs": [
    {
     "name": "stdout",
     "output_type": "stream",
     "text": [
      "[10, 15, 20]\n"
     ]
    }
   ],
   "source": [
    "if __name__ == \"__main__\":\n",
    "    ll = LinkedList()\n",
    "\n",
    "    node1 = Node(10)\n",
    "    node2 = Node(15)\n",
    "    node3 = Node(20)\n",
    "\n",
    "    ll.head = node1\n",
    "    node1.next = node2\n",
    "    node2.next = node3\n",
    "\n",
    "    print(ll)"
   ]
  }
 ],
 "metadata": {
  "kernelspec": {
   "display_name": "Python 3 (ipykernel)",
   "language": "python",
   "name": "python3"
  },
  "language_info": {
   "codemirror_mode": {
    "name": "ipython",
    "version": 3
   },
   "file_extension": ".py",
   "mimetype": "text/x-python",
   "name": "python",
   "nbconvert_exporter": "python",
   "pygments_lexer": "ipython3",
   "version": "3.13.5"
  }
 },
 "nbformat": 4,
 "nbformat_minor": 5
}
