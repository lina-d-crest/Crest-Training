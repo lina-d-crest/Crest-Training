{
 "cells": [
  {
   "cell_type": "markdown",
   "id": "b47010b0-5c2e-4387-9c3e-5ce846659cb4",
   "metadata": {},
   "source": [
    "### Assigning Subsequent Rows to Matrix first row elements\n",
    "Input : test_list = [[5, 8, 10], [2, 0, 9], [5, 4, 2], [2, 3, 9]]<br>Output : {5: [2, 0, 9], 8: [5, 4, 2], 10: [2, 3, 9]} <br>\n",
    "Explanation : 5 paired with 2nd row, 8 with 3rd and 10 with 4th "
   ]
  },
  {
   "cell_type": "code",
   "execution_count": 1,
   "id": "801b5dd9-3ece-4355-b11b-6d80139e2f1d",
   "metadata": {},
   "outputs": [],
   "source": [
    "import numpy as np"
   ]
  },
  {
   "cell_type": "code",
   "execution_count": 8,
   "id": "bb433415-5dee-402a-847c-30f93ffa9e80",
   "metadata": {},
   "outputs": [
    {
     "name": "stdout",
     "output_type": "stream",
     "text": [
      "[[ 5  8 10]\n",
      " [ 2  0  9]\n",
      " [ 5  4  2]\n",
      " [ 2  3  9]]\n"
     ]
    }
   ],
   "source": [
    "list = np.array([[5, 8, 10], [2, 0, 9], [5, 4, 2], [2, 3, 9]])\n",
    "print(list)"
   ]
  },
  {
   "cell_type": "code",
   "execution_count": 10,
   "id": "727e72a7-67cb-42cf-aee8-67a4c9500476",
   "metadata": {},
   "outputs": [
    {
     "data": {
      "text/plain": [
       "'{np.int64(5): array([2, 0, 9]), np.int64(8): array([5, 4, 2]), np.int64(10): array([2, 3, 9])}'"
      ]
     },
     "execution_count": 10,
     "metadata": {},
     "output_type": "execute_result"
    }
   ],
   "source": [
    "a = list[0]\n",
    "b = list[1:len(list)]\n",
    "d = dict()\n",
    "for i in range(0,len(a)):\n",
    "    d[a[i]] = b[i]\n",
    "    \n",
    "str(d)"
   ]
  },
  {
   "cell_type": "markdown",
   "id": "535cb81e-6048-4504-aaac-4f425b16cfce",
   "metadata": {},
   "source": [
    "### Adding and Subtracting Matrices in Python\n",
    "Suppose we have two matrices A and B.<br>\n",
    "A = [[1,2],[3,4]]<br>\n",
    "B = [[4,5],[6,7]]<br>\n",
    "\n",
    "then we get<br>\n",
    "A+B = [[5,7],[9,11]]<br>\n",
    "A-B = [[-3,-3],[-3,-3]]<br>"
   ]
  },
  {
   "cell_type": "code",
   "execution_count": 15,
   "id": "d9a61885-f58e-43d1-bac3-9338a990111c",
   "metadata": {},
   "outputs": [
    {
     "name": "stdout",
     "output_type": "stream",
     "text": [
      "[[1 2]\n",
      " [3 4]]\n"
     ]
    }
   ],
   "source": [
    "a = np.array([[1,2],[3,4]])\n",
    "b = np.array([[4,5],[6,7]])\n",
    "\n",
    "print(a)"
   ]
  },
  {
   "cell_type": "code",
   "execution_count": 17,
   "id": "3dd57724-47b0-4300-beba-f4dfc8ef6a5c",
   "metadata": {},
   "outputs": [
    {
     "name": "stdout",
     "output_type": "stream",
     "text": [
      "[[4 5]\n",
      " [6 7]]\n"
     ]
    }
   ],
   "source": [
    "print(b)"
   ]
  },
  {
   "cell_type": "code",
   "execution_count": 20,
   "id": "5f64ec8c-d478-4bb8-9841-df2a01f428f0",
   "metadata": {},
   "outputs": [
    {
     "name": "stdout",
     "output_type": "stream",
     "text": [
      "[[ 5  7]\n",
      " [ 9 11]]\n"
     ]
    }
   ],
   "source": [
    "print(np.add(a,b))"
   ]
  },
  {
   "cell_type": "markdown",
   "id": "3a769be0-819b-42de-847a-442480873db6",
   "metadata": {},
   "source": [
    "### Group similar elements into Matrix\n",
    "Input : test_list = [1, 3, 4, 4, 2, 3] <br>\n",
    "Output : [[1], [2], [3, 3], [4, 4]] "
   ]
  },
  {
   "cell_type": "code",
   "execution_count": 24,
   "id": "16144f89-ba48-4278-8f41-d1647b3658e7",
   "metadata": {},
   "outputs": [
    {
     "name": "stdout",
     "output_type": "stream",
     "text": [
      "[1 3 4 4 2 3]\n"
     ]
    }
   ],
   "source": [
    "a = np.array([1, 3, 4, 4, 2, 3])\n",
    "print(a)"
   ]
  },
  {
   "cell_type": "code",
   "execution_count": 28,
   "id": "a95de260-9f70-4821-9851-f51000fd812d",
   "metadata": {},
   "outputs": [
    {
     "name": "stdout",
     "output_type": "stream",
     "text": [
      "[[np.int64(1)], [np.int64(3), np.int64(3)], [np.int64(4), np.int64(4)], [np.int64(2)]]\n"
     ]
    }
   ],
   "source": [
    "res = []\n",
    "\n",
    "for i in a:\n",
    "    found = False\n",
    "    for j in range(len(res)):\n",
    "        if i in res[j]:\n",
    "            res[j].append(i)\n",
    "            found = True\n",
    "            break\n",
    "    if not found:\n",
    "        res.append([i])\n",
    "\n",
    "print(str(res))"
   ]
  },
  {
   "cell_type": "markdown",
   "id": "52351374-1fa6-4307-b581-4c181479b352",
   "metadata": {},
   "source": [
    "###  Row-wise element Addition in Tuple Matrix\n",
    "input : test_list = [[('Gfg', 3)], [('best', 1)]] cus_eles = [1, 2] <br>\n",
    "Output : [[('Gfg', 3, 1)], [('best', 1, 2)]] "
   ]
  },
  {
   "cell_type": "code",
   "execution_count": 33,
   "id": "c60875ad-d353-4094-a95f-c593461af8a9",
   "metadata": {},
   "outputs": [
    {
     "name": "stdout",
     "output_type": "stream",
     "text": [
      "[[('Gfg', 3, 1)], [('best', 1, 2)]]\n"
     ]
    }
   ],
   "source": [
    "test_list = [[('Gfg', 3)], [('best', 1)]]\n",
    "cus_eles = [1, 2]\n",
    "\n",
    "result_list = []\n",
    "for i, row in enumerate(test_list):\n",
    "    new_row = [(tup + (cus_eles[i],)) for tup in row]\n",
    "    result_list.append(new_row)\n",
    "\n",
    "print(result_list)"
   ]
  },
  {
   "cell_type": "markdown",
   "id": "650c396a-d3b9-407e-b698-ff6c490a5e9e",
   "metadata": {},
   "source": [
    "### Create an n x n square matrix, where all the sub-matrix have the sum of opposite corner elements as even\n",
    "input: 2 <br>\n",
    "Output: 1 2 <br>\n",
    "4 3 <br>\n",
    "Explanation: Here sum of 1+3=4 is even and 2+4=6 is even<br>"
   ]
  },
  {
   "cell_type": "code",
   "execution_count": 34,
   "id": "4c30eb4e-877f-4742-b5bc-7e920bd0b70f",
   "metadata": {},
   "outputs": [
    {
     "name": "stdout",
     "output_type": "stream",
     "text": [
      "1 4\n",
      "3 2\n"
     ]
    }
   ],
   "source": [
    "def generate_matrix(n):\n",
    "    matrix = [[0]*n for _ in range(n)]\n",
    "    low = 1\n",
    "    high = n * n\n",
    "    \n",
    "    for i in range(n):\n",
    "        for j in range(n):\n",
    "            if (i + j) % 2 == 0:\n",
    "                matrix[i][j] = low\n",
    "                low += 1\n",
    "            else:\n",
    "                matrix[i][j] = high\n",
    "                high -= 1\n",
    "    \n",
    "    for row in matrix:\n",
    "        print(*row)\n",
    "\n",
    "generate_matrix(2)"
   ]
  }
 ],
 "metadata": {
  "kernelspec": {
   "display_name": "Python 3 (ipykernel)",
   "language": "python",
   "name": "python3"
  },
  "language_info": {
   "codemirror_mode": {
    "name": "ipython",
    "version": 3
   },
   "file_extension": ".py",
   "mimetype": "text/x-python",
   "name": "python",
   "nbconvert_exporter": "python",
   "pygments_lexer": "ipython3",
   "version": "3.13.5"
  }
 },
 "nbformat": 4,
 "nbformat_minor": 5
}
