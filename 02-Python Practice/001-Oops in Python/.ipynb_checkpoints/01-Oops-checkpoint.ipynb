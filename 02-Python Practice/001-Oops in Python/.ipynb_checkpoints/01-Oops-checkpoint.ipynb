{
 "cells": [
  {
   "cell_type": "markdown",
   "id": "a66df2bd-4203-44fa-8bc1-fec173819fbd",
   "metadata": {},
   "source": [
    "**Class and Objects in Python**"
   ]
  },
  {
   "cell_type": "code",
   "execution_count": 40,
   "id": "12119144-fcfd-4b0b-82c4-18aea88a2514",
   "metadata": {},
   "outputs": [
    {
     "name": "stdout",
     "output_type": "stream",
     "text": [
      "<class 'str'>\n",
      "<class '__main__.Computer'>\n",
      "i5, 16gb, 1TB\n",
      "None\n"
     ]
    }
   ],
   "source": [
    "class Computer:\n",
    "    def config(self):\n",
    "        print(\"i5, 16gb, 1TB\")\n",
    "\n",
    "a = '10'\n",
    "print(type(a)) \n",
    "\n",
    "com1 = Computer()\n",
    "com2 = Computer()\n",
    "\n",
    "print(type(com1))  \n",
    "print(com1.config())"
   ]
  },
  {
   "cell_type": "code",
   "execution_count": 41,
   "id": "24cd66b6-6689-4618-b4b7-f80238328c36",
   "metadata": {},
   "outputs": [
    {
     "name": "stdout",
     "output_type": "stream",
     "text": [
      "i5, 16gb, 1TB\n",
      "i5, 16gb, 1TB\n"
     ]
    }
   ],
   "source": [
    "Computer.config(com1)\n",
    "Computer.config(com2)"
   ]
  },
  {
   "cell_type": "markdown",
   "id": "63dc23d2-0366-45cb-98f1-62edfd27cd58",
   "metadata": {},
   "source": [
    "**The init Methods**"
   ]
  },
  {
   "cell_type": "code",
   "execution_count": 42,
   "id": "42ced8d2-ae81-4c69-8904-3e624ce1b0ec",
   "metadata": {},
   "outputs": [
    {
     "name": "stdout",
     "output_type": "stream",
     "text": [
      "<class 'str'>\n",
      "<class '__main__.Computer'>\n",
      "i4, 8gb, 1TB\n",
      "None\n"
     ]
    }
   ],
   "source": [
    "class Computer:  \n",
    "    def __init__(self, cpu, ram, storage):\n",
    "        self.cpu = cpu\n",
    "        self.ram = ram\n",
    "        self.storage = storage   \n",
    "    def config(self):\n",
    "        print(f\"{self.cpu}, {self.ram}, {self.storage}\")\n",
    "\n",
    "a = '8'\n",
    "print(type(a)) \n",
    "\n",
    "com1 = Computer('i4','8gb','1TB')\n",
    "com2 = Computer('i4','8gb','1TB')\n",
    "\n",
    "print(type(com1))  \n",
    "print(com1.config())"
   ]
  },
  {
   "cell_type": "markdown",
   "id": "ccd5fc68-9110-42d9-92c4-6e4ea8dae1c5",
   "metadata": {},
   "source": [
    "**Contructor, Self and Comparing Objects && Types of Variables**"
   ]
  },
  {
   "cell_type": "code",
   "execution_count": 45,
   "id": "caf551fa-298d-4d5e-b2b8-c573ae68ad8d",
   "metadata": {},
   "outputs": [],
   "source": [
    "class Computer:\n",
    "    def __init__(self):\n",
    "        self.name = \"Crest\"\n",
    "        self.age = 20\n",
    "    def update(self):\n",
    "        self.age = 30\n",
    "    def compare(self, other):\n",
    "        if self.age == other.age:\n",
    "            return True\n",
    "        else:\n",
    "            return False"
   ]
  },
  {
   "cell_type": "code",
   "execution_count": 47,
   "id": "e171158c-4f36-4684-83c1-7519c11b5b47",
   "metadata": {},
   "outputs": [
    {
     "name": "stdout",
     "output_type": "stream",
     "text": [
      "They are different.\n",
      "Alice\n",
      "Crest\n"
     ]
    }
   ],
   "source": [
    "c1 = Computer()\n",
    "c1.age = 30\n",
    "c2 = Computer()\n",
    "\n",
    "c1.name = \"Alice\"\n",
    "c1.age = 21\n",
    "\n",
    "if c1.compare(c2):\n",
    "    print(\"They are same.\")\n",
    "else:\n",
    "    print(\"They are different.\")\n",
    "\n",
    "print(c1.name)\n",
    "print(c2.name)"
   ]
  },
  {
   "cell_type": "code",
   "execution_count": 48,
   "id": "34ea83ee-af0d-4bc5-ad9f-9faa67ed4134",
   "metadata": {},
   "outputs": [
    {
     "name": "stdout",
     "output_type": "stream",
     "text": [
      "bmw 1 4\n",
      "bmw 10 4\n"
     ]
    }
   ],
   "source": [
    "class Car:\n",
    "    wheels = 4\n",
    "    def __init__(self):\n",
    "        self.mil = 10\n",
    "        self.com = 'bmw'\n",
    "\n",
    "c1 = Car()\n",
    "c2 = Car()\n",
    "c1.mil = 1\n",
    "print(c1.com, c1.mil, c1.wheels)\n",
    "print(c2.com, c2.mil, c2.wheels)"
   ]
  },
  {
   "cell_type": "markdown",
   "id": "c3163584-a050-4e01-9304-8cea66aceda2",
   "metadata": {},
   "source": [
    "**Inheritance**"
   ]
  },
  {
   "cell_type": "code",
   "execution_count": 5,
   "id": "fcfd3452-73ad-47f9-abb3-74139e92ea8d",
   "metadata": {},
   "outputs": [
    {
     "name": "stdout",
     "output_type": "stream",
     "text": [
      "Animals makes a sound.\n",
      "Bruno barks.\n",
      "Whiskers meows.\n"
     ]
    }
   ],
   "source": [
    "class Animal:\n",
    "    def __init__(self, name):\n",
    "        self.name = name\n",
    "\n",
    "    def speak(self):\n",
    "        print(f\"{self.name} makes a sound.\")\n",
    "\n",
    "class Dog(Animal):\n",
    "    def speak(self):\n",
    "        print(f\"{self.name} barks.\")\n",
    "\n",
    "class Cat(Animal):\n",
    "    def speak(self):\n",
    "        print(f\"{self.name} meows.\")\n",
    "\n",
    "dog = Dog(\"Bruno\")\n",
    "cat = Cat(\"Whiskers\")\n",
    "a = Animal(\"Animals\")\n",
    "\n",
    "a.speak()\n",
    "dog.speak() \n",
    "cat.speak()"
   ]
  },
  {
   "cell_type": "markdown",
   "id": "734340b3-a102-4ffd-aef2-587f3c522800",
   "metadata": {},
   "source": [
    "**Constructor in Inheritance**"
   ]
  },
  {
   "cell_type": "code",
   "execution_count": 8,
   "id": "fcb2ecdd-25e2-4080-a5c7-ee0aa88e5487",
   "metadata": {},
   "outputs": [
    {
     "name": "stdout",
     "output_type": "stream",
     "text": [
      "Animal constructor called. Name: Bruno\n",
      "Dog constructor called. Breed: Golden Retriever\n"
     ]
    }
   ],
   "source": [
    "class Animal:\n",
    "    def __init__(self, name):\n",
    "        self.name = name\n",
    "        print(f\"Animal constructor called. Name: {self.name}\")\n",
    "\n",
    "class Dog(Animal):\n",
    "    def __init__(self, name, breed):\n",
    "        super().__init__(name)  \n",
    "        self.breed = breed\n",
    "        print(f\"Dog constructor called. Breed: {self.breed}\")\n",
    "\n",
    "d = Dog(\"Bruno\", \"Golden Retriever\")"
   ]
  },
  {
   "cell_type": "markdown",
   "id": "8da24757-b002-4220-914a-9717a2583c3c",
   "metadata": {},
   "source": [
    "**Polymorphism**"
   ]
  },
  {
   "cell_type": "code",
   "execution_count": 10,
   "id": "004637cc-181e-4c90-9c96-5480a055482d",
   "metadata": {},
   "outputs": [
    {
     "name": "stdout",
     "output_type": "stream",
     "text": [
      "Dog barks\n",
      "Cat meows\n",
      "Animal speaks\n"
     ]
    }
   ],
   "source": [
    "class Animal:\n",
    "    def speak(self):\n",
    "        print(\"Animal speaks\")\n",
    "\n",
    "class Dog(Animal):\n",
    "    def speak(self):\n",
    "        print(\"Dog barks\")\n",
    "\n",
    "class Cat(Animal):\n",
    "    def speak(self):\n",
    "        print(\"Cat meows\")\n",
    "\n",
    "animals = [Dog(), Cat(), Animal()]\n",
    "\n",
    "for a in animals:\n",
    "    a.speak()"
   ]
  },
  {
   "cell_type": "markdown",
   "id": "7f114cfa-3266-491d-9ef6-d20df512cb40",
   "metadata": {},
   "source": [
    "**Duck Typing**"
   ]
  },
  {
   "cell_type": "code",
   "execution_count": 12,
   "id": "6ae021a0-5b77-4043-8374-856a8f3cff32",
   "metadata": {},
   "outputs": [
    {
     "name": "stdout",
     "output_type": "stream",
     "text": [
      "Quack\n",
      "Bark\n"
     ]
    }
   ],
   "source": [
    "class Duck:\n",
    "    def sound(self):\n",
    "        print(\"Quack\")\n",
    "\n",
    "class Dog:\n",
    "    def sound(self):\n",
    "        print(\"Bark\")\n",
    "\n",
    "def make_sound(animal):\n",
    "    animal.sound()\n",
    "\n",
    "d = Duck()\n",
    "g = Dog()\n",
    "\n",
    "make_sound(d)\n",
    "make_sound(g)"
   ]
  },
  {
   "cell_type": "markdown",
   "id": "a8f4927c-bd0c-4a06-b999-ef5184889636",
   "metadata": {},
   "source": [
    "**Types of variable**"
   ]
  },
  {
   "cell_type": "code",
   "execution_count": 22,
   "id": "30a6db1b-e6ac-4ea3-a7ad-d819d7d3c6b1",
   "metadata": {},
   "outputs": [],
   "source": [
    "# Global variable\n",
    "school_name = \"ABC Public School\"\n",
    "\n",
    "class Student:\n",
    "    # Class variable\n",
    "    school_code = \"ABC123\"\n",
    "\n",
    "    def __init__(self, name, grade):\n",
    "        # Instance variables\n",
    "        self.name = name\n",
    "        self.grade = grade\n",
    "\n",
    "    def display_info(self):\n",
    "        # Local variable\n",
    "        greeting = \"Welcome\"\n",
    "        print(f\"{greeting}, {self.name}!\")\n",
    "        print(f\"Grade: {self.grade}\")\n",
    "        print(f\"School Name: {school_name}\")\n",
    "        print(f\"School Code: {Student.school_code}\")"
   ]
  },
  {
   "cell_type": "code",
   "execution_count": 24,
   "id": "8280bab8-1eb0-4c53-9105-3e7e1c941fd4",
   "metadata": {},
   "outputs": [
    {
     "name": "stdout",
     "output_type": "stream",
     "text": [
      "Welcome, Alice!\n",
      "Grade: 10th\n",
      "School Name: ABC Public School\n",
      "School Code: ABC123\n",
      "\n",
      "Welcome, Bob!\n",
      "Grade: 12th\n",
      "School Name: ABC Public School\n",
      "School Code: ABC123\n"
     ]
    }
   ],
   "source": [
    "s1 = Student(\"Alice\", \"10th\")\n",
    "s2 = Student(\"Bob\", \"12th\")\n",
    "\n",
    "s1.display_info()\n",
    "print()\n",
    "s2.display_info()"
   ]
  },
  {
   "cell_type": "markdown",
   "id": "771db9b0-153d-4165-9ef4-f53721d027b7",
   "metadata": {},
   "source": [
    "**Types of Methods**"
   ]
  },
  {
   "cell_type": "code",
   "execution_count": 27,
   "id": "fbf54c2c-775d-4697-9155-ea0ca3d02964",
   "metadata": {},
   "outputs": [],
   "source": [
    "class Demo:\n",
    "    # Class variable\n",
    "    class_name = \"DemoClass\"\n",
    "\n",
    "    def __init__(self, value):\n",
    "        # Instance variable\n",
    "        self.value = value\n",
    "\n",
    "    # Instance Method\n",
    "    def instance_method(self):\n",
    "        print(\"Instance Method Called\")\n",
    "        print(f\"Value: {self.value}\")\n",
    "\n",
    "    # Class Method\n",
    "    @classmethod\n",
    "    def class_method(cls):\n",
    "        print(\"Class Method Called\")\n",
    "        print(f\"Class Name: {cls.class_name}\")\n",
    "\n",
    "    # Static Method\n",
    "    @staticmethod\n",
    "    def static_method():\n",
    "        print(\"Static Method Called\")\n",
    "        print(\"This method does not use instance or class data\")"
   ]
  },
  {
   "cell_type": "code",
   "execution_count": 30,
   "id": "c1dbfdf4-2088-4869-a6cd-cf47bd337b01",
   "metadata": {},
   "outputs": [
    {
     "name": "stdout",
     "output_type": "stream",
     "text": [
      "Instance Method Called\n",
      "Value: 42\n",
      "\n",
      "Class Method Called\n",
      "Class Name: DemoClass\n",
      "\n",
      "Static Method Called\n",
      "This method does not use instance or class data\n"
     ]
    }
   ],
   "source": [
    "obj = Demo(42)\n",
    "\n",
    "obj.instance_method()\n",
    "print()\n",
    "obj.class_method()\n",
    "print()\n",
    "obj.static_method()"
   ]
  },
  {
   "cell_type": "markdown",
   "id": "bd4c480c-ff97-4b26-972c-05b7a71dfb05",
   "metadata": {},
   "source": [
    "**Operator Overloading**"
   ]
  },
  {
   "cell_type": "code",
   "execution_count": 32,
   "id": "c5b1ed69-9eb3-4a03-befc-cfd2f2a5c04c",
   "metadata": {},
   "outputs": [],
   "source": [
    "class Point:\n",
    "    def __init__(self, x, y):\n",
    "        self.x = x\n",
    "        self.y = y\n",
    "\n",
    "    def __add__(self, other):\n",
    "        return Point(self.x + other.x, self.y + other.y)\n",
    "\n",
    "    def __str__(self):\n",
    "        return f\"({self.x}, {self.y})\""
   ]
  },
  {
   "cell_type": "code",
   "execution_count": 34,
   "id": "f6143c4f-7c8b-449b-89da-674e28fd324b",
   "metadata": {},
   "outputs": [
    {
     "name": "stdout",
     "output_type": "stream",
     "text": [
      "Result of p1 + p2 = (6, 8)\n"
     ]
    }
   ],
   "source": [
    "p1 = Point(2, 3)\n",
    "p2 = Point(4, 5)\n",
    "\n",
    "result = p1 + p2\n",
    "\n",
    "print(\"Result of p1 + p2 =\", result)"
   ]
  },
  {
   "cell_type": "markdown",
   "id": "25394c54-57f8-4bbc-8070-2eab07b52b12",
   "metadata": {},
   "source": [
    "**Method Overloading**"
   ]
  },
  {
   "cell_type": "code",
   "execution_count": 36,
   "id": "8310e545-bb38-4b85-b124-d714297688d8",
   "metadata": {},
   "outputs": [
    {
     "name": "stdout",
     "output_type": "stream",
     "text": [
      "5\n",
      "8\n",
      "10\n"
     ]
    }
   ],
   "source": [
    "class Calculator:\n",
    "    def add(self, a, b=0, c=0):\n",
    "        return a + b + c\n",
    "\n",
    "calc = Calculator()\n",
    "print(calc.add(5))        \n",
    "print(calc.add(5, 3))     \n",
    "print(calc.add(5, 3, 2))"
   ]
  },
  {
   "cell_type": "markdown",
   "id": "8601880c-aa9e-433b-92c0-d49910d6e613",
   "metadata": {},
   "source": [
    "**Method Overriding**"
   ]
  },
  {
   "cell_type": "code",
   "execution_count": 38,
   "id": "db92308a-71dc-4ae8-85bf-7565e210ac5a",
   "metadata": {},
   "outputs": [
    {
     "name": "stdout",
     "output_type": "stream",
     "text": [
      "Animal makes a sound\n",
      "Dog barks\n"
     ]
    }
   ],
   "source": [
    "class Animal:\n",
    "    def speak(self):\n",
    "        print(\"Animal makes a sound\")\n",
    "\n",
    "class Dog(Animal):\n",
    "    def speak(self):\n",
    "        print(\"Dog barks\")\n",
    "\n",
    "a = Animal()\n",
    "d = Dog()\n",
    "\n",
    "a.speak() \n",
    "d.speak()"
   ]
  },
  {
   "cell_type": "markdown",
   "id": "bc5148b5-4278-47c8-9ee9-d55c326c5aae",
   "metadata": {},
   "source": [
    "**Inner Class**"
   ]
  },
  {
   "cell_type": "code",
   "execution_count": 39,
   "id": "d04eef72-4025-40bf-9515-eefaacffa947",
   "metadata": {},
   "outputs": [
    {
     "name": "stdout",
     "output_type": "stream",
     "text": [
      "This is the outer class\n",
      "This is the inner class\n"
     ]
    }
   ],
   "source": [
    "class Outer:\n",
    "    def __init__(self):\n",
    "        self.name = \"Outer Class\"\n",
    "\n",
    "    def show(self):\n",
    "        print(\"This is the outer class\")\n",
    "\n",
    "    class Inner:\n",
    "        def __init__(self):\n",
    "            self.name = \"Inner Class\"\n",
    "\n",
    "        def display(self):\n",
    "            print(\"This is the inner class\")\n",
    "\n",
    "outer = Outer()\n",
    "outer.show()\n",
    "\n",
    "inner = Outer.Inner()\n",
    "inner.display()"
   ]
  }
 ],
 "metadata": {
  "kernelspec": {
   "display_name": "Python 3 (ipykernel)",
   "language": "python",
   "name": "python3"
  },
  "language_info": {
   "codemirror_mode": {
    "name": "ipython",
    "version": 3
   },
   "file_extension": ".py",
   "mimetype": "text/x-python",
   "name": "python",
   "nbconvert_exporter": "python",
   "pygments_lexer": "ipython3",
   "version": "3.13.5"
  }
 },
 "nbformat": 4,
 "nbformat_minor": 5
}
