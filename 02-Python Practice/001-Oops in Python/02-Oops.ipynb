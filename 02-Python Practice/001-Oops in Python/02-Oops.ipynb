{
 "cells": [
  {
   "cell_type": "markdown",
   "id": "b1737356-ba7c-4f80-9c4b-50c5c7c7fd39",
   "metadata": {},
   "source": [
    "**Python program to build flashcard using class**"
   ]
  },
  {
   "cell_type": "code",
   "execution_count": 3,
   "id": "bc9cb523-93f9-456f-a380-4d3f8c610f98",
   "metadata": {},
   "outputs": [
    {
     "name": "stdout",
     "output_type": "stream",
     "text": [
      "Welcome to Flashcard Application\n"
     ]
    },
    {
     "name": "stdin",
     "output_type": "stream",
     "text": [
      "Enter the Word:  OOPs\n",
      "Enter the Meaning of the Word:  Object Oriented Programming\n",
      "If you want to add another flashcard,enter 0:  0\n",
      "Enter the Word:  DSA\n",
      "Enter the Meaning of the Word:  Data Stucture and Analysis\n",
      "If you want to add another flashcard,enter 0:  1\n"
     ]
    },
    {
     "name": "stdout",
     "output_type": "stream",
     "text": [
      "\n",
      "Your flashcards\n",
      "> OOPs ( Object Oriented Programming )\n",
      "> DSA ( Data Stucture and Analysis )\n"
     ]
    }
   ],
   "source": [
    "class flashcard:\n",
    "    def __init__(self,w,m):\n",
    "        self.word = w\n",
    "        self.meaning = m\n",
    "    def __str__(self):\n",
    "        return self.word+' ( '+self.meaning+' )'\n",
    "\n",
    "f = []\n",
    "print(\"Welcome to Flashcard Application\")\n",
    "\n",
    "while True:\n",
    "    w = input(\"Enter the Word: \")\n",
    "    m = input(\"Enter the Meaning of the Word: \")\n",
    "    f.append(flashcard(w,m))\n",
    "    o = int(input(\"If you want to add another flashcard,enter 0: \"))\n",
    "\n",
    "    if o:\n",
    "        break\n",
    "\n",
    "print(\"\\nYour flashcards\")\n",
    "for i in f:\n",
    "    print(\">\", i)"
   ]
  },
  {
   "cell_type": "markdown",
   "id": "c6ae9940-11b7-45b3-acc3-dcd579093ca2",
   "metadata": {},
   "source": [
    "**Shuffle a deck of card**"
   ]
  },
  {
   "cell_type": "code",
   "execution_count": 6,
   "id": "815a3b35-e186-42ad-8f71-e686e9f8dab7",
   "metadata": {},
   "outputs": [],
   "source": [
    "from random import shuffle"
   ]
  },
  {
   "cell_type": "code",
   "execution_count": 30,
   "id": "8dfc3f14-3996-4925-846e-61ccfa88462c",
   "metadata": {},
   "outputs": [],
   "source": [
    "class Cards:\n",
    "    \n",
    "    global suites, values\n",
    "    suites = ['Hearts', 'Diamonds', 'Clubs', 'Spades']\n",
    "    values = ['A', '2', '3', '4', '5', '6', '7', '8', '9', '10', 'J', 'Q', 'K']\n",
    "\n",
    "    def __init__(self):\n",
    "        pass       "
   ]
  },
  {
   "cell_type": "code",
   "execution_count": 32,
   "id": "66c4784b-0540-4183-adf1-6b8ad40fdd22",
   "metadata": {},
   "outputs": [],
   "source": [
    "class Deck(Cards):\n",
    "    def __init__(self):\n",
    "        Cards.__init__(self)\n",
    "        self.mycardset = []\n",
    "        for n in suites:\n",
    "            for c in values:\n",
    "                self.mycardset.append((c)+\" \"+\"of\"+\" \"+n)\n",
    "\n",
    "    def popCard(self):\n",
    "        if len(self.mycardset) == 0:\n",
    "            return \"NO CARDS CAN BE POPPED FURTHER\"\n",
    "        else:\n",
    "            cardpopped = self.mycardset.pop()\n",
    "            print(\"Card removed is\", cardpopped)"
   ]
  },
  {
   "cell_type": "code",
   "execution_count": 34,
   "id": "24492b23-3035-45ff-8cf0-a8f3de5dbcc9",
   "metadata": {},
   "outputs": [],
   "source": [
    "class ShuffleCards(Deck):\n",
    "\n",
    "    def __init__(self):\n",
    "        Deck.__init__(self)\n",
    "\n",
    "    def shuffle(self):\n",
    "        if len(self.mycardset) < 52:\n",
    "            print(\"cannot shuffle the cards\")\n",
    "        else:\n",
    "            shuffle(self.mycardset)\n",
    "            return self.mycardset\n",
    "\n",
    "    def popCard(self):\n",
    "        if len(self.mycardset) == 0:\n",
    "            return \"NO CARDS CAN BE POPPED FURTHER\"\n",
    "        else:\n",
    "            cardpopped = self.mycardset.pop()\n",
    "            return (cardpopped)"
   ]
  },
  {
   "cell_type": "code",
   "execution_count": 35,
   "id": "2f3cf743-29b5-4306-a45c-6c2159adbe0f",
   "metadata": {},
   "outputs": [
    {
     "name": "stdout",
     "output_type": "stream",
     "text": [
      "\n",
      " Player 1 Cards: \n",
      " ['A of Hearts', '2 of Hearts', '3 of Hearts', '4 of Hearts', '5 of Hearts', '6 of Hearts', '7 of Hearts', '8 of Hearts', '9 of Hearts', '10 of Hearts', 'J of Hearts', 'Q of Hearts', 'K of Hearts', 'A of Diamonds', '2 of Diamonds', '3 of Diamonds', '4 of Diamonds', '5 of Diamonds', '6 of Diamonds', '7 of Diamonds', '8 of Diamonds', '9 of Diamonds', '10 of Diamonds', 'J of Diamonds', 'Q of Diamonds', 'K of Diamonds', 'A of Clubs', '2 of Clubs', '3 of Clubs', '4 of Clubs', '5 of Clubs', '6 of Clubs', '7 of Clubs', '8 of Clubs', '9 of Clubs', '10 of Clubs', 'J of Clubs', 'Q of Clubs', 'K of Clubs', 'A of Spades', '2 of Spades', '3 of Spades', '4 of Spades', '5 of Spades', '6 of Spades', '7 of Spades', '8 of Spades', '9 of Spades', '10 of Spades', 'J of Spades', 'Q of Spades', 'K of Spades']\n",
      "\n",
      " Player 2 Cards: \n",
      " ['A of Diamonds', '2 of Diamonds', '4 of Clubs', 'A of Spades', '8 of Hearts', '7 of Hearts', 'Q of Diamonds', '6 of Clubs', '2 of Hearts', '10 of Clubs', '2 of Spades', '9 of Hearts', '9 of Clubs', '6 of Hearts', '5 of Clubs', '10 of Spades', '4 of Hearts', '8 of Diamonds', 'K of Diamonds', 'J of Hearts', '4 of Diamonds', '5 of Diamonds', 'A of Hearts', '3 of Clubs', '3 of Hearts', '3 of Diamonds', '10 of Diamonds', 'Q of Spades', '6 of Spades', '7 of Diamonds', 'J of Spades', '8 of Spades', '4 of Spades', 'Q of Hearts', 'A of Clubs', '7 of Clubs', '8 of Clubs', '10 of Hearts', '5 of Hearts', 'K of Spades', '7 of Spades', '5 of Spades', 'K of Clubs', 'J of Diamonds', 'Q of Clubs', '2 of Clubs', '3 of Spades', 'K of Hearts', '6 of Diamonds', '9 of Spades', 'J of Clubs', '9 of Diamonds']\n",
      "\n",
      " Removing a card from the deck: 9 of Diamonds\n",
      "\n",
      " Removing another card from the deck: J of Clubs\n"
     ]
    }
   ],
   "source": [
    "objCards = Cards()\n",
    "objDeck = Deck()\n",
    "\n",
    "player1Cards = objDeck.mycardset\n",
    "print('\\n Player 1 Cards: \\n', player1Cards)\n",
    "\n",
    "objShuffleCards = ShuffleCards()\n",
    "\n",
    "player2Cards = objShuffleCards.shuffle()\n",
    "print('\\n Player 2 Cards: \\n', player2Cards)\n",
    "\n",
    "print('\\n Removing a card from the deck:', objShuffleCards.popCard())\n",
    "print('\\n Removing another card from the deck:', objShuffleCards.popCard())"
   ]
  },
  {
   "cell_type": "markdown",
   "id": "9d1f2e1f-78d6-42a2-9e39-d3cfec54b8ce",
   "metadata": {},
   "source": [
    "**How to create an empty class**"
   ]
  },
  {
   "cell_type": "code",
   "execution_count": 38,
   "id": "607bdcae-b87d-49b7-b9e1-d65c92d446d2",
   "metadata": {},
   "outputs": [
    {
     "name": "stdout",
     "output_type": "stream",
     "text": [
      "<__main__.empty object at 0x000002C6DF9D6510>\n"
     ]
    }
   ],
   "source": [
    "class empty:\n",
    "    pass\n",
    "\n",
    "obj = empty()\n",
    "print(obj)"
   ]
  },
  {
   "cell_type": "markdown",
   "id": "211f86e3-e1df-4096-a736-4d36c5c5d7e6",
   "metadata": {},
   "source": [
    "**Student management system in Python**\n",
    "\n",
    "Write a program to build a simple Student Management System using Python which can perform the following operations:<br>\n",
    "\n",
    "Accept<br>\n",
    "Display<br>\n",
    "Search<br>\n",
    "Delete<br>\n",
    "Update<br>"
   ]
  },
  {
   "cell_type": "code",
   "execution_count": 61,
   "id": "9927ab49-0b2f-4275-b429-632cb27db4b7",
   "metadata": {},
   "outputs": [],
   "source": [
    "class Student:\n",
    "\n",
    "    def __init__(self, name, rollno, m1, m2):\n",
    "        self.name = name\n",
    "        self.rollno = rollno\n",
    "        self.m1 = m1\n",
    "        self.m2 = m2\n",
    "\n",
    "    def accept(self, Name, Rollno, marks1, marks2):\n",
    "\n",
    "        ob = Student(Name, Rollno, marks1, marks2)\n",
    "        ls.append(ob)\n",
    "\n",
    "    def display(self, ob):\n",
    "        print(\"Name : \", ob.name)\n",
    "        print(\"RollNo : \", ob.rollno)\n",
    "        print(\"Marks1 : \", ob.m1)\n",
    "        print(\"Marks2 : \", ob.m2)\n",
    "        print(\"\\n\")\n",
    "\n",
    "    def search(self, rn):\n",
    "        for i in range(ls.__len__()):\n",
    "            if(ls[i].rollno == rn):\n",
    "                return i\n",
    "\n",
    "    def delete(self, rn):\n",
    "        i = obj.search(rn)\n",
    "        del ls[i]\n",
    "\n",
    "    def update(self, rn, No):\n",
    "        i = obj.search(rn)\n",
    "        roll = No\n",
    "        ls[i].rollno = roll"
   ]
  },
  {
   "cell_type": "code",
   "execution_count": 68,
   "id": "8d3740a1-751d-4854-a449-60bee94b7be9",
   "metadata": {},
   "outputs": [
    {
     "name": "stdout",
     "output_type": "stream",
     "text": [
      "\n",
      "Operations used, \n",
      "\n",
      "1.Accept Student details\n",
      "2.Display Student Details\n",
      "3.Search Details of a Student\n",
      "4.Delete Details of Student\n",
      "5.Update Student Details\n",
      "6.Exit\n"
     ]
    }
   ],
   "source": [
    "ls = []\n",
    "# an object of Student class\n",
    "obj = Student('', 0, 0, 0)\n",
    "\n",
    "print(\"\\nOperations used, \")\n",
    "print(\"\\n1.Accept Student details\\n2.Display Student Details\\n3.Search Details of a Student\\n4.Delete Details of Student\\n5.Update Student Details\\n6.Exit\")"
   ]
  },
  {
   "cell_type": "code",
   "execution_count": 71,
   "id": "6a30153e-f775-4b20-b095-45386b6f956f",
   "metadata": {},
   "outputs": [
    {
     "name": "stdout",
     "output_type": "stream",
     "text": [
      "\n",
      "List of Students\n",
      "\n",
      "Name :  A\n",
      "RollNo :  1\n",
      "Marks1 :  100\n",
      "Marks2 :  100\n",
      "\n",
      "\n",
      "Name :  A\n",
      "RollNo :  1\n",
      "Marks1 :  100\n",
      "Marks2 :  100\n",
      "\n",
      "\n",
      "Name :  B\n",
      "RollNo :  2\n",
      "Marks1 :  90\n",
      "Marks2 :  90\n",
      "\n",
      "\n",
      "Name :  C\n",
      "RollNo :  2\n",
      "Marks1 :  80\n",
      "Marks2 :  80\n",
      "\n",
      "\n",
      "Name :  A\n",
      "RollNo :  1\n",
      "Marks1 :  100\n",
      "Marks2 :  100\n",
      "\n",
      "\n",
      "Name :  B\n",
      "RollNo :  2\n",
      "Marks1 :  90\n",
      "Marks2 :  90\n",
      "\n",
      "\n",
      "Name :  C\n",
      "RollNo :  3\n",
      "Marks1 :  80\n",
      "Marks2 :  80\n",
      "\n",
      "\n",
      "\n",
      " Student Found, \n",
      "Name :  B\n",
      "RollNo :  2\n",
      "Marks1 :  90\n",
      "Marks2 :  90\n",
      "\n",
      "\n",
      "6\n",
      "List after deletion\n",
      "Name :  A\n",
      "RollNo :  1\n",
      "Marks1 :  100\n",
      "Marks2 :  100\n",
      "\n",
      "\n",
      "Name :  A\n",
      "RollNo :  1\n",
      "Marks1 :  100\n",
      "Marks2 :  100\n",
      "\n",
      "\n",
      "Name :  C\n",
      "RollNo :  2\n",
      "Marks1 :  80\n",
      "Marks2 :  80\n",
      "\n",
      "\n",
      "Name :  A\n",
      "RollNo :  1\n",
      "Marks1 :  100\n",
      "Marks2 :  100\n",
      "\n",
      "\n",
      "Name :  B\n",
      "RollNo :  2\n",
      "Marks1 :  90\n",
      "Marks2 :  90\n",
      "\n",
      "\n",
      "Name :  C\n",
      "RollNo :  3\n",
      "Marks1 :  80\n",
      "Marks2 :  80\n",
      "\n",
      "\n",
      "6\n",
      "List after updation\n",
      "Name :  A\n",
      "RollNo :  1\n",
      "Marks1 :  100\n",
      "Marks2 :  100\n",
      "\n",
      "\n",
      "Name :  A\n",
      "RollNo :  1\n",
      "Marks1 :  100\n",
      "Marks2 :  100\n",
      "\n",
      "\n",
      "Name :  C\n",
      "RollNo :  2\n",
      "Marks1 :  80\n",
      "Marks2 :  80\n",
      "\n",
      "\n",
      "Name :  A\n",
      "RollNo :  1\n",
      "Marks1 :  100\n",
      "Marks2 :  100\n",
      "\n",
      "\n",
      "Name :  B\n",
      "RollNo :  2\n",
      "Marks1 :  90\n",
      "Marks2 :  90\n",
      "\n",
      "\n",
      "Name :  C\n",
      "RollNo :  2\n",
      "Marks1 :  80\n",
      "Marks2 :  80\n",
      "\n",
      "\n"
     ]
    }
   ],
   "source": [
    "\n",
    "# ch = int(input(\"Enter choice:\"))\n",
    "# if(ch == 1):\n",
    "obj.accept(\"A\", 1, 100, 100)\n",
    "obj.accept(\"B\", 2, 90, 90)\n",
    "obj.accept(\"C\", 3, 80, 80)\n",
    "\n",
    "# elif(ch == 2):\n",
    "print(\"\\nList of Students\\n\")\n",
    "for i in range(ls.__len__()):\n",
    "    obj.display(ls[i])\n",
    "\n",
    "# elif(ch == 3):\n",
    "print(\"\\n Student Found, \")\n",
    "s = obj.search(2)\n",
    "obj.display(ls[s])\n",
    "\n",
    "# elif(ch == 4):\n",
    "obj.delete(2)\n",
    "print(ls.__len__())\n",
    "print(\"List after deletion\")\n",
    "for i in range(ls.__len__()):\n",
    "    obj.display(ls[i])\n",
    "\n",
    "# elif(ch == 5):\n",
    "obj.update(3, 2)\n",
    "print(ls.__len__())\n",
    "print(\"List after updation\")\n",
    "for i in range(ls.__len__()):\n",
    "    obj.display(ls[i])\n"
   ]
  },
  {
   "cell_type": "markdown",
   "id": "f818b626-f6b3-45f9-9062-33e66ac9c4e6",
   "metadata": {},
   "source": [
    "**create a list of object in Python class**"
   ]
  },
  {
   "cell_type": "code",
   "execution_count": 72,
   "id": "7b5c06aa-85b1-468d-9568-17f59f71f2d3",
   "metadata": {},
   "outputs": [
    {
     "name": "stdout",
     "output_type": "stream",
     "text": [
      "Akash 2\n",
      "Deependra 40\n",
      "Reaper 44\n",
      "Veer 67\n"
     ]
    }
   ],
   "source": [
    "class fun:\n",
    "    def __init__(self, name, roll):\n",
    "        self.name = name\n",
    "        self.roll = roll\n",
    "\n",
    "a = [fun(name, roll) for name, roll in [('Akash', 2), ('Deependra', 40), ('Reaper', 44), ('Veer', 67)]]\n",
    "\n",
    "for obj in a:\n",
    "    print(obj.name, obj.roll, sep=' ')"
   ]
  }
 ],
 "metadata": {
  "kernelspec": {
   "display_name": "Python 3 (ipykernel)",
   "language": "python",
   "name": "python3"
  },
  "language_info": {
   "codemirror_mode": {
    "name": "ipython",
    "version": 3
   },
   "file_extension": ".py",
   "mimetype": "text/x-python",
   "name": "python",
   "nbconvert_exporter": "python",
   "pygments_lexer": "ipython3",
   "version": "3.13.5"
  }
 },
 "nbformat": 4,
 "nbformat_minor": 5
}
