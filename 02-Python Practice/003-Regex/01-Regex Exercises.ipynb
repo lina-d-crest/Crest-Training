{
 "cells": [
  {
   "cell_type": "markdown",
   "id": "6cb527e9-019c-4dbf-87aa-f4ea5901fd7a",
   "metadata": {},
   "source": [
    "**A string str in which you have to find all the numbers and print them.**\n",
    "\n",
    "Input:<br> \n",
    "str = asdasd123asmdasdk34234kfdsd34sdfk5<br>\n",
    "Output: <br>\n",
    "123 34234 34 5"
   ]
  },
  {
   "cell_type": "code",
   "execution_count": 4,
   "id": "522f98d4-7ab0-4011-b449-0be09cbe8b51",
   "metadata": {},
   "outputs": [],
   "source": [
    "import re"
   ]
  },
  {
   "cell_type": "code",
   "execution_count": 7,
   "id": "68e60859-993a-41ed-b409-a001b897d487",
   "metadata": {},
   "outputs": [
    {
     "name": "stdout",
     "output_type": "stream",
     "text": [
      "123 34234 34 5\n"
     ]
    }
   ],
   "source": [
    "s = 'asdasd123asmdasdk34234kfdsd34sdfk5'\n",
    "n = re.findall(r'\\d+',s)\n",
    "print(\" \".join(n))"
   ]
  },
  {
   "cell_type": "markdown",
   "id": "eda0d1fc-bad2-438e-ab83-616ab5f01919",
   "metadata": {},
   "source": [
    "**Regex to validate a password. You will be provided a string str which you have to validate.**\n",
    "The validation rules are as follows:<br>\n",
    "\n",
    "The string is valid only if it starts with lowercase characters, followed by special characters !@#$% followed by numbers.<br>\n",
    "In any other case the string is not valid.<br>\n",
    "Example:<br>\n",
    "\n",
    "Input:<br> \n",
    "str = asdsab@!@234<br>\n",
    "Output: <br>\n",
    "True<br>\n",
    "Explanation:<br> \n",
    "The string is valid as characters arefollowed by special case characters which are then followed by numbers."
   ]
  },
  {
   "cell_type": "code",
   "execution_count": 11,
   "id": "e2221c43-b102-478d-a299-8de91abd4732",
   "metadata": {},
   "outputs": [
    {
     "name": "stdout",
     "output_type": "stream",
     "text": [
      "True\n"
     ]
    }
   ],
   "source": [
    "s = 'asdsab@!@234'\n",
    "pattern = r'^[a-z]+[!@#$%]+[0-9]+$'\n",
    "print(bool(re.fullmatch(pattern, s)))"
   ]
  },
  {
   "cell_type": "markdown",
   "id": "068b2647-2f3e-41cf-9c64-0a29fb9cbc94",
   "metadata": {},
   "source": [
    "**find Indices of Overlapping Substrings**\n",
    "\n",
    "Input: String: Input: String: \"barfoobarfoobarfoobarfoobarfoo\" ;  Pattern: \"foobarfoo\"  <br>\n",
    "Output: [3, 9,15, 21]  <br>\n",
    "Explanation: The pattern is overlapping the string from index 3, 9 , 15 and 21."
   ]
  },
  {
   "cell_type": "code",
   "execution_count": 14,
   "id": "4a4f91f4-74e2-4156-b69b-cfe785e80b88",
   "metadata": {},
   "outputs": [
    {
     "name": "stdout",
     "output_type": "stream",
     "text": [
      "[3, 9, 15, 21]\n"
     ]
    }
   ],
   "source": [
    "string = 'barfoobarfoobarfoobarfoobarfoo'\n",
    "pattern = 'foobarfoo'\n",
    "\n",
    "matches = [m.start() for m in re.finditer(f'(?={pattern})', string)]\n",
    "print(matches)"
   ]
  },
  {
   "cell_type": "markdown",
   "id": "78f483ab-b797-49e9-867d-279516e58434",
   "metadata": {},
   "source": [
    "**Check if String Contain Only Defined Characters**\n",
    "\n",
    "Input: ‘214’ let us say regular expression contains the following characters- (‘1234’)<br>\n",
    "Output: Valid<br>\n",
    "Explanation: The Input string only consists of characters present in the given string."
   ]
  },
  {
   "cell_type": "code",
   "execution_count": 18,
   "id": "3911849a-4223-4f20-be79-74a2f5e2b085",
   "metadata": {},
   "outputs": [
    {
     "name": "stdout",
     "output_type": "stream",
     "text": [
      "Valid String\n",
      "Invalid String\n"
     ]
    }
   ],
   "source": [
    "def check(str, pattern):\n",
    "    if re.search(pattern, str):\n",
    "        print(\"Valid String\")\n",
    "    else:\n",
    "        print(\"Invalid String\")\n",
    "\n",
    "pattern = re.compile('^[1234]+$')\n",
    "check('214', pattern)\n",
    "check('215', pattern)"
   ]
  },
  {
   "cell_type": "markdown",
   "id": "f4dfc163-516f-48e4-bb0d-c3185f50b523",
   "metadata": {},
   "source": [
    "**find files having a particular extension**"
   ]
  },
  {
   "cell_type": "code",
   "execution_count": 19,
   "id": "f5006ba6-a461-4a4f-aa15-9c37a3fe1133",
   "metadata": {},
   "outputs": [
    {
     "name": "stdout",
     "output_type": "stream",
     "text": [
      "The file ending with .xml is: geeks.xml\n"
     ]
    }
   ],
   "source": [
    "filenames = [\"gfg.html\", \"geeks.xml\", \"computer.txt\", \"geeksforgeeks.jpg\"]\n",
    "\n",
    "for file in filenames: \n",
    "    match = re.search(\"\\.xml$\", file)\n",
    "    \n",
    "    if match:\n",
    "        print(\"The file ending with .xml is:\",file)"
   ]
  }
 ],
 "metadata": {
  "kernelspec": {
   "display_name": "Python 3 (ipykernel)",
   "language": "python",
   "name": "python3"
  },
  "language_info": {
   "codemirror_mode": {
    "name": "ipython",
    "version": 3
   },
   "file_extension": ".py",
   "mimetype": "text/x-python",
   "name": "python",
   "nbconvert_exporter": "python",
   "pygments_lexer": "ipython3",
   "version": "3.13.5"
  }
 },
 "nbformat": 4,
 "nbformat_minor": 5
}
